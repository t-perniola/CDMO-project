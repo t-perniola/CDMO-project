{
 "cells": [
  {
   "cell_type": "code",
   "execution_count": 315,
   "metadata": {},
   "outputs": [],
   "source": [
    "import gurobipy as gp\n",
    "import numpy as np\n",
    "import pandas as pd\n",
    "from datetime import datetime\n",
    "from math import floor\n",
    "import json"
   ]
  },
  {
   "cell_type": "code",
   "execution_count": 316,
   "metadata": {},
   "outputs": [],
   "source": [
    "starting_time = datetime.now()\n",
    "time_limit = 5*60"
   ]
  },
  {
   "cell_type": "markdown",
   "metadata": {},
   "source": [
    "Read data"
   ]
  },
  {
   "cell_type": "code",
   "execution_count": 317,
   "metadata": {},
   "outputs": [
    {
     "data": {
      "text/plain": [
       "\"\\nfile_path = 'inst08.dzn'  # Path to your .dzn file\\nparsed_data = parse_dzn(file_path)\\nprint(parsed_data)\\n\""
      ]
     },
     "execution_count": 317,
     "metadata": {},
     "output_type": "execute_result"
    }
   ],
   "source": [
    "import re\n",
    "\n",
    "def parse_dzn(file_path):\n",
    "    data = {}\n",
    "    with open(file_path, 'r') as file:\n",
    "        content = file.read()\n",
    "        \n",
    "        # Find all key-value pairs\n",
    "        key_value_pairs = re.findall(r'(\\w+)\\s*=\\s*(.*?);', content, re.DOTALL)\n",
    "        \n",
    "        for key, value in key_value_pairs:\n",
    "            # Remove any extra whitespace and newlines\n",
    "            value = value.strip().replace('\\n', '')\n",
    "\n",
    "            #Parse matrix\n",
    "            if key == 'D':\n",
    "                rows = value.split('|')\n",
    "                D = []\n",
    "                for i in range(1,len(rows)-1):\n",
    "                    D.append([int(v.strip()) for v in rows[i][1:-1].split(',')])\n",
    "                value = D\n",
    "            # Parse arrays\n",
    "            elif value.startswith('[') and value.endswith(']'):\n",
    "                value = value[1:-1].split(',')\n",
    "                value = [int(v.strip()) for v in value]\n",
    "            else:\n",
    "                value = int(value)\n",
    "                \n",
    "            data[key] = value\n",
    "    return data\n",
    "\n",
    "# Usage\n",
    "'''\n",
    "file_path = 'inst08.dzn'  # Path to your .dzn file\n",
    "parsed_data = parse_dzn(file_path)\n",
    "print(parsed_data)\n",
    "'''"
   ]
  },
  {
   "cell_type": "code",
   "execution_count": 318,
   "metadata": {},
   "outputs": [],
   "source": [
    "def read_dat_file(file_path):\n",
    "    with open(file_path, 'r') as file:\n",
    "        lines = file.readlines()\n",
    "    \n",
    "    # Read m and n\n",
    "    m = int(lines[0].strip())\n",
    "    n = int(lines[1].strip())\n",
    "    \n",
    "    # Read l vector\n",
    "    l = list(map(int, lines[2].strip().split()))\n",
    "    \n",
    "    # Read s vector\n",
    "    s = list(map(int, lines[3].strip().split()))\n",
    "    \n",
    "    # Read D matrix\n",
    "    D = []\n",
    "    for line in lines[4:]:\n",
    "        D.append(list(map(int, line.strip().split())))\n",
    "    \n",
    "    return {\n",
    "        'm': m,\n",
    "        'n': n,\n",
    "        'l': l,\n",
    "        's': s,\n",
    "        'D': D\n",
    "    }"
   ]
  },
  {
   "cell_type": "markdown",
   "metadata": {},
   "source": [
    "Create the model"
   ]
  },
  {
   "cell_type": "code",
   "execution_count": 319,
   "metadata": {},
   "outputs": [],
   "source": [
    "model = gp.Model()"
   ]
  },
  {
   "cell_type": "markdown",
   "metadata": {},
   "source": [
    "Parse the instance"
   ]
  },
  {
   "cell_type": "code",
   "execution_count": 320,
   "metadata": {},
   "outputs": [],
   "source": [
    "innum = input('Type instance number:\\n>')\n",
    "file_path = str(f'inst{innum}.dat')\n",
    "parsed_data = read_dat_file(file_path)\n",
    "\n",
    "m = parsed_data['m']\n",
    "n = parsed_data['n']\n",
    "s = parsed_data['s']\n",
    "l = sorted(parsed_data['l'], reverse=True)\n",
    "D = parsed_data['D']\n",
    "\n",
    "maxD = np.max(D)"
   ]
  },
  {
   "cell_type": "markdown",
   "metadata": {},
   "source": [
    "Define the variables"
   ]
  },
  {
   "cell_type": "code",
   "execution_count": 321,
   "metadata": {},
   "outputs": [],
   "source": [
    "max_total_dist = model.addVar(vtype=gp.GRB.CONTINUOUS, name='MaxTotalDist')\n",
    "\n",
    "cumulative_dist = model.addVars(m, n+1, vtype=gp.GRB.INTEGER, name='CumulativeDist')\n",
    "cumulative_load = model.addVars(m, n, lb=0, ub=n*max(s), vtype=gp.GRB.INTEGER, name='CumulativeLoad')\n",
    "\n",
    "paths = model.addVars(m, n+1, n+1, vtype=gp.GRB.BINARY, name='Paths')"
   ]
  },
  {
   "cell_type": "markdown",
   "metadata": {},
   "source": [
    "Define Objective function"
   ]
  },
  {
   "cell_type": "code",
   "execution_count": 322,
   "metadata": {},
   "outputs": [],
   "source": [
    "model.setObjective(max_total_dist, gp.GRB.MINIMIZE)"
   ]
  },
  {
   "cell_type": "markdown",
   "metadata": {},
   "source": [
    "Define Constraints"
   ]
  },
  {
   "cell_type": "code",
   "execution_count": 323,
   "metadata": {},
   "outputs": [
    {
     "data": {
      "text/plain": [
       "{0: <gurobi.Constr *Awaiting Model Update*>,\n",
       " 1: <gurobi.Constr *Awaiting Model Update*>}"
      ]
     },
     "execution_count": 323,
     "metadata": {},
     "output_type": "execute_result"
    }
   ],
   "source": [
    "#Maximum total distance is equal to the maximum total distance computed in the final depot \"slot\" for each courier\n",
    "model.addConstrs( gp.quicksum(cumulative_dist[c,j] for j in range(n+1)) <= max_total_dist for c in range(m))"
   ]
  },
  {
   "cell_type": "code",
   "execution_count": 324,
   "metadata": {},
   "outputs": [],
   "source": [
    "#Every node must be visited exactly once (except for the depot n+1)\n",
    "for dest in range(n):\n",
    "    model.addConstr(gp.quicksum(paths[c,source,dest] for c in range(m) for source in range(n+1)) <= 1)\n",
    "    model.addConstr(gp.quicksum(paths[c,source,dest] for c in range(m) for source in range(n+1)) >= 1)\n",
    "    #model.addConstr(gp.quicksum(paths[c,source,dest] for c in range(m) for source in range(n+1)) == 1)"
   ]
  },
  {
   "cell_type": "code",
   "execution_count": 325,
   "metadata": {},
   "outputs": [],
   "source": [
    "for c in range(m):\n",
    "    #Every courier must visit the depot as last node\n",
    "    model.addConstr(gp.quicksum(paths[c,source,n] for source in range(n)) == 1)\n",
    "\n",
    "    #Each courier must start from depot\n",
    "    model.addConstr(gp.quicksum(paths[c,n,dest] for dest in range(n)) == 1)\n",
    "\n",
    "    for source in range(n+1):\n",
    "        #Couriers cannot stay still\n",
    "        model.addConstr(paths[c,source,source] <= 0.5) #npe\n",
    "\n",
    "        for dest in range(n+1):\n",
    "            #Cumulative distance update\n",
    "            model.addConstr((paths[c,source,dest] == 1) >> (cumulative_dist[c,dest] == D[source][dest])) #npe\n",
    "\n",
    "            #Path contiguity\n",
    "            model.addConstr((paths[c,source,dest] == 1) >> (gp.quicksum(paths[c,j,source] for j in range(n+1)) >= 1))\n",
    "            model.addConstr((paths[c,source,dest] == 1) >> (gp.quicksum(paths[c,dest,j] for j in range(n+1)) >= 1))\n",
    "\n",
    "            #Load update\n",
    "            if dest < n:\n",
    "                model.addConstr((paths[c,source,dest] == 1) >> (cumulative_load[c,dest] == s[dest])) #npe\n",
    "\n",
    "        #Just in order to speed up the search    \n",
    "        model.addConstr(gp.quicksum(paths[c,source,j] for j in range(n+1)) <= 1)"
   ]
  },
  {
   "cell_type": "code",
   "execution_count": 326,
   "metadata": {},
   "outputs": [],
   "source": [
    "#Loop avoidance\n",
    "for c in range(m):\n",
    "    for source in range(n):\n",
    "        for dest in range(source+1):\n",
    "            model.addConstr( (gp.quicksum(paths[c,dest,j] for j in range(source+1)) + paths[c,source,dest]) <= 1)"
   ]
  },
  {
   "cell_type": "code",
   "execution_count": 327,
   "metadata": {},
   "outputs": [],
   "source": [
    "#Symmetry breaking constraints\n",
    "for c in range(m-1):\n",
    "    model.addConstr( gp.quicksum(paths[c,source,dest] for source in range(n) for dest in range(n)) >= \\\n",
    "                     gp.quicksum(paths[c+1,source,dest] for source in range(n) for dest in range(n)) )"
   ]
  },
  {
   "cell_type": "code",
   "execution_count": 328,
   "metadata": {},
   "outputs": [],
   "source": [
    "#Maximum load\n",
    "for c in range(m):\n",
    "    model.addConstr(gp.quicksum(cumulative_load[c,j] for j in range(n)) <= l[c])"
   ]
  },
  {
   "cell_type": "code",
   "execution_count": 329,
   "metadata": {},
   "outputs": [
    {
     "name": "stdout",
     "output_type": "stream",
     "text": [
      "2\n",
      "Set parameter TimeLimit to value 23\n"
     ]
    }
   ],
   "source": [
    "preprocessing_time = datetime.now() - starting_time\n",
    "safe_bound = 5\n",
    "model.setParam('TimeLimit', time_limit - preprocessing_time.seconds - safe_bound)"
   ]
  },
  {
   "cell_type": "code",
   "execution_count": 330,
   "metadata": {},
   "outputs": [
    {
     "name": "stdout",
     "output_type": "stream",
     "text": [
      "Gurobi Optimizer version 11.0.2 build v11.0.2rc0 (mac64[arm] - Darwin 23.4.0 23E224)\n",
      "\n",
      "CPU model: Apple M1\n",
      "Thread count: 8 physical cores, 8 logical processors, using up to 8 threads\n",
      "\n",
      "Optimize a model with 43 rows, 47 columns and 168 nonzeros\n",
      "Model fingerprint: 0xf9ef7125\n",
      "Model has 120 general constraints\n",
      "Variable types: 1 continuous, 46 integer (32 binary)\n",
      "Coefficient statistics:\n",
      "  Matrix range     [1e+00, 2e+00]\n",
      "  Objective range  [1e+00, 1e+00]\n",
      "  Bounds range     [1e+00, 6e+01]\n",
      "  RHS range        [5e-01, 3e+01]\n",
      "  GenCon rhs range [1e+00, 1e+02]\n",
      "  GenCon coe range [1e+00, 1e+00]\n",
      "Presolve removed 43 rows and 47 columns\n",
      "Presolve time: 0.00s\n",
      "Presolve: All rows and columns removed\n",
      "\n",
      "Explored 0 nodes (0 simplex iterations) in 0.01 seconds (0.00 work units)\n",
      "Thread count was 1 (of 8 available processors)\n",
      "\n",
      "Solution count 1: 206 \n",
      "\n",
      "Optimal solution found (tolerance 1.00e-04)\n",
      "Best objective 2.060000000000e+02, best bound 2.060000000000e+02, gap 0.0000%\n"
     ]
    }
   ],
   "source": [
    "model.optimize()"
   ]
  },
  {
   "cell_type": "code",
   "execution_count": 332,
   "metadata": {},
   "outputs": [],
   "source": [
    "def find_path(adj_matrix, courier):\n",
    "    res = []\n",
    "    source = n\n",
    "    res.append(source)\n",
    "    while True:\n",
    "        for dest in range(n+1):\n",
    "            if adj_matrix[courier, source, dest].X == 1:\n",
    "                res.append(dest)\n",
    "                source = dest\n",
    "                break\n",
    "        if source == n:\n",
    "            return res"
   ]
  },
  {
   "cell_type": "code",
   "execution_count": null,
   "metadata": {},
   "outputs": [],
   "source": [
    "sol = []\n",
    "if model.SolCount > 0:\n",
    "    for c in range(m):\n",
    "        sol.append(find_path(paths,c))"
   ]
  },
  {
   "cell_type": "code",
   "execution_count": 334,
   "metadata": {},
   "outputs": [],
   "source": [
    "json_dict = {}\n",
    "json_dict['time'] = int(floor(model.Runtime + preprocessing_time.seconds)) if model.SolCount > 0 else time_limit\n",
    "json_dict['optimal'] = True if (model.Runtime + preprocessing_time.seconds + safe_bound < time_limit) else False\n",
    "json_dict['obj'] = int(model.ObjVal) if model.SolCount > 0 else None\n",
    "json_dict['sol'] = sol\n",
    "\n",
    "with open(f'MIP/{str(int(innum))}.json', 'w') as outfile:\n",
    "    json.dump(json_dict, outfile)"
   ]
  }
 ],
 "metadata": {
  "kernelspec": {
   "display_name": "base",
   "language": "python",
   "name": "python3"
  },
  "language_info": {
   "codemirror_mode": {
    "name": "ipython",
    "version": 3
   },
   "file_extension": ".py",
   "mimetype": "text/x-python",
   "name": "python",
   "nbconvert_exporter": "python",
   "pygments_lexer": "ipython3",
   "version": "3.10.9"
  }
 },
 "nbformat": 4,
 "nbformat_minor": 2
}
