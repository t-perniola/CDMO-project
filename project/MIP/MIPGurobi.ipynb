{
 "cells": [
  {
   "cell_type": "code",
   "execution_count": 187,
   "metadata": {},
   "outputs": [],
   "source": [
    "#sorted([100, 200, 210, 300, 200, 210, 100, 200, 300, 200, 200, 100, 300, 190, 200, 100, 300, 190, 100, 300],reverse=True)"
   ]
  },
  {
   "cell_type": "code",
   "execution_count": 188,
   "metadata": {},
   "outputs": [],
   "source": [
    "import gurobipy as gp\n",
    "import numpy as np\n",
    "import pandas as pd"
   ]
  },
  {
   "cell_type": "markdown",
   "metadata": {},
   "source": [
    "Read data"
   ]
  },
  {
   "cell_type": "code",
   "execution_count": 189,
   "metadata": {},
   "outputs": [
    {
     "data": {
      "text/plain": [
       "\"\\nfile_path = 'inst08.dzn'  # Path to your .dzn file\\nparsed_data = parse_dzn(file_path)\\nprint(parsed_data)\\n\""
      ]
     },
     "execution_count": 189,
     "metadata": {},
     "output_type": "execute_result"
    }
   ],
   "source": [
    "import re\n",
    "\n",
    "def parse_dzn(file_path):\n",
    "    data = {}\n",
    "    with open(file_path, 'r') as file:\n",
    "        content = file.read()\n",
    "        \n",
    "        # Find all key-value pairs\n",
    "        key_value_pairs = re.findall(r'(\\w+)\\s*=\\s*(.*?);', content, re.DOTALL)\n",
    "        \n",
    "        for key, value in key_value_pairs:\n",
    "            # Remove any extra whitespace and newlines\n",
    "            value = value.strip().replace('\\n', '')\n",
    "\n",
    "            #Parse matrix\n",
    "            if key == 'D':\n",
    "                rows = value.split('|')\n",
    "                D = []\n",
    "                for i in range(1,len(rows)-1):\n",
    "                    D.append([int(v.strip()) for v in rows[i][1:-1].split(',')])\n",
    "                value = D\n",
    "            # Parse arrays\n",
    "            elif value.startswith('[') and value.endswith(']'):\n",
    "                value = value[1:-1].split(',')\n",
    "                value = [int(v.strip()) for v in value]\n",
    "            else:\n",
    "                value = int(value)\n",
    "                \n",
    "            data[key] = value\n",
    "    return data\n",
    "\n",
    "# Usage\n",
    "'''\n",
    "file_path = 'inst08.dzn'  # Path to your .dzn file\n",
    "parsed_data = parse_dzn(file_path)\n",
    "print(parsed_data)\n",
    "'''"
   ]
  },
  {
   "cell_type": "markdown",
   "metadata": {},
   "source": [
    "Create the model"
   ]
  },
  {
   "cell_type": "code",
   "execution_count": 190,
   "metadata": {},
   "outputs": [],
   "source": [
    "model = gp.Model()"
   ]
  },
  {
   "cell_type": "markdown",
   "metadata": {},
   "source": [
    "Parse the instance"
   ]
  },
  {
   "cell_type": "code",
   "execution_count": 191,
   "metadata": {},
   "outputs": [],
   "source": [
    "innum = input('Type instance number:\\n>')\n",
    "file_path = str(f'inst{innum}.dzn')\n",
    "parsed_data = parse_dzn(file_path)\n",
    "\n",
    "m = parsed_data['m']\n",
    "n = parsed_data['n']\n",
    "s = parsed_data['s']\n",
    "l = parsed_data['l']\n",
    "D = parsed_data['D']\n",
    "\n",
    "maxD = np.max(D)"
   ]
  },
  {
   "cell_type": "markdown",
   "metadata": {},
   "source": [
    "Define the variables"
   ]
  },
  {
   "cell_type": "code",
   "execution_count": 192,
   "metadata": {},
   "outputs": [],
   "source": [
    "#distances = model.addVars(m,n+1,lb=0, vtype=gp.GRB.INTEGER, name='Distances')\n",
    "\n",
    "max_total_dist = model.addVar(vtype=gp.GRB.CONTINUOUS, name='MaxTotalDist')\n",
    "#max_total_dist_for_c = model.addVars(m, vtype=gp.GRB.INTEGER, name='MaxTotalDistForC')\n",
    "#max_load_for_c = model.addVars(m, vtype=gp.GRB.INTEGER, name='MaxLoadForC')\n",
    "\n",
    "cumulative_dist = model.addVars(m, n+1, vtype=gp.GRB.INTEGER, name='CumulativeDist')\n",
    "cumulative_load = model.addVars(m, n+1, lb=0, ub=n*max(s), vtype=gp.GRB.INTEGER, name='CumulativeLoad')\n",
    "\n",
    "visited = model.addVars(m,n,vtype=gp.GRB.BINARY, name='Visited')\n",
    "\n",
    "paths = model.addVars(m, n+1, n+1, vtype=gp.GRB.BINARY, name='Paths')"
   ]
  },
  {
   "cell_type": "markdown",
   "metadata": {},
   "source": [
    "Define Objective function"
   ]
  },
  {
   "cell_type": "code",
   "execution_count": 193,
   "metadata": {},
   "outputs": [],
   "source": [
    "model.setObjective(max_total_dist, gp.GRB.MINIMIZE)"
   ]
  },
  {
   "cell_type": "markdown",
   "metadata": {},
   "source": [
    "Define Constraints"
   ]
  },
  {
   "cell_type": "code",
   "execution_count": 194,
   "metadata": {},
   "outputs": [
    {
     "data": {
      "text/plain": [
       "{0: <gurobi.Constr *Awaiting Model Update*>,\n",
       " 1: <gurobi.Constr *Awaiting Model Update*>,\n",
       " 2: <gurobi.Constr *Awaiting Model Update*>,\n",
       " 3: <gurobi.Constr *Awaiting Model Update*>,\n",
       " 4: <gurobi.Constr *Awaiting Model Update*>,\n",
       " 5: <gurobi.Constr *Awaiting Model Update*>,\n",
       " 6: <gurobi.Constr *Awaiting Model Update*>,\n",
       " 7: <gurobi.Constr *Awaiting Model Update*>,\n",
       " 8: <gurobi.Constr *Awaiting Model Update*>,\n",
       " 9: <gurobi.Constr *Awaiting Model Update*>}"
      ]
     },
     "execution_count": 194,
     "metadata": {},
     "output_type": "execute_result"
    }
   ],
   "source": [
    "#Maximum total distance is equal to the maximum total distance computed in the final depot \"slot\" for each courier\n",
    "model.addConstrs( gp.quicksum(cumulative_dist[c,j] for j in range(n+1)) <= max_total_dist for c in range(m))"
   ]
  },
  {
   "cell_type": "code",
   "execution_count": 195,
   "metadata": {},
   "outputs": [],
   "source": [
    "#Every node must be visited exactly once (except for the depot n+1)\n",
    "for dest in range(n):\n",
    "    model.addConstr(gp.quicksum(paths[c,source,dest] for c in range(m) for source in range(n+1)) <= 1)\n",
    "    model.addConstr(gp.quicksum(paths[c,source,dest] for c in range(m) for source in range(n+1)) >= 1)\n",
    "    #model.addConstr(gp.quicksum(paths[c,source,dest] for c in range(m) for source in range(n+1)) == 1)"
   ]
  },
  {
   "cell_type": "code",
   "execution_count": 196,
   "metadata": {},
   "outputs": [],
   "source": [
    "for c in range(m):\n",
    "    #Every courier must visit the depot as last node\n",
    "    model.addConstr(gp.quicksum(paths[c,source,n] for source in range(n)) == 1)\n",
    "\n",
    "    #Each courier must start from depot\n",
    "    model.addConstr(gp.quicksum(paths[c,n,dest] for dest in range(n)) == 1)\n",
    "\n",
    "    for source in range(n+1):\n",
    "        #Couriers cannot stay still\n",
    "        model.addConstr(paths[c,source,source] <= 0.5) #npe\n",
    "\n",
    "        for dest in range(n+1):\n",
    "            #Cumulative distance update\n",
    "            model.addConstr((paths[c,source,dest] == 1) >> (cumulative_dist[c,dest] == D[source][dest])) #npe\n",
    "\n",
    "            #Path contiguity\n",
    "            model.addConstr((paths[c,source,dest] == 1) >> (gp.quicksum(paths[c,j,source] for j in range(n+1)) >= 1))\n",
    "            model.addConstr((paths[c,source,dest] == 1) >> (gp.quicksum(paths[c,dest,j] for j in range(n+1)) >= 1))\n",
    "\n",
    "            #Load update\n",
    "            if dest < n:\n",
    "                model.addConstr((paths[c,source,dest] == 1) >> (cumulative_load[c,dest] == s[dest])) #npe\n",
    "\n",
    "        #Just in order to speed up the search    \n",
    "        model.addConstr(gp.quicksum(paths[c,source,j] for j in range(n+1)) <= 1)"
   ]
  },
  {
   "cell_type": "code",
   "execution_count": 197,
   "metadata": {},
   "outputs": [],
   "source": [
    "#Loop avoidance\n",
    "for c in range(m):\n",
    "    for source in range(n):\n",
    "        for dest in range(source+1):\n",
    "            #Just in order to speed up the search \n",
    "            #model.addConstr( (paths[c,source,dest] == 1) >> (paths[c,dest,source] <= 0.5) )\n",
    "\n",
    "            #Visited update\n",
    "            #model.addConstr( (paths[c,source,dest] == 1) >> (visited[c,source] == 1) )\n",
    "\n",
    "            #Inner loops avoidance\n",
    "            #model.addConstr( (visited[c,dest] == 1) >> ( paths[c,source,dest] == 0) )\n",
    "\n",
    "            #Alternative\n",
    "            model.addConstr( (gp.quicksum(paths[c,dest,j] for j in range(source+1)) + paths[c,source,dest]) <= 1)"
   ]
  },
  {
   "cell_type": "code",
   "execution_count": 198,
   "metadata": {},
   "outputs": [],
   "source": [
    "#Symmetry breaking constraints\n",
    "for c in range(m-1):\n",
    "    model.addConstr( gp.quicksum(paths[c,source,dest] for source in range(n) for dest in range(n)) >= \\\n",
    "                     gp.quicksum(paths[c+1,source,dest] for source in range(n) for dest in range(n)) )"
   ]
  },
  {
   "cell_type": "code",
   "execution_count": 199,
   "metadata": {},
   "outputs": [],
   "source": [
    "#Maximum load\n",
    "for c in range(m):\n",
    "    model.addConstr(gp.quicksum(cumulative_load[c,j] for j in range(n+1)) <= l[c])"
   ]
  },
  {
   "cell_type": "code",
   "execution_count": 201,
   "metadata": {},
   "outputs": [
    {
     "name": "stdout",
     "output_type": "stream",
     "text": [
      "Gurobi Optimizer version 11.0.2 build v11.0.2rc0 (mac64[arm] - Darwin 23.4.0 23E224)\n",
      "\n",
      "CPU model: Apple M1\n",
      "Thread count: 8 physical cores, 8 logical processors, using up to 8 threads\n",
      "\n",
      "Optimize a model with 1265 rows, 2371 columns and 18302 nonzeros\n",
      "Model fingerprint: 0x9694ca2b\n",
      "Model has 7700 general constraints\n",
      "Variable types: 1 continuous, 2370 integer (2090 binary)\n",
      "Coefficient statistics:\n",
      "  Matrix range     [1e+00, 2e+00]\n",
      "  Objective range  [1e+00, 1e+00]\n",
      "  Bounds range     [1e+00, 3e+02]\n",
      "  RHS range        [5e-01, 2e+02]\n",
      "  GenCon rhs range [1e+00, 2e+02]\n",
      "  GenCon coe range [1e+00, 1e+00]\n",
      "Presolve added 4985 rows and 1408 columns\n",
      "Presolve time: 0.23s\n",
      "Presolved: 6250 rows, 3779 columns, 54341 nonzeros\n",
      "Presolved model has 1820 SOS constraint(s)\n",
      "Variable types: 0 continuous, 3779 integer (1950 binary)\n",
      "\n",
      "Root relaxation: objective 0.000000e+00, 615 iterations, 0.03 seconds (0.05 work units)\n",
      "\n",
      "    Nodes    |    Current Node    |     Objective Bounds      |     Work\n",
      " Expl Unexpl |  Obj  Depth IntInf | Incumbent    BestBd   Gap | It/Node Time\n",
      "\n",
      "     0     0    0.00000    0   23          -    0.00000      -     -    0s\n",
      "H    0     0                     374.0000000    0.00000   100%     -    0s\n",
      "H    0     0                     346.0000000    0.00000   100%     -    0s\n",
      "H    0     0                     314.0000000    0.00000   100%     -    0s\n",
      "H    0     0                     278.0000000    0.00000   100%     -    0s\n",
      "     0     0    0.00000    0  192  278.00000    0.00000   100%     -    0s\n",
      "H    0     0                     258.0000000    0.00000   100%     -    0s\n",
      "H    0     0                     244.0000000    0.00000   100%     -    0s\n",
      "     0     0    0.00000    0   23  244.00000    0.00000   100%     -    0s\n",
      "     0     0    0.00000    0   23  244.00000    0.00000   100%     -    0s\n",
      "     0     0    0.00000    0  109  244.00000    0.00000   100%     -    0s\n",
      "     0     0   13.91161    0  587  244.00000   13.91161  94.3%     -    1s\n",
      "     0     0  103.00000    0  622  244.00000  103.00000  57.8%     -    1s\n",
      "     0     0  103.00000    0  573  244.00000  103.00000  57.8%     -    1s\n",
      "     0     0  103.00000    0  623  244.00000  103.00000  57.8%     -    1s\n",
      "     0     0  103.00000    0  664  244.00000  103.00000  57.8%     -    1s\n",
      "     0     0  103.00000    0  638  244.00000  103.00000  57.8%     -    1s\n",
      "     0     0  103.00000    0  642  244.00000  103.00000  57.8%     -    1s\n",
      "     0     0  103.00000    0  619  244.00000  103.00000  57.8%     -    1s\n",
      "     0     0  103.00000    0  780  244.00000  103.00000  57.8%     -    1s\n",
      "     0     0  103.00000    0  812  244.00000  103.00000  57.8%     -    1s\n",
      "     0     0  103.00000    0 1102  244.00000  103.00000  57.8%     -    1s\n",
      "     0     0  103.00000    0 1148  244.00000  103.00000  57.8%     -    1s\n",
      "     0     0  103.00000    0 1266  244.00000  103.00000  57.8%     -    1s\n",
      "     0     0  103.00000    0 1275  244.00000  103.00000  57.8%     -    1s\n",
      "     0     0  103.00000    0 1272  244.00000  103.00000  57.8%     -    1s\n",
      "     0     0  103.00000    0 1272  244.00000  103.00000  57.8%     -    1s\n",
      "     0     0  103.00000    0 1272  244.00000  103.00000  57.8%     -    1s\n",
      "     0     0  103.00000    0 1034  244.00000  103.00000  57.8%     -    1s\n",
      "     0     0  103.00000    0 1024  244.00000  103.00000  57.8%     -    1s\n",
      "     0     0  108.00000    0 1024  244.00000  108.00000  55.7%     -    2s\n",
      "     0     0  131.80103    0  198  244.00000  131.80103  46.0%     -    2s\n",
      "     0     0  139.51828    0  163  244.00000  139.51828  42.8%     -    2s\n",
      "     0     0  140.72503    0  171  244.00000  140.72503  42.3%     -    2s\n",
      "     0     0  140.80954    0  175  244.00000  140.80954  42.3%     -    2s\n",
      "     0     0  140.82326    0  170  244.00000  140.82326  42.3%     -    2s\n",
      "     0     0  145.31956    0  145  244.00000  145.31956  40.4%     -    2s\n",
      "     0     0  146.42336    0  165  244.00000  146.42336  40.0%     -    2s\n",
      "     0     0  146.58520    0  165  244.00000  146.58520  39.9%     -    2s\n",
      "     0     0  146.58520    0  138  244.00000  146.58520  39.9%     -    3s\n",
      "     0     0  147.39159    0  155  244.00000  147.39159  39.6%     -    3s\n",
      "     0     0  147.40350    0  161  244.00000  147.40350  39.6%     -    3s\n",
      "     0     0  147.64763    0  182  244.00000  147.64763  39.5%     -    3s\n",
      "     0     0  147.70537    0  181  244.00000  147.70537  39.5%     -    3s\n",
      "     0     0  148.20935    0  176  244.00000  148.20935  39.3%     -    3s\n",
      "     0     0  148.24928    0  176  244.00000  148.24928  39.2%     -    3s\n",
      "     0     0  148.25323    0  179  244.00000  148.25323  39.2%     -    3s\n",
      "     0     0  148.32354    0  174  244.00000  148.32354  39.2%     -    3s\n",
      "     0     0  148.32354    0  169  244.00000  148.32354  39.2%     -    3s\n",
      "     0     0  148.75973    0  165  244.00000  148.75973  39.0%     -    3s\n",
      "     0     2  148.78905    0  165  244.00000  148.78905  39.0%     -    3s\n",
      "  2575   904 infeasible   51       244.00000  176.47445  27.7%  46.2    5s\n",
      "\n",
      "Cutting planes:\n",
      "  Gomory: 9\n",
      "  Cover: 113\n",
      "  Implied bound: 40\n",
      "  Clique: 3\n",
      "  MIR: 19\n",
      "  StrongCG: 3\n",
      "  Inf proof: 8\n",
      "  Zero half: 4\n",
      "  RLT: 14\n",
      "  Relax-and-lift: 18\n",
      "\n",
      "Explored 5917 nodes (252845 simplex iterations) in 6.33 seconds (8.18 work units)\n",
      "Thread count was 8 (of 8 available processors)\n",
      "\n",
      "Solution count 6: 244 258 278 ... 374\n",
      "\n",
      "Optimal solution found (tolerance 1.00e-04)\n",
      "Best objective 2.440000000000e+02, best bound 2.440000000000e+02, gap 0.0000%\n"
     ]
    }
   ],
   "source": [
    "model.optimize()"
   ]
  },
  {
   "cell_type": "code",
   "execution_count": 202,
   "metadata": {},
   "outputs": [
    {
     "name": "stdout",
     "output_type": "stream",
     "text": [
      "0\n",
      "   0  1  2  3  4  5  6  7  8  9  10 11 12 13\n",
      "0   0  0  0  0  0  0  0  0  0  0  0  0  0  0\n",
      "1   0  0  0  0  0  0  0  0  0  0  0  0  0  0\n",
      "2   0  0  0  0  0  0  0  0  0  0  0  0  0  0\n",
      "3   0  0  0  0  0  0  0  0  0  0  0  0  0  1\n",
      "4   0  0  0  0  0  0  0  0  0  0  0  0  0  0\n",
      "5   0  0  0  0  0  0  0  0  0  0  0  0  0  0\n",
      "6   0  0  0  0  0  0  0  0  0  0  0  0  0  0\n",
      "7   0  0  0  0  0  0  0  0  0  0  0  0  0  0\n",
      "8   0  0  0  0  0  0  0  0  0  0  0  0  0  0\n",
      "9   0  0  0  0  0  0  0  0  0  0  0  0  0  0\n",
      "10  0  0  0  1  0  0  0  0  0  0  0  0  0  0\n",
      "11  0  0  0  0  0  0  0  0  0  0  0  0  0  0\n",
      "12  0  0  0  0  0  0  0  0  0  0  0  0  0  0\n",
      "13  0  0  0  0  0  0  0  0  0  0  1  0  0  0\n",
      "1\n",
      "   0  1  2  3  4  5  6  7  8  9  10 11 12 13\n",
      "0   0  0  0  0  0  0  0  0  0  0  0  0  0  0\n",
      "1   0  0  0  0  0  0  0  1  0  0  0  0  0  0\n",
      "2   0  0  0  0  0  0  0  0  0  0  0  0  0  0\n",
      "3   0  0  0  0  0  0  0  0  0  0  0  0  0  0\n",
      "4   0  0  0  0  0  0  0  0  0  0  0  0  0  0\n",
      "5   0  0  0  0  0  0  0  0  0  0  0  0  0  0\n",
      "6   0  0  0  0  0  0  0  0  0  0  0  0  0  0\n",
      "7   0  0  0  0  0  0  0  0  0  0  0  0  0  1\n",
      "8   0  0  0  0  0  0  0  0  0  0  0  0  0  0\n",
      "9   0  0  0  0  0  0  0  0  0  0  0  0  0  0\n",
      "10  0  0  0  0  0  0  0  0  0  0  0  0  0  0\n",
      "11  0  0  0  0  0  0  0  0  0  0  0  0  0  0\n",
      "12  0  0  0  0  0  0  0  0  0  0  0  0  0  0\n",
      "13  0  1  0  0  0  0  0  0  0  0  0  0  0  0\n",
      "2\n",
      "   0  1  2  3  4  5  6  7  8  9  10 11 12 13\n",
      "0   0  0  0  0  0  0  0  0  0  0  0  0  0  0\n",
      "1   0  0  0  0  0  0  0  0  0  0  0  0  0  0\n",
      "2   0  0  0  0  0  0  0  0  0  0  0  0  0  0\n",
      "3   0  0  0  0  0  0  0  0  0  0  0  0  0  0\n",
      "4   0  0  0  0  0  1  0  0  0  0  0  0  0  0\n",
      "5   0  0  0  0  0  0  0  0  0  0  0  0  0  1\n",
      "6   0  0  0  0  0  0  0  0  0  0  0  0  0  0\n",
      "7   0  0  0  0  0  0  0  0  0  0  0  0  0  0\n",
      "8   0  0  0  0  0  0  0  0  0  0  0  0  0  0\n",
      "9   0  0  0  0  0  0  0  0  0  0  0  0  0  0\n",
      "10  0  0  0  0  0  0  0  0  0  0  0  0  0  0\n",
      "11  0  0  0  0  0  0  0  0  0  0  0  0  0  0\n",
      "12  0  0  0  0  0  0  0  0  0  0  0  0  0  0\n",
      "13  0  0  0  0  1  0  0  0  0  0  0  0  0  0\n",
      "3\n",
      "   0  1  2  3  4  5  6  7  8  9  10 11 12 13\n",
      "0   0  0  0  0  0  0  0  0  0  0  0  0  0  0\n",
      "1   0  0  0  0  0  0  0  0  0  0  0  0  0  0\n",
      "2   0  0  0  0  0  0  0  0  0  0  0  0  0  0\n",
      "3   0  0  0  0  0  0  0  0  0  0  0  0  0  0\n",
      "4   0  0  0  0  0  0  0  0  0  0  0  0  0  0\n",
      "5   0  0  0  0  0  0  0  0  0  0  0  0  0  0\n",
      "6   0  0  0  0  0  0  0  0  0  0  0  0  0  0\n",
      "7   0  0  0  0  0  0  0  0  0  0  0  0  0  0\n",
      "8   0  0  0  0  0  0  0  0  0  0  0  0  0  0\n",
      "9   0  0  0  0  0  0  0  0  0  0  0  0  0  0\n",
      "10  0  0  0  0  0  0  0  0  0  0  0  0  0  0\n",
      "11  0  0  0  0  0  0  0  0  0  0  0  0  0  0\n",
      "12  0  0  0  0  0  0  0  0  0  0  0  0  0  1\n",
      "13  0  0  0  0  0  0  0  0  0  0  0  0  1  0\n",
      "4\n",
      "   0  1  2  3  4  5  6  7  8  9  10 11 12 13\n",
      "0   0  0  0  0  0  0  0  0  0  0  0  0  0  0\n",
      "1   0  0  0  0  0  0  0  0  0  0  0  0  0  0\n",
      "2   0  0  0  0  0  0  0  0  0  0  0  0  0  0\n",
      "3   0  0  0  0  0  0  0  0  0  0  0  0  0  0\n",
      "4   0  0  0  0  0  0  0  0  0  0  0  0  0  0\n",
      "5   0  0  0  0  0  0  0  0  0  0  0  0  0  0\n",
      "6   0  0  0  0  0  0  0  0  0  0  0  0  0  0\n",
      "7   0  0  0  0  0  0  0  0  0  0  0  0  0  0\n",
      "8   0  0  0  0  0  0  0  0  0  0  0  0  0  0\n",
      "9   0  0  0  0  0  0  0  0  0  0  0  0  0  1\n",
      "10  0  0  0  0  0  0  0  0  0  0  0  0  0  0\n",
      "11  0  0  0  0  0  0  0  0  0  0  0  0  0  0\n",
      "12  0  0  0  0  0  0  0  0  0  0  0  0  0  0\n",
      "13  0  0  0  0  0  0  0  0  0  1  0  0  0  0\n",
      "5\n",
      "   0  1  2  3  4  5  6  7  8  9  10 11 12 13\n",
      "0   0  0  0  0  0  0  0  0  0  0  0  0  0  1\n",
      "1   0  0  0  0  0  0  0  0  0  0  0  0  0  0\n",
      "2   0  0  0  0  0  0  0  0  0  0  0  0  0  0\n",
      "3   0  0  0  0  0  0  0  0  0  0  0  0  0  0\n",
      "4   0  0  0  0  0  0  0  0  0  0  0  0  0  0\n",
      "5   0  0  0  0  0  0  0  0  0  0  0  0  0  0\n",
      "6   0  0  0  0  0  0  0  0  0  0  0  0  0  0\n",
      "7   0  0  0  0  0  0  0  0  0  0  0  0  0  0\n",
      "8   0  0  0  0  0  0  0  0  0  0  0  0  0  0\n",
      "9   0  0  0  0  0  0  0  0  0  0  0  0  0  0\n",
      "10  0  0  0  0  0  0  0  0  0  0  0  0  0  0\n",
      "11  0  0  0  0  0  0  0  0  0  0  0  0  0  0\n",
      "12  0  0  0  0  0  0  0  0  0  0  0  0  0  0\n",
      "13  1  0  0  0  0  0  0  0  0  0  0  0  0  0\n",
      "6\n",
      "   0  1  2  3  4  5  6  7  8  9  10 11 12 13\n",
      "0   0  0  0  0  0  0  0  0  0  0  0  0  0  0\n",
      "1   0  0  0  0  0  0  0  0  0  0  0  0  0  0\n",
      "2   0  0  0  0  0  0  0  0  0  0  0  0  0  0\n",
      "3   0  0  0  0  0  0  0  0  0  0  0  0  0  0\n",
      "4   0  0  0  0  0  0  0  0  0  0  0  0  0  0\n",
      "5   0  0  0  0  0  0  0  0  0  0  0  0  0  0\n",
      "6   0  0  0  0  0  0  0  0  0  0  0  0  0  0\n",
      "7   0  0  0  0  0  0  0  0  0  0  0  0  0  0\n",
      "8   0  0  0  0  0  0  0  0  0  0  0  0  0  0\n",
      "9   0  0  0  0  0  0  0  0  0  0  0  0  0  0\n",
      "10  0  0  0  0  0  0  0  0  0  0  0  0  0  0\n",
      "11  0  0  0  0  0  0  0  0  0  0  0  0  0  1\n",
      "12  0  0  0  0  0  0  0  0  0  0  0  0  0  0\n",
      "13  0  0  0  0  0  0  0  0  0  0  0  1  0  0\n",
      "7\n",
      "   0  1  2  3  4  5  6  7  8  9  10 11 12 13\n",
      "0   0  0  0  0  0  0  0  0  0  0  0  0  0  0\n",
      "1   0  0  0  0  0  0  0  0  0  0  0  0  0  0\n",
      "2   0  0  0  0  0  0  0  0  0  0  0  0  0  0\n",
      "3   0  0  0  0  0  0  0  0  0  0  0  0  0  0\n",
      "4   0  0  0  0  0  0  0  0  0  0  0  0  0  0\n",
      "5   0  0  0  0  0  0  0  0  0  0  0  0  0  0\n",
      "6   0  0  0  0  0  0  0  0  0  0  0  0  0  1\n",
      "7   0  0  0  0  0  0  0  0  0  0  0  0  0  0\n",
      "8   0  0  0  0  0  0  0  0  0  0  0  0  0  0\n",
      "9   0  0  0  0  0  0  0  0  0  0  0  0  0  0\n",
      "10  0  0  0  0  0  0  0  0  0  0  0  0  0  0\n",
      "11  0  0  0  0  0  0  0  0  0  0  0  0  0  0\n",
      "12  0  0  0  0  0  0  0  0  0  0  0  0  0  0\n",
      "13  0  0  0  0  0  0  1  0  0  0  0  0  0  0\n",
      "8\n",
      "   0  1  2  3  4  5  6  7  8  9  10 11 12 13\n",
      "0   0  0  0  0  0  0  0  0  0  0  0  0  0  0\n",
      "1   0  0  0  0  0  0  0  0  0  0  0  0  0  0\n",
      "2   0  0  0  0  0  0  0  0  0  0  0  0  0  1\n",
      "3   0  0  0  0  0  0  0  0  0  0  0  0  0  0\n",
      "4   0  0  0  0  0  0  0  0  0  0  0  0  0  0\n",
      "5   0  0  0  0  0  0  0  0  0  0  0  0  0  0\n",
      "6   0  0  0  0  0  0  0  0  0  0  0  0  0  0\n",
      "7   0  0  0  0  0  0  0  0  0  0  0  0  0  0\n",
      "8   0  0  0  0  0  0  0  0  0  0  0  0  0  0\n",
      "9   0  0  0  0  0  0  0  0  0  0  0  0  0  0\n",
      "10  0  0  0  0  0  0  0  0  0  0  0  0  0  0\n",
      "11  0  0  0  0  0  0  0  0  0  0  0  0  0  0\n",
      "12  0  0  0  0  0  0  0  0  0  0  0  0  0  0\n",
      "13  0  0  1  0  0  0  0  0  0  0  0  0  0  0\n",
      "9\n",
      "   0  1  2  3  4  5  6  7  8  9  10 11 12 13\n",
      "0   0  0  0  0  0  0  0  0  0  0  0  0  0  0\n",
      "1   0  0  0  0  0  0  0  0  0  0  0  0  0  0\n",
      "2   0  0  0  0  0  0  0  0  0  0  0  0  0  0\n",
      "3   0  0  0  0  0  0  0  0  0  0  0  0  0  0\n",
      "4   0  0  0  0  0  0  0  0  0  0  0  0  0  0\n",
      "5   0  0  0  0  0  0  0  0  0  0  0  0  0  0\n",
      "6   0  0  0  0  0  0  0  0  0  0  0  0  0  0\n",
      "7   0  0  0  0  0  0  0  0  0  0  0  0  0  0\n",
      "8   0  0  0  0  0  0  0  0  0  0  0  0  0  1\n",
      "9   0  0  0  0  0  0  0  0  0  0  0  0  0  0\n",
      "10  0  0  0  0  0  0  0  0  0  0  0  0  0  0\n",
      "11  0  0  0  0  0  0  0  0  0  0  0  0  0  0\n",
      "12  0  0  0  0  0  0  0  0  0  0  0  0  0  0\n",
      "13  0  0  0  0  0  0  0  0  1  0  0  0  0  0\n"
     ]
    }
   ],
   "source": [
    "for c in range(m):\n",
    "    print(c)\n",
    "    rows = [i for i in range(n+1)]\n",
    "    adj_matrix = pd.DataFrame(columns=rows, index=rows)\n",
    "    for i in rows:\n",
    "        for j in rows:\n",
    "            adj_matrix.loc[i,j] = int(paths[c,i,j].X)\n",
    "    print(adj_matrix)"
   ]
  }
 ],
 "metadata": {
  "kernelspec": {
   "display_name": "base",
   "language": "python",
   "name": "python3"
  },
  "language_info": {
   "codemirror_mode": {
    "name": "ipython",
    "version": 3
   },
   "file_extension": ".py",
   "mimetype": "text/x-python",
   "name": "python",
   "nbconvert_exporter": "python",
   "pygments_lexer": "ipython3",
   "version": "3.10.9"
  }
 },
 "nbformat": 4,
 "nbformat_minor": 2
}
