{
 "cells": [
  {
   "cell_type": "code",
   "execution_count": 32,
   "metadata": {},
   "outputs": [],
   "source": [
    "import gurobipy as gp\n",
    "import numpy as np\n",
    "import pandas as pd"
   ]
  },
  {
   "cell_type": "markdown",
   "metadata": {},
   "source": [
    "Read data"
   ]
  },
  {
   "cell_type": "code",
   "execution_count": 33,
   "metadata": {},
   "outputs": [
    {
     "data": {
      "text/plain": [
       "\"\\nfile_path = 'inst08.dzn'  # Path to your .dzn file\\nparsed_data = parse_dzn(file_path)\\nprint(parsed_data)\\n\""
      ]
     },
     "execution_count": 33,
     "metadata": {},
     "output_type": "execute_result"
    }
   ],
   "source": [
    "import re\n",
    "\n",
    "def parse_dzn(file_path):\n",
    "    data = {}\n",
    "    with open(file_path, 'r') as file:\n",
    "        content = file.read()\n",
    "        \n",
    "        # Find all key-value pairs\n",
    "        key_value_pairs = re.findall(r'(\\w+)\\s*=\\s*(.*?);', content, re.DOTALL)\n",
    "        \n",
    "        for key, value in key_value_pairs:\n",
    "            # Remove any extra whitespace and newlines\n",
    "            value = value.strip().replace('\\n', '')\n",
    "\n",
    "            #Parse matrix\n",
    "            if key == 'D':\n",
    "                rows = value.split('|')\n",
    "                D = []\n",
    "                for i in range(1,len(rows)-1):\n",
    "                    D.append([int(v.strip()) for v in rows[i][1:-1].split(',')])\n",
    "                value = D\n",
    "            # Parse arrays\n",
    "            elif value.startswith('[') and value.endswith(']'):\n",
    "                value = value[1:-1].split(',')\n",
    "                value = [int(v.strip()) for v in value]\n",
    "            else:\n",
    "                value = int(value)\n",
    "                \n",
    "            data[key] = value\n",
    "    return data\n",
    "\n",
    "# Usage\n",
    "'''\n",
    "file_path = 'inst08.dzn'  # Path to your .dzn file\n",
    "parsed_data = parse_dzn(file_path)\n",
    "print(parsed_data)\n",
    "'''"
   ]
  },
  {
   "cell_type": "markdown",
   "metadata": {},
   "source": [
    "Create the model"
   ]
  },
  {
   "cell_type": "code",
   "execution_count": 34,
   "metadata": {},
   "outputs": [],
   "source": [
    "model = gp.Model()"
   ]
  },
  {
   "cell_type": "markdown",
   "metadata": {},
   "source": [
    "Parse the instance"
   ]
  },
  {
   "cell_type": "code",
   "execution_count": 35,
   "metadata": {},
   "outputs": [],
   "source": [
    "file_path = input('Type instance name:\\n>')\n",
    "parsed_data = parse_dzn(file_path)\n",
    "\n",
    "m = parsed_data['m']\n",
    "n = parsed_data['n']\n",
    "s = parsed_data['s']\n",
    "l = parsed_data['l']\n",
    "D = parsed_data['D']"
   ]
  },
  {
   "cell_type": "markdown",
   "metadata": {},
   "source": [
    "Define the variables"
   ]
  },
  {
   "cell_type": "code",
   "execution_count": 36,
   "metadata": {},
   "outputs": [],
   "source": [
    "#distances = model.addVars(m,n+1,lb=0, vtype=gp.GRB.INTEGER, name='Distances')\n",
    "\n",
    "max_total_dist = model.addVar(vtype=gp.GRB.CONTINUOUS, name='MaxTotalDist')\n",
    "#max_total_dist_for_c = model.addVars(m, vtype=gp.GRB.INTEGER, name='MaxTotalDistForC')\n",
    "#max_load_for_c = model.addVars(m, vtype=gp.GRB.INTEGER, name='MaxLoadForC')\n",
    "\n",
    "cumulative_dist = model.addVars(m, n+1, vtype=gp.GRB.INTEGER, name='CumulativeDist')\n",
    "cumulative_load = model.addVars(m, n+1, lb=0, ub=n*max(s), vtype=gp.GRB.INTEGER, name='CumulativeLoad')\n",
    "\n",
    "paths = model.addVars(m, n+1, n+1, vtype=gp.GRB.BINARY, name='Paths')"
   ]
  },
  {
   "cell_type": "markdown",
   "metadata": {},
   "source": [
    "Define Objective function"
   ]
  },
  {
   "cell_type": "code",
   "execution_count": 37,
   "metadata": {},
   "outputs": [],
   "source": [
    "model.setObjective(max_total_dist, gp.GRB.MINIMIZE)"
   ]
  },
  {
   "cell_type": "markdown",
   "metadata": {},
   "source": [
    "Define Constraints"
   ]
  },
  {
   "cell_type": "code",
   "execution_count": 38,
   "metadata": {},
   "outputs": [
    {
     "data": {
      "text/plain": [
       "{0: <gurobi.Constr *Awaiting Model Update*>,\n",
       " 1: <gurobi.Constr *Awaiting Model Update*>}"
      ]
     },
     "execution_count": 38,
     "metadata": {},
     "output_type": "execute_result"
    }
   ],
   "source": [
    "#Maximum total distance is equal to the maximum total distance computed in the final depot \"slot\" for each courier\n",
    "model.addConstrs( gp.quicksum(cumulative_dist[c,j] for j in range(n+1)) <= max_total_dist for c in range(m))"
   ]
  },
  {
   "cell_type": "code",
   "execution_count": 39,
   "metadata": {},
   "outputs": [],
   "source": [
    "#Every node must be visited (except for the depot n+1)\n",
    "for dest in range(n):\n",
    "    # model.addConstr(gp.quicksum(paths[c,source,dest] for c in range(m) for source in range(n+1)) <= 1.5)\n",
    "    # model.addConstr(gp.quicksum(paths[c,source,dest] for c in range(m) for source in range(n+1)) >= 0.5)\n",
    "    model.addConstr(gp.quicksum(paths[c,source,dest] for c in range(m) for source in range(n+1)) == 1)"
   ]
  },
  {
   "cell_type": "code",
   "execution_count": 40,
   "metadata": {},
   "outputs": [],
   "source": [
    "#Every courier must visit the depot as last node\n",
    "for c in range(m):\n",
    "    # model.addConstr(gp.quicksum(paths[c,source,n] for source in range(n+1)) >= 0.5)\n",
    "    # model.addConstr(gp.quicksum(paths[c,source,n] for source in range(n+1)) <= 1.5)\n",
    "    model.addConstr(gp.quicksum(paths[c,source,n] for source in range(n+1)) == 1)"
   ]
  },
  {
   "cell_type": "code",
   "execution_count": 41,
   "metadata": {},
   "outputs": [],
   "source": [
    "#Couriers cannot stay still\n",
    "for c in range(m):\n",
    "    for source in range(n+1):\n",
    "        model.addConstr(paths[c,source,source] <= 0.5)"
   ]
  },
  {
   "cell_type": "code",
   "execution_count": 42,
   "metadata": {},
   "outputs": [],
   "source": [
    "#Each courier must start from depot\n",
    "for c in range(m):\n",
    "    model.addConstr(gp.quicksum(paths[c,n,dest] for dest in range(n+1)) >= 0.5)"
   ]
  },
  {
   "cell_type": "code",
   "execution_count": 43,
   "metadata": {},
   "outputs": [],
   "source": [
    "for c in range(m):\n",
    "    for source in range(n+1):\n",
    "        for dest in range(n+1):\n",
    "            #Cumulative distance update\n",
    "            model.addConstr((paths[c,source,dest] == 1) >> (cumulative_dist[c,dest] == D[source][dest]))\n",
    "\n",
    "            #Path contiguity\n",
    "            model.addConstr((paths[c,source,dest] == 1) >> (gp.quicksum(paths[c,dest,j] for j in range(n+1)) >= 0.5))\n",
    "\n",
    "            #Load update\n",
    "            if dest < n:\n",
    "                model.addConstr((paths[c,source,dest] == 1) >> (cumulative_load[c,dest] == s[dest]))"
   ]
  },
  {
   "cell_type": "code",
   "execution_count": 44,
   "metadata": {},
   "outputs": [],
   "source": [
    "#Loop avoidance\n",
    "# for c in range(m):\n",
    "#     for source in range(n):\n",
    "#         for dest in range(n):\n",
    "#             if source < dest:\n",
    "#                 model.addConstr( (paths[c,source,dest] == 1) >> (paths[c,dest,source] <= 0.5) )"
   ]
  },
  {
   "cell_type": "code",
   "execution_count": 45,
   "metadata": {},
   "outputs": [],
   "source": [
    "#Maximum load\n",
    "for c in range(m):\n",
    "    model.addConstr(gp.quicksum(cumulative_load[c,j] for j in range(n+1)) <= l[c])"
   ]
  },
  {
   "cell_type": "code",
   "execution_count": 46,
   "metadata": {},
   "outputs": [
    {
     "name": "stdout",
     "output_type": "stream",
     "text": [
      "Gurobi Optimizer version 11.0.2 build v11.0.2rc0 (mac64[arm] - Darwin 23.4.0 23E224)\n",
      "\n",
      "CPU model: Apple M1\n",
      "Thread count: 8 physical cores, 8 logical processors, using up to 8 threads\n",
      "\n",
      "Optimize a model with 28 rows, 127 columns and 156 nonzeros\n",
      "Model fingerprint: 0x14bd4f3e\n",
      "Model has 280 general constraints\n",
      "Variable types: 1 continuous, 126 integer (98 binary)\n",
      "Coefficient statistics:\n",
      "  Matrix range     [1e+00, 1e+00]\n",
      "  Objective range  [1e+00, 1e+00]\n",
      "  Bounds range     [1e+00, 4e+01]\n",
      "  RHS range        [5e-01, 2e+01]\n",
      "  GenCon rhs range [5e-01, 8e+00]\n",
      "  GenCon coe range [1e+00, 1e+00]\n",
      "Presolve added 140 rows and 54 columns\n",
      "Presolve time: 0.01s\n",
      "Presolved: 168 rows, 181 columns, 852 nonzeros\n",
      "Presolved model has 84 SOS constraint(s)\n",
      "Variable types: 0 continuous, 181 integer (96 binary)\n",
      "Found heuristic solution: objective 22.0000000\n",
      "Found heuristic solution: objective 18.0000000\n",
      "\n",
      "Root relaxation: objective 0.000000e+00, 46 iterations, 0.00 seconds (0.00 work units)\n",
      "\n",
      "    Nodes    |    Current Node    |     Objective Bounds      |     Work\n",
      " Expl Unexpl |  Obj  Depth IntInf | Incumbent    BestBd   Gap | It/Node Time\n",
      "\n",
      "     0     0    0.00000    0    8   18.00000    0.00000   100%     -    0s\n",
      "H    0     0                      17.0000000    0.00000   100%     -    0s\n",
      "H    0     0                      14.0000000    0.00000   100%     -    0s\n",
      "     0     0    0.00000    0   53   14.00000    0.00000   100%     -    0s\n",
      "     0     0    3.00000    0   56   14.00000    3.00000  78.6%     -    0s\n",
      "     0     0    3.71429    0   42   14.00000    3.71429  73.5%     -    0s\n",
      "     0     0    3.71429    0   82   14.00000    3.71429  73.5%     -    0s\n",
      "     0     0    4.58955    0   56   14.00000    4.58955  67.2%     -    0s\n",
      "     0     0    5.25935    0   93   14.00000    5.25935  62.4%     -    0s\n",
      "     0     0    5.39197    0  117   14.00000    5.39197  61.5%     -    0s\n",
      "     0     0    5.39197    0  117   14.00000    5.39197  61.5%     -    0s\n",
      "     0     0    7.50000    0   67   14.00000    7.50000  46.4%     -    0s\n",
      "     0     0    8.00000    0   30   14.00000    8.00000  42.9%     -    0s\n",
      "     0     0    8.00000    0   36   14.00000    8.00000  42.9%     -    0s\n",
      "     0     0    8.45161    0   12   14.00000    8.45161  39.6%     -    0s\n",
      "H    0     0                      13.0000000    8.45161  35.0%     -    0s\n",
      "     0     0    8.45161    0  113   13.00000    8.45161  35.0%     -    0s\n",
      "H    0     0                      12.0000000    8.45161  29.6%     -    0s\n",
      "     0     0    8.45161    0  143   12.00000    8.45161  29.6%     -    0s\n",
      "     0     0    8.45161    0  125   12.00000    8.45161  29.6%     -    0s\n",
      "     0     0    8.45161    0  133   12.00000    8.45161  29.6%     -    0s\n",
      "     0     0    8.45161    0  135   12.00000    8.45161  29.6%     -    0s\n",
      "     0     0    8.45161    0  135   12.00000    8.45161  29.6%     -    0s\n",
      "     0     0    8.45161    0  111   12.00000    8.45161  29.6%     -    0s\n",
      "     0     0    8.45161    0  129   12.00000    8.45161  29.6%     -    0s\n",
      "     0     0    8.45161    0  110   12.00000    8.45161  29.6%     -    0s\n",
      "     0     0    8.45161    0  106   12.00000    8.45161  29.6%     -    0s\n",
      "     0     2    8.50000    0  106   12.00000    8.50000  29.2%     -    0s\n",
      "\n",
      "Cutting planes:\n",
      "  Cover: 1\n",
      "  Implied bound: 26\n",
      "  MIR: 6\n",
      "  Zero half: 1\n",
      "  Mod-K: 1\n",
      "  Relax-and-lift: 18\n",
      "\n",
      "Explored 39 nodes (1064 simplex iterations) in 0.27 seconds (0.07 work units)\n",
      "Thread count was 8 (of 8 available processors)\n",
      "\n",
      "Solution count 6: 12 13 14 ... 22\n",
      "\n",
      "Optimal solution found (tolerance 1.00e-04)\n",
      "Best objective 1.200000000000e+01, best bound 1.200000000000e+01, gap 0.0000%\n"
     ]
    }
   ],
   "source": [
    "model.optimize()"
   ]
  },
  {
   "cell_type": "code",
   "execution_count": 47,
   "metadata": {},
   "outputs": [
    {
     "name": "stdout",
     "output_type": "stream",
     "text": [
      "0\n",
      "   0  1  2  3  4  5  6\n",
      "0  0  0  0  0  0  0  0\n",
      "1  0  0  0  0  0  0  0\n",
      "2  0  0  0  0  0  0  1\n",
      "3  0  0  0  0  0  0  0\n",
      "4  0  0  0  0  0  1  0\n",
      "5  0  0  0  0  1  0  0\n",
      "6  0  0  1  0  0  0  0\n",
      "1\n",
      "   0  1  2  3  4  5  6\n",
      "0  0  1  0  0  0  0  0\n",
      "1  1  0  0  0  0  0  0\n",
      "2  0  0  0  0  0  0  0\n",
      "3  0  0  0  0  0  0  1\n",
      "4  0  0  0  0  0  0  0\n",
      "5  0  0  0  0  0  0  0\n",
      "6  0  0  0  1  0  0  0\n"
     ]
    }
   ],
   "source": [
    "for c in range(m):\n",
    "    print(c)\n",
    "    rows = [i for i in range(n+1)]\n",
    "    adj_matrix = pd.DataFrame(columns=rows, index=rows)\n",
    "    for i in rows:\n",
    "        for j in rows:\n",
    "            adj_matrix.loc[i,j] = int(paths[c,i,j].X)\n",
    "    print(adj_matrix)"
   ]
  }
 ],
 "metadata": {
  "kernelspec": {
   "display_name": "base",
   "language": "python",
   "name": "python3"
  },
  "language_info": {
   "codemirror_mode": {
    "name": "ipython",
    "version": 3
   },
   "file_extension": ".py",
   "mimetype": "text/x-python",
   "name": "python",
   "nbconvert_exporter": "python",
   "pygments_lexer": "ipython3",
   "version": "3.10.9"
  }
 },
 "nbformat": 4,
 "nbformat_minor": 2
}
