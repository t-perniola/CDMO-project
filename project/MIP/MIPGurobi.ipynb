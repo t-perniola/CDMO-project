{
 "cells": [
  {
   "cell_type": "code",
   "execution_count": 55,
   "metadata": {},
   "outputs": [],
   "source": [
    "import gurobipy as gp\n",
    "import numpy as np\n",
    "import pandas as pd"
   ]
  },
  {
   "cell_type": "markdown",
   "metadata": {},
   "source": [
    "Read data"
   ]
  },
  {
   "cell_type": "code",
   "execution_count": 56,
   "metadata": {},
   "outputs": [
    {
     "data": {
      "text/plain": [
       "\"\\nfile_path = 'inst08.dzn'  # Path to your .dzn file\\nparsed_data = parse_dzn(file_path)\\nprint(parsed_data)\\n\""
      ]
     },
     "execution_count": 56,
     "metadata": {},
     "output_type": "execute_result"
    }
   ],
   "source": [
    "import re\n",
    "\n",
    "def parse_dzn(file_path):\n",
    "    data = {}\n",
    "    with open(file_path, 'r') as file:\n",
    "        content = file.read()\n",
    "        \n",
    "        # Find all key-value pairs\n",
    "        key_value_pairs = re.findall(r'(\\w+)\\s*=\\s*(.*?);', content, re.DOTALL)\n",
    "        \n",
    "        for key, value in key_value_pairs:\n",
    "            # Remove any extra whitespace and newlines\n",
    "            value = value.strip().replace('\\n', '')\n",
    "\n",
    "            #Parse matrix\n",
    "            if key == 'D':\n",
    "                rows = value.split('|')\n",
    "                D = []\n",
    "                for i in range(1,len(rows)-1):\n",
    "                    D.append([int(v.strip()) for v in rows[i][1:-1].split(',')])\n",
    "                value = D\n",
    "            # Parse arrays\n",
    "            elif value.startswith('[') and value.endswith(']'):\n",
    "                value = value[1:-1].split(',')\n",
    "                value = [int(v.strip()) for v in value]\n",
    "            else:\n",
    "                value = int(value)\n",
    "                \n",
    "            data[key] = value\n",
    "    return data\n",
    "\n",
    "# Usage\n",
    "'''\n",
    "file_path = 'inst08.dzn'  # Path to your .dzn file\n",
    "parsed_data = parse_dzn(file_path)\n",
    "print(parsed_data)\n",
    "'''"
   ]
  },
  {
   "cell_type": "markdown",
   "metadata": {},
   "source": [
    "Create the model"
   ]
  },
  {
   "cell_type": "code",
   "execution_count": 57,
   "metadata": {},
   "outputs": [],
   "source": [
    "model = gp.Model()"
   ]
  },
  {
   "cell_type": "markdown",
   "metadata": {},
   "source": [
    "Parse the instance"
   ]
  },
  {
   "cell_type": "code",
   "execution_count": 58,
   "metadata": {},
   "outputs": [],
   "source": [
    "file_path = input('Type instance name:\\n>')\n",
    "parsed_data = parse_dzn(file_path)\n",
    "\n",
    "m = parsed_data['m']\n",
    "n = parsed_data['n']\n",
    "s = parsed_data['s']\n",
    "l = parsed_data['l']\n",
    "D = parsed_data['D']"
   ]
  },
  {
   "cell_type": "markdown",
   "metadata": {},
   "source": [
    "Define the variables"
   ]
  },
  {
   "cell_type": "code",
   "execution_count": 59,
   "metadata": {},
   "outputs": [],
   "source": [
    "#distances = model.addVars(m,n+1,lb=0, vtype=gp.GRB.INTEGER, name='Distances')\n",
    "\n",
    "max_total_dist = model.addVar(vtype=gp.GRB.CONTINUOUS, name='MaxTotalDist')\n",
    "#max_total_dist_for_c = model.addVars(m, vtype=gp.GRB.INTEGER, name='MaxTotalDistForC')\n",
    "#max_load_for_c = model.addVars(m, vtype=gp.GRB.INTEGER, name='MaxLoadForC')\n",
    "\n",
    "cumulative_dist = model.addVars(m, n+1, vtype=gp.GRB.INTEGER, name='CumulativeDist')\n",
    "cumulative_load = model.addVars(m, n+1, lb=0, ub=n*max(s), vtype=gp.GRB.INTEGER, name='CumulativeLoad')\n",
    "\n",
    "visited = model.addVars(m,n,vtype=gp.GRB.BINARY, name='Visited')\n",
    "\n",
    "paths = model.addVars(m, n+1, n+1, vtype=gp.GRB.BINARY, name='Paths')"
   ]
  },
  {
   "cell_type": "markdown",
   "metadata": {},
   "source": [
    "Define Objective function"
   ]
  },
  {
   "cell_type": "code",
   "execution_count": 60,
   "metadata": {},
   "outputs": [],
   "source": [
    "model.setObjective(max_total_dist, gp.GRB.MINIMIZE)"
   ]
  },
  {
   "cell_type": "markdown",
   "metadata": {},
   "source": [
    "Define Constraints"
   ]
  },
  {
   "cell_type": "code",
   "execution_count": 61,
   "metadata": {},
   "outputs": [
    {
     "data": {
      "text/plain": [
       "{0: <gurobi.Constr *Awaiting Model Update*>,\n",
       " 1: <gurobi.Constr *Awaiting Model Update*>}"
      ]
     },
     "execution_count": 61,
     "metadata": {},
     "output_type": "execute_result"
    }
   ],
   "source": [
    "#Maximum total distance is equal to the maximum total distance computed in the final depot \"slot\" for each courier\n",
    "model.addConstrs( gp.quicksum(cumulative_dist[c,j] for j in range(n+1)) <= max_total_dist for c in range(m))"
   ]
  },
  {
   "cell_type": "code",
   "execution_count": 62,
   "metadata": {},
   "outputs": [],
   "source": [
    "#Every node must be visited (except for the depot n+1)\n",
    "for dest in range(n):\n",
    "    # model.addConstr(gp.quicksum(paths[c,source,dest] for c in range(m) for source in range(n+1)) <= 1.5)\n",
    "    # model.addConstr(gp.quicksum(paths[c,source,dest] for c in range(m) for source in range(n+1)) >= 0.5)\n",
    "    model.addConstr(gp.quicksum(paths[c,source,dest] for c in range(m) for source in range(n+1)) == 1)"
   ]
  },
  {
   "cell_type": "code",
   "execution_count": 63,
   "metadata": {},
   "outputs": [],
   "source": [
    "#Every courier must visit the depot as last node\n",
    "for c in range(m):\n",
    "    # model.addConstr(gp.quicksum(paths[c,source,n] for source in range(n+1)) >= 0.5)\n",
    "    # model.addConstr(gp.quicksum(paths[c,source,n] for source in range(n+1)) <= 1.5)\n",
    "    model.addConstr(gp.quicksum(paths[c,source,n] for source in range(n+1)) == 1)"
   ]
  },
  {
   "cell_type": "code",
   "execution_count": 64,
   "metadata": {},
   "outputs": [],
   "source": [
    "#Couriers cannot stay still\n",
    "for c in range(m):\n",
    "    for source in range(n+1):\n",
    "        model.addConstr(paths[c,source,source] <= 0.5)"
   ]
  },
  {
   "cell_type": "code",
   "execution_count": 65,
   "metadata": {},
   "outputs": [],
   "source": [
    "#Each courier must start from depot\n",
    "for c in range(m):\n",
    "    model.addConstr(gp.quicksum(paths[c,n,dest] for dest in range(n+1)) >= 0.5)"
   ]
  },
  {
   "cell_type": "code",
   "execution_count": 66,
   "metadata": {},
   "outputs": [],
   "source": [
    "for c in range(m):\n",
    "    for source in range(n+1):\n",
    "        for dest in range(n+1):\n",
    "            #Cumulative distance update\n",
    "            model.addConstr((paths[c,source,dest] == 1) >> (cumulative_dist[c,dest] == D[source][dest]))\n",
    "\n",
    "            #Path contiguity\n",
    "            model.addConstr((paths[c,source,dest] == 1) >> (gp.quicksum(paths[c,j,source] for j in range(n+1)) >= 0.5))\n",
    "\n",
    "            #Load update\n",
    "            if dest < n:\n",
    "                model.addConstr((paths[c,source,dest] == 1) >> (cumulative_load[c,dest] == s[dest]))\n",
    "            \n",
    "        model.addConstr(gp.quicksum(paths[c,source,j] for j in range(n+1)) <= 1)"
   ]
  },
  {
   "cell_type": "code",
   "execution_count": 67,
   "metadata": {},
   "outputs": [],
   "source": [
    "#Loop avoidance node to node base case\n",
    "for c in range(m):\n",
    "    for source in range(n):\n",
    "        for dest in range(n):\n",
    "            model.addConstr( (paths[c,source,dest] == 1) >> (paths[c,dest,source] <= 0.5) )\n",
    "\n",
    "            #Visited update\n",
    "            model.addConstr( (paths[c,source,dest] == 1) >> (visited[c,source] >= 0.5) )\n",
    "\n",
    "            #Inner loops avoidance\n",
    "            model.addConstr( (visited[c,dest] == 1) >> ( paths[c,source,dest] <= 0.5) )"
   ]
  },
  {
   "cell_type": "code",
   "execution_count": 68,
   "metadata": {},
   "outputs": [],
   "source": [
    "#Maximum load\n",
    "for c in range(m):\n",
    "    model.addConstr(gp.quicksum(cumulative_load[c,j] for j in range(n+1)) <= l[c])"
   ]
  },
  {
   "cell_type": "code",
   "execution_count": 69,
   "metadata": {},
   "outputs": [
    {
     "name": "stdout",
     "output_type": "stream",
     "text": [
      "Gurobi Optimizer version 11.0.2 build v11.0.2rc0 (mac64[arm] - Darwin 23.4.0 23E224)\n",
      "\n",
      "CPU model: Apple M1\n",
      "Thread count: 8 physical cores, 8 logical processors, using up to 8 threads\n",
      "\n",
      "Optimize a model with 42 rows, 139 columns and 254 nonzeros\n",
      "Model fingerprint: 0x0e423ebf\n",
      "Model has 496 general constraints\n",
      "Variable types: 1 continuous, 138 integer (110 binary)\n",
      "Coefficient statistics:\n",
      "  Matrix range     [1e+00, 1e+00]\n",
      "  Objective range  [1e+00, 1e+00]\n",
      "  Bounds range     [1e+00, 4e+01]\n",
      "  RHS range        [5e-01, 2e+01]\n",
      "  GenCon rhs range [5e-01, 8e+00]\n",
      "  GenCon coe range [1e+00, 1e+00]\n",
      "Presolve added 100 rows and 38 columns\n",
      "Presolve time: 0.02s\n",
      "Presolved: 142 rows, 177 columns, 620 nonzeros\n",
      "Presolved model has 82 SOS constraint(s)\n",
      "Variable types: 0 continuous, 177 integer (94 binary)\n",
      "\n",
      "Root relaxation: infeasible, 70 iterations, 0.00 seconds (0.00 work units)\n",
      "\n",
      "    Nodes    |    Current Node    |     Objective Bounds      |     Work\n",
      " Expl Unexpl |  Obj  Depth IntInf | Incumbent    BestBd   Gap | It/Node Time\n",
      "\n",
      "     0     0 infeasible    0               - infeasible      -     -    0s\n",
      "\n",
      "Explored 1 nodes (70 simplex iterations) in 0.05 seconds (0.01 work units)\n",
      "Thread count was 8 (of 8 available processors)\n",
      "\n",
      "Solution count 0\n",
      "\n",
      "Model is infeasible\n",
      "Best objective -, best bound -, gap -\n"
     ]
    }
   ],
   "source": [
    "model.optimize()"
   ]
  },
  {
   "cell_type": "code",
   "execution_count": 70,
   "metadata": {},
   "outputs": [
    {
     "name": "stdout",
     "output_type": "stream",
     "text": [
      "0\n"
     ]
    },
    {
     "ename": "AttributeError",
     "evalue": "Unable to retrieve attribute 'X'",
     "output_type": "error",
     "traceback": [
      "\u001b[0;31m---------------------------------------------------------------------------\u001b[0m",
      "\u001b[0;31mAttributeError\u001b[0m                            Traceback (most recent call last)",
      "Cell \u001b[0;32mIn[70], line 7\u001b[0m\n\u001b[1;32m      5\u001b[0m \u001b[38;5;28;01mfor\u001b[39;00m i \u001b[38;5;129;01min\u001b[39;00m rows:\n\u001b[1;32m      6\u001b[0m     \u001b[38;5;28;01mfor\u001b[39;00m j \u001b[38;5;129;01min\u001b[39;00m rows:\n\u001b[0;32m----> 7\u001b[0m         adj_matrix\u001b[38;5;241m.\u001b[39mloc[i,j] \u001b[38;5;241m=\u001b[39m \u001b[38;5;28mint\u001b[39m(\u001b[43mpaths\u001b[49m\u001b[43m[\u001b[49m\u001b[43mc\u001b[49m\u001b[43m,\u001b[49m\u001b[43mi\u001b[49m\u001b[43m,\u001b[49m\u001b[43mj\u001b[49m\u001b[43m]\u001b[49m\u001b[38;5;241;43m.\u001b[39;49m\u001b[43mX\u001b[49m)\n\u001b[1;32m      8\u001b[0m \u001b[38;5;28mprint\u001b[39m(adj_matrix)\n",
      "File \u001b[0;32msrc/gurobipy/var.pxi:125\u001b[0m, in \u001b[0;36mgurobipy.Var.__getattr__\u001b[0;34m()\u001b[0m\n",
      "File \u001b[0;32msrc/gurobipy/var.pxi:153\u001b[0m, in \u001b[0;36mgurobipy.Var.getAttr\u001b[0;34m()\u001b[0m\n",
      "File \u001b[0;32msrc/gurobipy/attrutil.pxi:103\u001b[0m, in \u001b[0;36mgurobipy._getattr\u001b[0;34m()\u001b[0m\n",
      "\u001b[0;31mAttributeError\u001b[0m: Unable to retrieve attribute 'X'"
     ]
    }
   ],
   "source": [
    "for c in range(m):\n",
    "    print(c)\n",
    "    rows = [i for i in range(n+1)]\n",
    "    adj_matrix = pd.DataFrame(columns=rows, index=rows)\n",
    "    for i in rows:\n",
    "        for j in rows:\n",
    "            adj_matrix.loc[i,j] = int(paths[c,i,j].X)\n",
    "    print(adj_matrix)"
   ]
  }
 ],
 "metadata": {
  "kernelspec": {
   "display_name": "base",
   "language": "python",
   "name": "python3"
  },
  "language_info": {
   "codemirror_mode": {
    "name": "ipython",
    "version": 3
   },
   "file_extension": ".py",
   "mimetype": "text/x-python",
   "name": "python",
   "nbconvert_exporter": "python",
   "pygments_lexer": "ipython3",
   "version": "3.10.9"
  }
 },
 "nbformat": 4,
 "nbformat_minor": 2
}
