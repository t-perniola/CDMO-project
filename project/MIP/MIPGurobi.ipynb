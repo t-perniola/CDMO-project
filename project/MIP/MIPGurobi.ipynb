{
 "cells": [
  {
   "cell_type": "code",
   "execution_count": 1,
   "metadata": {},
   "outputs": [],
   "source": [
    "import gurobipy as gp\n",
    "import numpy as np\n",
    "import pandas as pd"
   ]
  },
  {
   "cell_type": "markdown",
   "metadata": {},
   "source": [
    "Read data"
   ]
  },
  {
   "cell_type": "code",
   "execution_count": 2,
   "metadata": {},
   "outputs": [
    {
     "data": {
      "text/plain": [
       "\"\\nfile_path = 'inst08.dzn'  # Path to your .dzn file\\nparsed_data = parse_dzn(file_path)\\nprint(parsed_data)\\n\""
      ]
     },
     "execution_count": 2,
     "metadata": {},
     "output_type": "execute_result"
    }
   ],
   "source": [
    "import re\n",
    "\n",
    "def parse_dzn(file_path):\n",
    "    data = {}\n",
    "    with open(file_path, 'r') as file:\n",
    "        content = file.read()\n",
    "        \n",
    "        # Find all key-value pairs\n",
    "        key_value_pairs = re.findall(r'(\\w+)\\s*=\\s*(.*?);', content, re.DOTALL)\n",
    "        \n",
    "        for key, value in key_value_pairs:\n",
    "            # Remove any extra whitespace and newlines\n",
    "            value = value.strip().replace('\\n', '')\n",
    "\n",
    "            #Parse matrix\n",
    "            if key == 'D':\n",
    "                rows = value.split('|')\n",
    "                D = []\n",
    "                for i in range(1,len(rows)-1):\n",
    "                    D.append([int(v.strip()) for v in rows[i][1:-1].split(',')])\n",
    "                value = D\n",
    "            # Parse arrays\n",
    "            elif value.startswith('[') and value.endswith(']'):\n",
    "                value = value[1:-1].split(',')\n",
    "                value = [int(v.strip()) for v in value]\n",
    "            else:\n",
    "                value = int(value)\n",
    "                \n",
    "            data[key] = value\n",
    "    return data\n",
    "\n",
    "# Usage\n",
    "'''\n",
    "file_path = 'inst08.dzn'  # Path to your .dzn file\n",
    "parsed_data = parse_dzn(file_path)\n",
    "print(parsed_data)\n",
    "'''"
   ]
  },
  {
   "cell_type": "markdown",
   "metadata": {},
   "source": [
    "Create the model"
   ]
  },
  {
   "cell_type": "code",
   "execution_count": 3,
   "metadata": {},
   "outputs": [
    {
     "name": "stdout",
     "output_type": "stream",
     "text": [
      "Set parameter Username\n",
      "Academic license - for non-commercial use only - expires 2025-05-30\n"
     ]
    }
   ],
   "source": [
    "model = gp.Model()"
   ]
  },
  {
   "cell_type": "markdown",
   "metadata": {},
   "source": [
    "Parse the instance"
   ]
  },
  {
   "cell_type": "code",
   "execution_count": 4,
   "metadata": {},
   "outputs": [],
   "source": [
    "file_path = input('Type instance name:\\n>')\n",
    "parsed_data = parse_dzn(file_path)\n",
    "\n",
    "m = parsed_data['m']\n",
    "n = parsed_data['n']\n",
    "s = parsed_data['s']\n",
    "l = parsed_data['l']\n",
    "D = parsed_data['D']"
   ]
  },
  {
   "cell_type": "markdown",
   "metadata": {},
   "source": [
    "Define the variables"
   ]
  },
  {
   "cell_type": "code",
   "execution_count": 5,
   "metadata": {},
   "outputs": [],
   "source": [
    "#distances = model.addVars(m,n+1,lb=0, vtype=gp.GRB.INTEGER, name='Distances')\n",
    "\n",
    "max_total_dist = model.addVar(vtype=gp.GRB.CONTINUOUS, name='MaxTotalDist')\n",
    "#max_total_dist_for_c = model.addVars(m, vtype=gp.GRB.INTEGER, name='MaxTotalDistForC')\n",
    "#max_load_for_c = model.addVars(m, vtype=gp.GRB.INTEGER, name='MaxLoadForC')\n",
    "\n",
    "cumulative_dist = model.addVars(m, n+1, vtype=gp.GRB.INTEGER, name='CumulativeDist')\n",
    "cumulative_load = model.addVars(m, n+1, lb=0, ub=n*max(s), vtype=gp.GRB.INTEGER, name='CumulativeLoad')\n",
    "\n",
    "paths = model.addVars(m, n+1, n+1, vtype=gp.GRB.BINARY, name='Paths')"
   ]
  },
  {
   "cell_type": "markdown",
   "metadata": {},
   "source": [
    "Define Objective function"
   ]
  },
  {
   "cell_type": "code",
   "execution_count": 6,
   "metadata": {},
   "outputs": [],
   "source": [
    "model.setObjective(max_total_dist, gp.GRB.MINIMIZE)"
   ]
  },
  {
   "cell_type": "markdown",
   "metadata": {},
   "source": [
    "Define Constraints"
   ]
  },
  {
   "cell_type": "code",
   "execution_count": 7,
   "metadata": {},
   "outputs": [
    {
     "data": {
      "text/plain": [
       "{0: <gurobi.Constr *Awaiting Model Update*>,\n",
       " 1: <gurobi.Constr *Awaiting Model Update*>,\n",
       " 2: <gurobi.Constr *Awaiting Model Update*>,\n",
       " 3: <gurobi.Constr *Awaiting Model Update*>,\n",
       " 4: <gurobi.Constr *Awaiting Model Update*>,\n",
       " 5: <gurobi.Constr *Awaiting Model Update*>}"
      ]
     },
     "execution_count": 7,
     "metadata": {},
     "output_type": "execute_result"
    }
   ],
   "source": [
    "#Maximum total distance is equal to the maximum total distance computed in the final depot \"slot\" for each courier\n",
    "model.addConstrs( gp.quicksum(cumulative_dist[c,j] for j in range(n+1)) <= max_total_dist for c in range(m))"
   ]
  },
  {
   "cell_type": "code",
   "execution_count": 8,
   "metadata": {},
   "outputs": [],
   "source": [
    "#Every node must be visited (except for the depot n+1)\n",
    "for dest in range(n):\n",
    "    # model.addConstr(gp.quicksum(paths[c,source,dest] for c in range(m) for source in range(n+1)) <= 1.5)\n",
    "    # model.addConstr(gp.quicksum(paths[c,source,dest] for c in range(m) for source in range(n+1)) >= 0.5)\n",
    "    model.addConstr(gp.quicksum(paths[c,source,dest] for c in range(m) for source in range(n+1)) == 1)"
   ]
  },
  {
   "cell_type": "code",
   "execution_count": 9,
   "metadata": {},
   "outputs": [],
   "source": [
    "#Every courier must visit the depot as last node\n",
    "for c in range(m):\n",
    "    # model.addConstr(gp.quicksum(paths[c,source,n] for source in range(n+1)) >= 0.5)\n",
    "    # model.addConstr(gp.quicksum(paths[c,source,n] for source in range(n+1)) <= 1.5)\n",
    "    model.addConstr(gp.quicksum(paths[c,source,n] for source in range(n+1)) == 1)"
   ]
  },
  {
   "cell_type": "code",
   "execution_count": 10,
   "metadata": {},
   "outputs": [],
   "source": [
    "#Couriers cannot stay still\n",
    "for c in range(m):\n",
    "    for source in range(n+1):\n",
    "        model.addConstr(paths[c,source,source] <= 0.5)"
   ]
  },
  {
   "cell_type": "code",
   "execution_count": 11,
   "metadata": {},
   "outputs": [],
   "source": [
    "#Each courier must start from depot\n",
    "for c in range(m):\n",
    "    model.addConstr(gp.quicksum(paths[c,n,dest] for dest in range(n+1)) >= 0.5)"
   ]
  },
  {
   "cell_type": "code",
   "execution_count": 12,
   "metadata": {},
   "outputs": [],
   "source": [
    "for c in range(m):\n",
    "    for source in range(n+1):\n",
    "        for dest in range(n+1):\n",
    "            #Cumulative distance update\n",
    "            model.addConstr((paths[c,source,dest] == 1) >> (cumulative_dist[c,dest] == D[source][dest]))\n",
    "\n",
    "            #Path contiguity\n",
    "            model.addConstr((paths[c,source,dest] == 1) >> (gp.quicksum(paths[c,j,source] for j in range(n+1)) >= 0.5))\n",
    "\n",
    "            #Load update\n",
    "            if dest < n:\n",
    "                model.addConstr((paths[c,source,dest] == 1) >> (cumulative_load[c,dest] == s[dest]))\n",
    "            \n",
    "        model.addConstr(gp.quicksum(paths[c,source,j] for j in range(n+1)) <= 1)"
   ]
  },
  {
   "cell_type": "code",
   "execution_count": 13,
   "metadata": {},
   "outputs": [],
   "source": [
    "#Loop avoidance node to node base case\n",
    "for c in range(m):\n",
    "    for source in range(n):\n",
    "        for dest in range(n):\n",
    "            model.addConstr( (paths[c,source,dest] == 1) >> (paths[c,dest,source] <= 0.5) )"
   ]
  },
  {
   "cell_type": "code",
   "execution_count": 14,
   "metadata": {},
   "outputs": [],
   "source": [
    "#Maximum load\n",
    "for c in range(m):\n",
    "    model.addConstr(gp.quicksum(cumulative_load[c,j] for j in range(n+1)) <= l[c])"
   ]
  },
  {
   "cell_type": "code",
   "execution_count": 15,
   "metadata": {},
   "outputs": [
    {
     "name": "stdout",
     "output_type": "stream",
     "text": [
      "Gurobi Optimizer version 11.0.2 build v11.0.2rc0 (mac64[arm] - Darwin 23.4.0 23E224)\n",
      "\n",
      "CPU model: Apple M1\n",
      "Thread count: 8 physical cores, 8 logical processors, using up to 8 threads\n",
      "\n",
      "Optimize a model with 153 rows, 721 columns and 1446 nonzeros\n",
      "Model fingerprint: 0x29364d5e\n",
      "Model has 2226 general constraints\n",
      "Variable types: 1 continuous, 720 integer (600 binary)\n",
      "Coefficient statistics:\n",
      "  Matrix range     [1e+00, 1e+00]\n",
      "  Objective range  [1e+00, 1e+00]\n",
      "  Bounds range     [1e+00, 2e+02]\n",
      "  RHS range        [5e-01, 2e+02]\n",
      "  GenCon rhs range [5e-01, 2e+02]\n",
      "  GenCon coe range [1e+00, 1e+00]\n",
      "Presolve added 1110 rows and 360 columns\n",
      "Presolve time: 0.03s\n",
      "Presolved: 1263 rows, 1081 columns, 7247 nonzeros\n",
      "Presolved model has 540 SOS constraint(s)\n",
      "Variable types: 0 continuous, 1081 integer (540 binary)\n",
      "\n",
      "Root relaxation: objective 0.000000e+00, 103 iterations, 0.00 seconds (0.00 work units)\n",
      "\n",
      "    Nodes    |    Current Node    |     Objective Bounds      |     Work\n",
      " Expl Unexpl |  Obj  Depth IntInf | Incumbent    BestBd   Gap | It/Node Time\n",
      "\n",
      "     0     0    0.00000    0   15          -    0.00000      -     -    0s\n",
      "H    0     0                     364.0000000    0.00000   100%     -    0s\n",
      "H    0     0                     260.0000000    0.00000   100%     -    0s\n",
      "H    0     0                     226.0000000    0.00000   100%     -    0s\n",
      "     0     0    0.00000    0   58  226.00000    0.00000   100%     -    0s\n",
      "     0     0   11.60329    0  269  226.00000   11.60329  94.9%     -    0s\n",
      "     0     0   12.37473    0  251  226.00000   12.37473  94.5%     -    0s\n",
      "     0     0   12.38586    0  249  226.00000   12.38586  94.5%     -    0s\n",
      "     0     0   14.25830    0  299  226.00000   14.25830  93.7%     -    0s\n",
      "     0     0   14.25830    0  295  226.00000   14.25830  93.7%     -    0s\n",
      "     0     0   87.00000    0  330  226.00000   87.00000  61.5%     -    0s\n",
      "     0     0   87.00000    0  353  226.00000   87.00000  61.5%     -    0s\n",
      "     0     0   87.00000    0  357  226.00000   87.00000  61.5%     -    0s\n",
      "     0     0  107.00000    0  316  226.00000  107.00000  52.7%     -    0s\n",
      "     0     0  107.00000    0  285  226.00000  107.00000  52.7%     -    0s\n",
      "     0     0  116.19649    0  300  226.00000  116.19649  48.6%     -    0s\n",
      "     0     0  117.68741    0  462  226.00000  117.68741  47.9%     -    0s\n",
      "     0     0  117.71774    0  482  226.00000  117.71774  47.9%     -    0s\n",
      "     0     0  117.71790    0  482  226.00000  117.71790  47.9%     -    0s\n",
      "     0     0  118.27097    0  485  226.00000  118.27097  47.7%     -    0s\n",
      "     0     0  118.27263    0  571  226.00000  118.27263  47.7%     -    0s\n",
      "     0     0  118.44325    0  558  226.00000  118.44325  47.6%     -    0s\n",
      "     0     0  118.52048    0  495  226.00000  118.52048  47.6%     -    0s\n",
      "     0     0  118.53052    0  495  226.00000  118.53052  47.6%     -    0s\n",
      "     0     0  139.69055    0  323  226.00000  139.69055  38.2%     -    0s\n",
      "     0     0  141.58761    0  410  226.00000  141.58761  37.4%     -    0s\n",
      "     0     0  142.07297    0  403  226.00000  142.07297  37.1%     -    0s\n",
      "     0     0  142.07297    0  401  226.00000  142.07297  37.1%     -    0s\n",
      "     0     0  142.15191    0  407  226.00000  142.15191  37.1%     -    0s\n",
      "     0     0  142.19559    0  459  226.00000  142.19559  37.1%     -    0s\n",
      "     0     0  144.68420    0  438  226.00000  144.68420  36.0%     -    0s\n",
      "     0     0  145.65664    0  589  226.00000  145.65664  35.6%     -    0s\n",
      "     0     0  145.67826    0  618  226.00000  145.67826  35.5%     -    0s\n",
      "     0     0  145.67982    0  650  226.00000  145.67982  35.5%     -    0s\n",
      "     0     0  148.27766    0  510  226.00000  148.27766  34.4%     -    0s\n",
      "     0     0  148.47024    0  509  226.00000  148.47024  34.3%     -    0s\n",
      "     0     0  149.47899    0  593  226.00000  149.47899  33.9%     -    0s\n",
      "     0     0  149.53634    0  602  226.00000  149.53634  33.8%     -    0s\n",
      "     0     0  150.84490    0  393  226.00000  150.84490  33.3%     -    0s\n",
      "     0     0  150.90563    0  406  226.00000  150.90563  33.2%     -    0s\n",
      "     0     0  151.55497    0  393  226.00000  151.55497  32.9%     -    0s\n",
      "     0     0  151.69712    0  393  226.00000  151.69712  32.9%     -    0s\n",
      "     0     2  151.86766    0  373  226.00000  151.86766  32.8%     -    0s\n",
      "H  170   113                     224.0000000  154.48285  31.0%  73.0    0s\n",
      "H  212   142                     215.0000000  154.48285  28.1%  71.9    0s\n",
      "  5164   878     cutoff   25       215.00000  188.00000  12.6%  27.7    5s\n",
      "\n",
      "Cutting planes:\n",
      "  Gomory: 33\n",
      "  Cover: 2\n",
      "  MIR: 3\n",
      "  StrongCG: 1\n",
      "  Flow cover: 5\n",
      "  Zero half: 18\n",
      "  Relax-and-lift: 1\n",
      "\n",
      "Explored 6245 nodes (342746 simplex iterations) in 5.37 seconds (7.24 work units)\n",
      "Thread count was 8 (of 8 available processors)\n",
      "\n",
      "Solution count 5: 215 224 226 ... 364\n",
      "\n",
      "Optimal solution found (tolerance 1.00e-04)\n",
      "Best objective 2.150000000000e+02, best bound 2.150000000000e+02, gap 0.0000%\n"
     ]
    }
   ],
   "source": [
    "model.optimize()"
   ]
  },
  {
   "cell_type": "code",
   "execution_count": 16,
   "metadata": {},
   "outputs": [
    {
     "name": "stdout",
     "output_type": "stream",
     "text": [
      "0\n",
      "   0  1  2  3  4  5  6  7  8  9\n",
      "0  0  0  0  0  0  0  0  0  0  0\n",
      "1  0  0  0  0  0  0  0  0  0  0\n",
      "2  0  0  0  0  0  0  0  0  0  0\n",
      "3  0  0  0  0  0  0  0  0  0  1\n",
      "4  0  0  0  0  0  0  0  0  0  0\n",
      "5  0  0  0  0  0  0  0  0  0  0\n",
      "6  0  0  0  0  0  0  0  0  0  0\n",
      "7  0  0  0  0  0  0  0  0  0  0\n",
      "8  0  0  0  0  0  0  0  0  0  0\n",
      "9  0  0  0  1  0  0  0  0  0  0\n",
      "1\n",
      "   0  1  2  3  4  5  6  7  8  9\n",
      "0  0  0  0  0  0  0  0  0  0  1\n",
      "1  0  0  0  0  0  0  0  0  0  0\n",
      "2  0  0  0  0  0  0  0  0  0  0\n",
      "3  0  0  0  0  0  0  0  0  0  0\n",
      "4  0  0  0  0  0  0  0  0  0  0\n",
      "5  0  0  0  0  0  0  0  0  0  0\n",
      "6  0  0  0  0  0  0  0  0  0  0\n",
      "7  0  0  0  0  0  0  0  0  0  0\n",
      "8  0  0  0  0  0  0  0  0  0  0\n",
      "9  1  0  0  0  0  0  0  0  0  0\n",
      "2\n",
      "   0  1  2  3  4  5  6  7  8  9\n",
      "0  0  0  0  0  0  0  0  0  0  0\n",
      "1  0  0  0  0  1  0  0  0  0  0\n",
      "2  0  0  0  0  0  0  0  0  0  1\n",
      "3  0  0  0  0  0  0  0  0  0  0\n",
      "4  0  0  0  0  0  0  1  0  0  0\n",
      "5  0  0  0  0  0  0  0  0  0  0\n",
      "6  0  1  0  0  0  0  0  0  0  0\n",
      "7  0  0  0  0  0  0  0  0  0  0\n",
      "8  0  0  0  0  0  0  0  0  0  0\n",
      "9  0  0  1  0  0  0  0  0  0  0\n",
      "3\n",
      "   0  1  2  3  4  5  6  7  8  9\n",
      "0  0  0  0  0  0  0  0  0  0  0\n",
      "1  0  0  0  0  0  0  0  0  0  0\n",
      "2  0  0  0  0  0  0  0  0  0  0\n",
      "3  0  0  0  0  0  0  0  0  0  0\n",
      "4  0  0  0  0  0  0  0  0  0  0\n",
      "5  0  0  0  0  0  0  0  0  0  0\n",
      "6  0  0  0  0  0  0  0  0  0  0\n",
      "7  0  0  0  0  0  0  0  0  0  0\n",
      "8  0  0  0  0  0  0  0  0  0  1\n",
      "9  0  0  0  0  0  0  0  0  1  0\n",
      "4\n",
      "   0  1  2  3  4  5  6  7  8  9\n",
      "0  0  0  0  0  0  0  0  0  0  0\n",
      "1  0  0  0  0  0  0  0  0  0  0\n",
      "2  0  0  0  0  0  0  0  0  0  0\n",
      "3  0  0  0  0  0  0  0  0  0  0\n",
      "4  0  0  0  0  0  0  0  0  0  0\n",
      "5  0  0  0  0  0  0  0  0  0  0\n",
      "6  0  0  0  0  0  0  0  0  0  0\n",
      "7  0  0  0  0  0  0  0  0  0  1\n",
      "8  0  0  0  0  0  0  0  0  0  0\n",
      "9  0  0  0  0  0  0  0  1  0  0\n",
      "5\n",
      "   0  1  2  3  4  5  6  7  8  9\n",
      "0  0  0  0  0  0  0  0  0  0  0\n",
      "1  0  0  0  0  0  0  0  0  0  0\n",
      "2  0  0  0  0  0  0  0  0  0  0\n",
      "3  0  0  0  0  0  0  0  0  0  0\n",
      "4  0  0  0  0  0  0  0  0  0  0\n",
      "5  0  0  0  0  0  0  0  0  0  1\n",
      "6  0  0  0  0  0  0  0  0  0  0\n",
      "7  0  0  0  0  0  0  0  0  0  0\n",
      "8  0  0  0  0  0  0  0  0  0  0\n",
      "9  0  0  0  0  0  1  0  0  0  0\n"
     ]
    }
   ],
   "source": [
    "for c in range(m):\n",
    "    print(c)\n",
    "    rows = [i for i in range(n+1)]\n",
    "    adj_matrix = pd.DataFrame(columns=rows, index=rows)\n",
    "    for i in rows:\n",
    "        for j in rows:\n",
    "            adj_matrix.loc[i,j] = int(paths[c,i,j].X)\n",
    "    print(adj_matrix)"
   ]
  }
 ],
 "metadata": {
  "kernelspec": {
   "display_name": "base",
   "language": "python",
   "name": "python3"
  },
  "language_info": {
   "codemirror_mode": {
    "name": "ipython",
    "version": 3
   },
   "file_extension": ".py",
   "mimetype": "text/x-python",
   "name": "python",
   "nbconvert_exporter": "python",
   "pygments_lexer": "ipython3",
   "version": "3.10.9"
  }
 },
 "nbformat": 4,
 "nbformat_minor": 2
}
