{
 "cells": [
  {
   "cell_type": "code",
   "execution_count": 16,
   "id": "fuzzy-intersection",
   "metadata": {
    "pycharm": {
     "name": "#%%\n"
    }
   },
   "outputs": [],
   "source": [
    "from z3 import *\n",
    "from utils import *\n",
    "from math import ceil"
   ]
  },
  {
   "cell_type": "markdown",
   "id": "efe40ec7",
   "metadata": {},
   "source": [
    "### Instances"
   ]
  },
  {
   "cell_type": "code",
   "execution_count": 1,
   "id": "0b179d8b",
   "metadata": {},
   "outputs": [],
   "source": [
    "import os\n",
    "\n",
    "def read_dat_file(file_path):\n",
    "    with open(file_path, 'r') as file:\n",
    "        lines = file.readlines()\n",
    "    \n",
    "    # Read m and n\n",
    "    m = int(lines[0].strip())\n",
    "    n = int(lines[1].strip())\n",
    "    \n",
    "    # Read l vector\n",
    "    l = list(map(int, lines[2].strip().split()))\n",
    "    \n",
    "    # Read s vector\n",
    "    s = list(map(int, lines[3].strip().split()))\n",
    "    \n",
    "    # Read D matrix\n",
    "    D = []\n",
    "    for line in lines[4:]:\n",
    "        D.append(list(map(int, line.strip().split())))\n",
    "    \n",
    "    return {\n",
    "        'm': m,\n",
    "        'n': n,\n",
    "        'l': l,\n",
    "        's': s,\n",
    "        'D': D\n",
    "    }\n",
    "\n",
    "def read_all_dat_files(directory):\n",
    "    instances = []\n",
    "    for filename in os.listdir(directory):\n",
    "        if filename.endswith('.dat'):\n",
    "            file_path = os.path.join(directory, filename)\n",
    "            instance = read_dat_file(file_path)\n",
    "            instances.append(instance)\n",
    "    return instances\n",
    "\n",
    "# Directory containing .dat files\n",
    "directory = 'instances'\n",
    "\n",
    "# Read all .dat files and populate instances\n",
    "instances = read_all_dat_files(directory)\n"
   ]
  },
  {
   "cell_type": "code",
   "execution_count": 21,
   "id": "98580c61",
   "metadata": {},
   "outputs": [
    {
     "name": "stdout",
     "output_type": "stream",
     "text": [
      "339\n"
     ]
    }
   ],
   "source": [
    "for i in instances:\n",
    "    max_element = [max(max(row) for row in i['D'])]\n",
    "\n",
    "max_d = max(max_element)\n",
    "print(max_d)"
   ]
  },
  {
   "cell_type": "markdown",
   "id": "aa41cb44",
   "metadata": {},
   "source": [
    "### MCP"
   ]
  },
  {
   "cell_type": "code",
   "execution_count": null,
   "id": "9783d6f5",
   "metadata": {},
   "outputs": [],
   "source": [
    "\n",
    "def MCP(instance, timeout = 5000):\n",
    "\n",
    "    m = instance['m']\n",
    "    n = instance['n']\n",
    "    l = instance['l']\n",
    "    s = instance['s']\n",
    "    D = instance['D']\n",
    "\n",
    "    path = [[[Bool(f\"p_{i}_{j}_{k}\") for k in range(n)] for j in range(n)] for i in range(m)]\n",
    "\n",
    "    # considerando\n",
    "    max_cost = ceil(n/m)*max_d\n",
    "    \n",
    "    s = Solver()\n",
    "\n",
    "    s.set(timeout=timeout) # priority='pareto\n",
    "    \n",
    "    for i in range(n):\n",
    "        for t in range(n): \n",
    "            s.add(exactly_one_seq([path[c][t][i] for c in range(m)]))\n",
    "\n",
    "    for c in range(m):\n",
    "        for t in range(n): \n",
    "            s.add(exactly_one_seq([path[c][t][i] for i in range(n)]))\n",
    "\n",
    "    # each item is picked by only a courier\n",
    "    for c in range(m):\n",
    "        for i in range(n): \n",
    "            s.add(exactly_one_seq([path[c][t][i] for t in range(n)]))\n",
    "\n",
    "    # Maximum load constraint\n",
    "    for i in range(m):\n",
    "        weigth_set = []\n",
    "        for j in range(n):\n",
    "            for k in range(n):\n",
    "                weigth_set.extend([path[i][j][k]] * s[j])\n",
    "        s.add(at_most_k_seq(weigth_set, l[i]))\n",
    "\n",
    "    # Aggiungere i constraint impliciti\n",
    "    \n",
    "    # Distance constraint ############################################à\n",
    "    distance_set = [[] for _ in range(m)] \n",
    "    f = Bool('flag')\n",
    "    for i in range(m): \n",
    "        f = True\n",
    "        for k in range(n-1): \n",
    "            for ii in [path[i][j][k] for j in range(n)]: \n",
    "                Implies(And(ii, f), distance_set[i].extend([ii] * D[n+1][ii]))\n",
    "                f = False\n",
    "                for jj in [path[i][j][k+1] for j in range(n)]:\n",
    "                    Implies(And(ii,jj), distance_set[i].extend([ii] * D[ii][jj]))\n",
    "                    Implies(Not([path[i][j][k+1] for j in range(n)]), distance_set[i].extend([ii] * D[ii][n+1]))\n",
    "          \n",
    "    while np.sum(flattened_distances[:max_k]) <= upperBound and max_k < n:\n",
    "        max_k += 1\n",
    "\n",
    "    # Gestire l'ottimizzazione\n",
    "    while True: \n",
    "        if s.check() == sat:\n",
    "            m = s.model()\n",
    "            return [(i, j, k) for i in range(m) for j in range(n) for k in range(n) if m.evaluate(path[i][j][k])]\n",
    "        else:\n",
    "            print(\"unsat\")\n",
    "\n"
   ]
  },
  {
   "cell_type": "markdown",
   "id": "ceba714e",
   "metadata": {},
   "source": [
    "### Altro metodo"
   ]
  },
  {
   "cell_type": "code",
   "execution_count": null,
   "id": "95cfb855",
   "metadata": {},
   "outputs": [],
   "source": [
    "\n",
    "def MCP(instance, timeout = 5000):\n",
    "\n",
    "    m = instance['m']\n",
    "    n = instance['n']\n",
    "    l = instance['l']\n",
    "    s = instance['s']\n",
    "    D = instance['D']\n",
    "\n",
    "    # c courier è andato da j a k\n",
    "    # i righe oggetto\n",
    "    # j colonne oggetto\n",
    "    path = [[[Bool(f\"p_{c}_{i}_{j}\") for j in range(n+1)] for i in range(n+1)] for c in range(m)]\n",
    "\n",
    "    # considerando\n",
    "    max_cost = ceil(n/m)*max_d\n",
    "    \n",
    "    s = Solver()\n",
    "    s.set(timeout=timeout) # priority='pareto\n",
    "\n",
    "    # tutti partono da n+1 e finiscono a n+1\n",
    "    for c in range(m):\n",
    "        s.add(exactly_one_seq([path[c][n+1][j] for j in range(n+1)]))\n",
    "        s.add(exactly_one_seq([path[c][i][n+1] for i in range(n+1)]))\n",
    "    \n",
    "    # ogni items viene preso da massimo un courier  \n",
    "    for i in range(n+1):\n",
    "        for j in range(n+1):\n",
    "            s.add(at_most_one_seq([path[c][i][j] for c in range(m)]))\n",
    "    \n",
    "    # catena di couriers\n",
    "    for c in range(m):\n",
    "        for i in range(n+1):\n",
    "            for j in range(n+1):\n",
    "                s.add(Implies(path[c][i][j], exactly_one_seq([path[c][j][k] for k in range(n+1)])))\n",
    "\n",
    "    for c in range(m):\n",
    "        for j in range(n+1): \n",
    "            s.add(at_most_one_seq([path[c][i][j] for i in range(n+1)]))\n",
    "    \n",
    "    for c in range(m):\n",
    "        for i in range(n+1): \n",
    "            s.add(at_most_one_seq([path[c][i][j] for j in range(n+1)]))\n",
    "\n",
    "    # Maximum load constraint \n",
    "    for c in range(m):\n",
    "        weigth_set = []\n",
    "        for i in range(n):\n",
    "            for k in range(n+1):\n",
    "                weigth_set.extend([path[c][i][j]] * s[i])\n",
    "        s.add(at_most_k_seq(weigth_set, l[c]))\n",
    "\n",
    "    # Aggiungere i constraint impliciti------------------------\n",
    "    \n",
    "    # Distance constraint ############################################à\n",
    "    distance_set = [[] for _ in range(m)] \n",
    "    for c in range(m): \n",
    "        for i in range(n+1): \n",
    "            for j in range(n+1):\n",
    "                distance_set[c].extend([path[c][i][j]] * D[i])\n",
    "                \n",
    "          \n",
    "    # capire come fare l'ottimizzazione -> git hub\n",
    "\n",
    "    # Gestire l'ottimizzazione\n",
    "    while True: \n",
    "        if s.check() == sat:\n",
    "            m = s.model()\n",
    "            return [(i, j, k) for i in range(m) for j in range(n) for k in range(n) if m.evaluate(path[i][j][k])]\n",
    "        else:\n",
    "            print(\"unsat\")\n",
    "\n"
   ]
  },
  {
   "cell_type": "markdown",
   "id": "a861dc81",
   "metadata": {},
   "source": [
    "### SAT con adder "
   ]
  },
  {
   "cell_type": "code",
   "execution_count": null,
   "id": "2c0900b1",
   "metadata": {},
   "outputs": [],
   "source": []
  }
 ],
 "metadata": {
  "kernelspec": {
   "display_name": "Python 3",
   "language": "python",
   "name": "python3"
  },
  "language_info": {
   "codemirror_mode": {
    "name": "ipython",
    "version": 3
   },
   "file_extension": ".py",
   "mimetype": "text/x-python",
   "name": "python",
   "nbconvert_exporter": "python",
   "pygments_lexer": "ipython3",
   "version": "3.11.2"
  },
  "vscode": {
   "interpreter": {
    "hash": "5238573367df39f7286bb46f9ff5f08f63a01a80960060ce41e3c79b190280fa"
   }
  }
 },
 "nbformat": 4,
 "nbformat_minor": 5
}
