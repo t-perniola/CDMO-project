{
 "cells": [
  {
   "cell_type": "markdown",
   "id": "accessory-couple",
   "metadata": {},
   "source": [
    "# Z3 SAT Exercises\n",
    "\n",
    "> Before trying to solve the exercises contained in this notebook, the reader is suggested to have gained experience with the tool through the `Tutorial.ipynb` notebook."
   ]
  },
  {
   "cell_type": "code",
   "execution_count": null,
   "id": "17060a22",
   "metadata": {},
   "outputs": [],
   "source": [
    "!pip3 install z3-solver"
   ]
  },
  {
   "cell_type": "code",
   "execution_count": 1,
   "id": "fuzzy-intersection",
   "metadata": {
    "pycharm": {
     "name": "#%%\n"
    }
   },
   "outputs": [],
   "source": [
    "from itertools import combinations\n",
    "from z3 import *\n",
    "from utils import *"
   ]
  },
  {
   "cell_type": "markdown",
   "id": "f25d8a5b",
   "metadata": {},
   "source": [
    "## Useful contraints"
   ]
  },
  {
   "cell_type": "code",
   "execution_count": 2,
   "id": "f81eab93",
   "metadata": {
    "pycharm": {
     "name": "#%%\n"
    }
   },
   "outputs": [],
   "source": [
    "def at_least_one(bool_vars):\n",
    "    return Or(bool_vars)\n",
    "\n",
    "def at_most_one(bool_vars):\n",
    "    return [Not(And(pair[0], pair[1])) for pair in combinations(bool_vars, 2)]\n",
    "    # tutte le combinazioni possibili di lunghezza 2\n",
    "\n",
    "def exactly_one(bool_vars):\n",
    "    return at_most_one(bool_vars) + [at_least_one(bool_vars)]"
   ]
  },
  {
   "cell_type": "markdown",
   "id": "8191d230",
   "metadata": {},
   "source": [
    "## Knights and Knaves"
   ]
  },
  {
   "cell_type": "code",
   "execution_count": 3,
   "id": "422111cc",
   "metadata": {},
   "outputs": [
    {
     "name": "stdout",
     "output_type": "stream",
     "text": [
      "[AisKnight = True, BisKnight = False]\n"
     ]
    }
   ],
   "source": [
    "# Which are the variables?\n",
    "# Secondo il tutor in questo caso non è necessario usare l'exclusive or, però si potrebbe anche aggiungere\n",
    "AisKnight = Bool(\"AisKnight\")\n",
    "BisKnight = Bool(\"BisKnight\")\n",
    "\n",
    "s = Solver()\n",
    "\n",
    "# Encode A's statement\n",
    "statement = Or(AisKnight, Not(BisKnight))\n",
    "\n",
    "# If A is a knight, then A's statement is true\n",
    "constraint1 = Implies(AisKnight, statement)\n",
    "\n",
    "# If A is a knave, then A's statement is a lie\n",
    "constraint2 = Implies(Not(AisKnight), Not(statement))\n",
    "\n",
    "# Unicity check\n",
    "# s.add(Not(And(AisKnight, BisKnight)))\n",
    "s.add(constraint1)\n",
    "s.add(constraint2)\n",
    "\n",
    "outcome = s.check()\n",
    "\n",
    "if outcome == sat:\n",
    "    print(s.model())\n",
    "else: \n",
    "    print('the model is not sat')\n"
   ]
  },
  {
   "cell_type": "markdown",
   "id": "048d1ab0",
   "metadata": {},
   "source": [
    "## Coloring graph"
   ]
  },
  {
   "cell_type": "markdown",
   "id": "db9932e4",
   "metadata": {},
   "source": [
    "Another famous problem is the [coloring graph](https://www.google.com/url?sa=t&rct=j&q=&esrc=s&source=web&cd=&cad=rja&uact=8&ved=2ahUKEwjAlpGV4az2AhUP2aQKHY_5BQwQFnoECAQQAQ&url=https%3A%2F%2Fen.wikipedia.org%2Fwiki%2FGraph_coloring&usg=AOvVaw0F_XS2AN3uz4G-IJx5Q8j0). \n",
    "\n",
    "Given a graph $({v_1,...,v_n},E)$ and $d$ colors, we need to assign a color to each vertex, s.t. if $(v_i,v_j) ∈ E$ then color of $v_i$ is different from color of $v_j$. "
   ]
  },
  {
   "cell_type": "code",
   "execution_count": 25,
   "id": "f5831703",
   "metadata": {},
   "outputs": [],
   "source": [
    "def coloring_graph_sat1(n, d, E):\n",
    "\n",
    "    # Create the variables, x_i_j = 1 iff vertex i is colored with color j.\n",
    "    v = [[Bool(f'v_{i,j}') for j in range(d)] for i in range(n)] # nested list comprehension\n",
    "    \n",
    "    # v = [Bool(f'v_{i,j}') for j in range(d) for i in range(n)] # in questo caso mi crea un'unica lista, non liste innestate\n",
    "\n",
    "    # Solver instance\n",
    "    s = Solver()\n",
    "    \n",
    "    # Each vertex has at least one color \n",
    "    for i in range(n):\n",
    "        s.add(Or(v[i])) # ogni volta che faccio l'add AND è sottinteso per le clause \n",
    "        # Questa clausola è formata dalla disgiunzione (Or) di tutte le variabili v[i][j] relative al vertice i\n",
    "    \n",
    "    # Each edge must have different colors in its vertices\n",
    "    for i, j in E:  # E is a tuple che ha tutte le coppie adiacenti\n",
    "        for k in range(d):\n",
    "            s.add(Not(And(v[i][k], v[j][k])))\n",
    "\n",
    "    if s.check() == sat:\n",
    "        return s.model()\n",
    "    else:\n",
    "        return 'Error'"
   ]
  },
  {
   "cell_type": "code",
   "execution_count": 26,
   "id": "8c485f56",
   "metadata": {},
   "outputs": [],
   "source": [
    "def coloring_graph_sat(n, d, E):\n",
    "\n",
    "    # Create the variables, x_i_j = 1 iff vertex i is colored with color j.\n",
    "    v = [[Bool(f'v_{i,j}') for j in range(d)] for i in range(n)] # nested list comprehension\n",
    "    \n",
    "    # v = [Bool(f'v_{i,j}') for j in range(d) for i in range(n)] # in questo caso mi crea un'unica lista, non liste innestate\n",
    "\n",
    "    # Solver instance\n",
    "    s = Solver()\n",
    "    \n",
    "    # Each vertex has at least one color \n",
    "    for i in range(n):\n",
    "        s.add(Or(v[i])) # ogni volta che faccio l'add AND è sottinteso per le clause \n",
    "        # Questa clausola è formata dalla disgiunzione (Or) di tutte le variabili v[i][j] relative al vertice i\n",
    "    \n",
    "    # Each edge must have different colors in its vertices\n",
    "    for i, j in E:  # E is a tuple che ha tutte le coppie adiacenti\n",
    "        for k in range(d):\n",
    "            s.add(Not(And(v[i][k], v[j][k])))\n",
    "\n",
    "    if s.check() == sat:\n",
    "        m = s.model()\n",
    "    else:\n",
    "        return 'Error'\n",
    "    \n",
    "    return [(i,j) for i in range(n) for j in range(d) if m.evaluate(v[i][j])] # solo se la variabile booleana viene valutata come vera\n",
    "    # serve a restituire una tupla contenente il vertice e il colore assegnato dal solver"
   ]
  },
  {
   "cell_type": "code",
   "execution_count": 18,
   "id": "f0fb1462",
   "metadata": {},
   "outputs": [
    {
     "name": "stdout",
     "output_type": "stream",
     "text": [
      "[[v_(0, 0), v_(0, 1), v_(0, 2), v_(0, 3)], [v_(1, 0), v_(1, 1), v_(1, 2), v_(1, 3)], [v_(2, 0), v_(2, 1), v_(2, 2), v_(2, 3)], [v_(3, 0), v_(3, 1), v_(3, 2), v_(3, 3)], [v_(4, 0), v_(4, 1), v_(4, 2), v_(4, 3)], [v_(5, 0), v_(5, 1), v_(5, 2), v_(5, 3)], [v_(6, 0), v_(6, 1), v_(6, 2), v_(6, 3)], [v_(7, 0), v_(7, 1), v_(7, 2), v_(7, 3)], [v_(8, 0), v_(8, 1), v_(8, 2), v_(8, 3)], [v_(9, 0), v_(9, 1), v_(9, 2), v_(9, 3)]]\n",
      "[v_(0, 0), v_(0, 1), v_(0, 2), v_(0, 3)]\n",
      "[v_(1, 0), v_(1, 1), v_(1, 2), v_(1, 3)]\n",
      "[v_(2, 0), v_(2, 1), v_(2, 2), v_(2, 3)]\n",
      "[v_(3, 0), v_(3, 1), v_(3, 2), v_(3, 3)]\n",
      "[v_(4, 0), v_(4, 1), v_(4, 2), v_(4, 3)]\n",
      "[v_(5, 0), v_(5, 1), v_(5, 2), v_(5, 3)]\n",
      "[v_(6, 0), v_(6, 1), v_(6, 2), v_(6, 3)]\n",
      "[v_(7, 0), v_(7, 1), v_(7, 2), v_(7, 3)]\n",
      "[v_(8, 0), v_(8, 1), v_(8, 2), v_(8, 3)]\n",
      "[v_(9, 0), v_(9, 1), v_(9, 2), v_(9, 3)]\n"
     ]
    }
   ],
   "source": [
    "v = [[Bool(f'v_{i,j}') for j in range(4)] for i in range(10)]\n",
    "print(v)\n",
    "for i in range(10):\n",
    "    print(v[i])"
   ]
  },
  {
   "cell_type": "code",
   "execution_count": 9,
   "id": "efdbca29",
   "metadata": {},
   "outputs": [],
   "source": [
    "instance1 = {\n",
    "        \"n\" : 5,\n",
    "        \"d\": 3,\n",
    "        \"E\" : [\n",
    "            (0, 2),\n",
    "            (0, 4),\n",
    "            (1, 2),\n",
    "            (1, 4),\n",
    "            (2, 3), \n",
    "            (3, 4)\n",
    "        ]\n",
    "    }\n",
    "instance2 = {\n",
    "        \"n\":10,\n",
    "        \"d\":3,\n",
    "        \"E\":[\n",
    "            (0, 1),\n",
    "            (0, 4),\n",
    "            (0, 5),\n",
    "            (1, 2),\n",
    "            (1, 6),\n",
    "            (2, 7),\n",
    "            (2, 3),\n",
    "            (3, 8),\n",
    "            (3, 4),\n",
    "            (4, 9),\n",
    "            (9, 6),\n",
    "            (9, 7),\n",
    "            (6, 8),\n",
    "            (5, 7),\n",
    "            (5, 8), \n",
    "        ]\n",
    "}"
   ]
  },
  {
   "cell_type": "code",
   "execution_count": 10,
   "id": "acdb4f25",
   "metadata": {},
   "outputs": [],
   "source": [
    "instance = instance2"
   ]
  },
  {
   "cell_type": "code",
   "execution_count": 28,
   "id": "4f3476b8",
   "metadata": {},
   "outputs": [
    {
     "data": {
      "text/html": [
       "[v_(7, 1) = True,\n",
       " v_(5, 2) = True,\n",
       " v_(2, 2) = False,\n",
       " v_(0, 0) = True,\n",
       " v_(3, 1) = False,\n",
       " v_(5, 0) = False,\n",
       " v_(6, 2) = False,\n",
       " v_(6, 0) = False,\n",
       " v_(9, 0) = True,\n",
       " v_(7, 0) = False,\n",
       " v_(8, 1) = False,\n",
       " v_(0, 1) = False,\n",
       " v_(4, 0) = False,\n",
       " v_(8, 2) = False,\n",
       " v_(9, 1) = False,\n",
       " v_(1, 2) = True,\n",
       " v_(2, 0) = True,\n",
       " v_(3, 2) = True,\n",
       " v_(2, 1) = False,\n",
       " v_(7, 2) = False,\n",
       " v_(4, 2) = False,\n",
       " v_(8, 0) = True,\n",
       " v_(5, 1) = False,\n",
       " v_(9, 2) = False,\n",
       " v_(0, 2) = False,\n",
       " v_(4, 1) = True,\n",
       " v_(6, 1) = True,\n",
       " v_(3, 0) = False,\n",
       " v_(1, 1) = False,\n",
       " v_(1, 0) = False]"
      ],
      "text/plain": [
       "[v_(7, 1) = True,\n",
       " v_(5, 2) = True,\n",
       " v_(2, 2) = False,\n",
       " v_(0, 0) = True,\n",
       " v_(3, 1) = False,\n",
       " v_(5, 0) = False,\n",
       " v_(6, 2) = False,\n",
       " v_(6, 0) = False,\n",
       " v_(9, 0) = True,\n",
       " v_(7, 0) = False,\n",
       " v_(8, 1) = False,\n",
       " v_(0, 1) = False,\n",
       " v_(4, 0) = False,\n",
       " v_(8, 2) = False,\n",
       " v_(9, 1) = False,\n",
       " v_(1, 2) = True,\n",
       " v_(2, 0) = True,\n",
       " v_(3, 2) = True,\n",
       " v_(2, 1) = False,\n",
       " v_(7, 2) = False,\n",
       " v_(4, 2) = False,\n",
       " v_(8, 0) = True,\n",
       " v_(5, 1) = False,\n",
       " v_(9, 2) = False,\n",
       " v_(0, 2) = False,\n",
       " v_(4, 1) = True,\n",
       " v_(6, 1) = True,\n",
       " v_(3, 0) = False,\n",
       " v_(1, 1) = False,\n",
       " v_(1, 0) = False]"
      ]
     },
     "execution_count": 28,
     "metadata": {},
     "output_type": "execute_result"
    }
   ],
   "source": [
    "coloring_graph_sat1(instance['n'], instance['d'], instance['E'])\n",
    "# vedo tutte le assegnazioni, NON LEGGIBILE!!"
   ]
  },
  {
   "cell_type": "code",
   "execution_count": 29,
   "id": "09e44a8a",
   "metadata": {},
   "outputs": [
    {
     "data": {
      "text/plain": [
       "[(0, 0),\n",
       " (1, 2),\n",
       " (2, 0),\n",
       " (3, 2),\n",
       " (4, 1),\n",
       " (5, 2),\n",
       " (6, 1),\n",
       " (7, 1),\n",
       " (8, 0),\n",
       " (9, 0)]"
      ]
     },
     "execution_count": 29,
     "metadata": {},
     "output_type": "execute_result"
    }
   ],
   "source": [
    "coloring_graph_sat(instance['n'], instance['d'], instance['E'])\n",
    "# lista di tuple, (vertice, colore)"
   ]
  },
  {
   "cell_type": "code",
   "execution_count": 32,
   "id": "acf333f6",
   "metadata": {},
   "outputs": [
    {
     "name": "stdout",
     "output_type": "stream",
     "text": [
      "CPU times: total: 46.9 ms\n",
      "Wall time: 49 ms\n"
     ]
    },
    {
     "data": {
      "image/png": "[encoded data removed]",
      "text/plain": [
       "<Figure size 640x480 with 1 Axes>"
      ]
     },
     "metadata": {},
     "output_type": "display_data"
    }
   ],
   "source": [
    "%%time\n",
    "display_color_graph(sol = coloring_graph_sat(instance2[\"n\"], instance2[\"d\"], instance2[\"E\"]), E = instance2[\"E\"])\n",
    "# # funzione dell'utils"
   ]
  },
  {
   "cell_type": "markdown",
   "id": "50a7ea52",
   "metadata": {},
   "source": [
    "## N-Queens"
   ]
  },
  {
   "cell_type": "markdown",
   "id": "d18ea08c",
   "metadata": {},
   "source": [
    "The [n-queens problem](https://en.wikipedia.org/wiki/Eight_queens_puzzle) is the problem of placing n chess queens in a $nxn$ chessboard so that no two queens threaten each other. In light of this, the solution requires that no two queens share the same row, column, or diagonal."
   ]
  },
  {
   "cell_type": "code",
   "execution_count": 32,
   "id": "7f070a1e",
   "metadata": {
    "pycharm": {
     "name": "#%%\n"
    }
   },
   "outputs": [],
   "source": [
    "def nqueens_sat(n):\n",
    "    # Create all the variables\n",
    "    p = [[Bool(f\"x_{i}_{j}\") for j in range(n)] for i in range(n)]\n",
    "\n",
    "    # Create the solver instance\n",
    "    s = Solver()\n",
    "\n",
    "    # Exactly one on each row and column\n",
    "    for i in range(n):\n",
    "        s.add(exactly_one(p[i]))\n",
    "        s.add(exactly_one([p[j][i] for j in range(n)]))\n",
    "\n",
    "    # Add the diagonal constraints\n",
    "    for i in range(n - 1):\n",
    "        diag_ru_ll = []\n",
    "        diag_lu_rl = []\n",
    "        diag_ll_ru = []\n",
    "        diag_rl_lu = []\n",
    "        for j in range(n - i):\n",
    "            # tutte le diagonali partono dal centro e poi fanno quattro movimenti diversi\n",
    "            # 2 movimenti per diagonale\n",
    "            # possono scendere o salire\n",
    "            diag_ll_ru += [p[i + j][j]]\n",
    "            diag_lu_rl += [p[n - 1 - (i + j)][j]]\n",
    "            diag_rl_lu += [p[i + j][n - 1 - j]]\n",
    "            diag_ru_ll += [p[n - 1 - (i + j)][n - 1 - j]]\n",
    "        s.add(at_most_one(diag_ru_ll))\n",
    "        s.add(at_most_one(diag_lu_rl))\n",
    "        s.add(at_most_one(diag_rl_lu))\n",
    "        s.add(at_most_one(diag_ll_ru))\n",
    "    \n",
    "        print(diag_ll_ru, diag_lu_rl, diag_rl_lu, diag_ru_ll)\n",
    "\n",
    "    s.check()\n",
    "\n",
    "    m = s.model()\n",
    "    return [(i, j) for i in range(n) for j in range(n) if m.evaluate(p[i][j])]"
   ]
  },
  {
   "cell_type": "code",
   "execution_count": 33,
   "id": "967ff352",
   "metadata": {},
   "outputs": [
    {
     "name": "stdout",
     "output_type": "stream",
     "text": [
      "[x_0_0, x_1_1, x_2_2, x_3_3] [x_3_0, x_2_1, x_1_2, x_0_3] [x_0_3, x_1_2, x_2_1, x_3_0] [x_3_3, x_2_2, x_1_1, x_0_0]\n",
      "[x_1_0, x_2_1, x_3_2] [x_2_0, x_1_1, x_0_2] [x_1_3, x_2_2, x_3_1] [x_2_3, x_1_2, x_0_1]\n",
      "[x_2_0, x_3_1] [x_1_0, x_0_1] [x_2_3, x_3_2] [x_1_3, x_0_2]\n"
     ]
    },
    {
     "data": {
      "text/plain": [
       "[(0, 2), (1, 0), (2, 3), (3, 1)]"
      ]
     },
     "execution_count": 33,
     "metadata": {},
     "output_type": "execute_result"
    }
   ],
   "source": [
    "nqueens_sat(4)"
   ]
  },
  {
   "cell_type": "code",
   "execution_count": 29,
   "id": "62b5ea5b",
   "metadata": {},
   "outputs": [
    {
     "name": "stdout",
     "output_type": "stream",
     "text": [
      ". . ♛ . \n",
      "♛ . . . \n",
      ". . . ♛ \n",
      ". ♛ . . \n",
      "CPU times: total: 15.6 ms\n",
      "Wall time: 26 ms\n"
     ]
    }
   ],
   "source": [
    "%%time\n",
    "display_nqueens(nqueens_sat(4))"
   ]
  },
  {
   "cell_type": "markdown",
   "id": "strange-condition",
   "metadata": {},
   "source": [
    "## Sudoku\n",
    "\n",
    "[Sudoku](https://en.wikipedia.org/wiki/Sudoku) is a logic-based, combinatorial number-placement puzzle. In classic sudoku, the objective is to fill a 9 × 9 grid with digits so that each column, each row, and each of the nine 3 × 3 subgrids that compose the grid contain all of the digits from 1 to 9. "
   ]
  },
  {
   "cell_type": "code",
   "execution_count": 4,
   "id": "charitable-branch",
   "metadata": {
    "pycharm": {
     "name": "#%%\n"
    }
   },
   "outputs": [],
   "source": [
    "# Sudoku instances, '0's correspond to empty cells\n",
    "\n",
    "instance1 = ((0, 0, 0, 0, 9, 4, 0, 3, 0),\n",
    "             (0, 0, 0, 5, 1, 0, 0, 0, 7),\n",
    "             (0, 8, 9, 0, 0, 0, 0, 4, 0),\n",
    "             (0, 0, 0, 0, 0, 0, 2, 0, 8),\n",
    "             (0, 6, 0, 2, 0, 1, 0, 5, 0),\n",
    "             (1, 0, 2, 0, 0, 0, 0, 0, 0),\n",
    "             (0, 7, 0, 0, 0, 0, 5, 2, 0),\n",
    "             (9, 0, 0, 0, 6, 5, 0, 0, 0),\n",
    "             (0, 4, 0, 9, 7, 0, 0, 0, 0))\n",
    "\n",
    "instance2 = ((0, 0, 0, 0, 9, 0, 1, 0, 0),\n",
    "             (2, 8, 0, 0, 0, 5, 0, 0, 0),\n",
    "             (7, 0, 0, 0, 0, 6, 4, 0, 0),\n",
    "             (8, 0, 5, 0, 0, 3, 0, 0, 6),\n",
    "             (0, 0, 1, 0, 0, 4, 0, 0, 0),\n",
    "             (0, 7, 0, 2, 0, 0, 0, 0, 0),\n",
    "             (3, 0, 0, 0, 0, 1, 0, 8, 0),\n",
    "             (0, 0, 0, 0, 0, 0, 0, 5, 0),\n",
    "             (0, 9, 0, 0, 0, 0, 0, 7, 0))\n",
    "\n",
    "instance3 = ((0, 7, 0, 0, 0, 0, 0, 4, 9),\n",
    "             (0, 0, 0, 4, 0, 0, 0, 0, 0),\n",
    "             (4, 0, 3, 5, 0, 7, 0, 0, 8),\n",
    "             (0, 0, 7, 2, 5, 0, 4, 0, 0),\n",
    "             (0, 0, 0, 0, 0, 0, 8, 0, 0),\n",
    "             (0, 0, 4, 0, 3, 0, 5, 9, 2),\n",
    "             (6, 1, 8, 0, 0, 0, 0, 0, 5),\n",
    "             (0, 9, 0, 1, 0, 0, 0, 3, 0),\n",
    "             (0, 0, 5, 0, 0, 0, 0, 0, 7))\n",
    "\n",
    "instance4 = ((0, 0, 0, 0, 0, 6, 0, 0, 0),\n",
    "             (0, 5, 9, 0, 0, 0, 0, 0, 8),\n",
    "             (2, 0, 0, 0, 0, 8, 0, 0, 0),\n",
    "             (0, 4, 5, 0, 0, 0, 0, 0, 0),\n",
    "             (0, 0, 3, 0, 0, 0, 0, 0, 0),\n",
    "             (0, 0, 6, 0, 0, 3, 0, 5, 4),\n",
    "             (0, 0, 0, 3, 2, 5, 0, 0, 6),\n",
    "             (0, 0, 0, 0, 0, 0, 0, 0, 0),\n",
    "             (0, 0, 0, 0, 0, 0, 0, 0, 0))"
   ]
  },
  {
   "cell_type": "code",
   "execution_count": 65,
   "id": "complete-single",
   "metadata": {
    "pycharm": {
     "name": "#%%\n"
    }
   },
   "outputs": [],
   "source": [
    "def sudoku_sat(instance):\n",
    "    # All the variables we need: for each cell, nine variables that determine which digit must be assigned.\n",
    "    sudoku = [[[Bool(f\"v_{i}_{j}_{k}\") for k in range(9)] for j in range(9)] for i in range(9)]\n",
    "\n",
    "    print(type(instance)) # l'instanza è una tupla di tuple, per ogni riga ha una tupla, e due elementi della tupla sono un intero\n",
    "    print(instance[0][0])\n",
    "\n",
    "    print(sudoku[0][5][instance[0][5] - 1])  # [v_0_0_0, v_0_0_1, v_0_0_2, v_0_0_3, v_0_0_4, v_0_0_5, v_0_0_6, v_0_0_7, v_0_0_8]\n",
    "\n",
    "    s = Solver()\n",
    "\n",
    "    # A cell has only one value\n",
    "    for i in range(9):\n",
    "        for j in range(9):\n",
    "            s.add(exactly_one(sudoku[i][j]))\n",
    "    \n",
    "\n",
    "    \n",
    "    # Each value is used only once in a row\n",
    "    for j in range(9):\n",
    "        for k in range(9):\n",
    "            s.add(exactly_one([sudoku[i][j][k] for i in range(9)]))\n",
    "\n",
    "    # Each value used exactly once in each column\n",
    "    for i in range(9):\n",
    "        for k in range(9):\n",
    "            s.add(exactly_one([sudoku[i][j][k] for j in range(9)]))\n",
    "\n",
    "    # Each value used exactly once in each 3x3 grid.\n",
    "    for i in range(3):\n",
    "        for j in range(3):\n",
    "            for k in range(9):\n",
    "                s.add(exactly_one([sudoku[i*3 + a][j*3 + b][k] for a in range(3) for b in range(3)]))\n",
    "\n",
    "    # serve solo a inserire in and i valori già preimpostati, come?\n",
    "    # dichia rando le variabili booleane i,j con k-1 poichè abbiamo k che va da 0 a 8 per i numeri da 1 a 9\n",
    "    # Some numbers are already available\n",
    "    for i in range(9):\n",
    "        for j in range(9):\n",
    "            if instance[i][j] > 0:\n",
    "                s.add(sudoku[i][j][instance[i][j] - 1])\n",
    "    \n",
    "    # questo mi serve a returnare una lista di liste per ogni riga, con il valore corretto che sarebbe k+1\n",
    "    if s.check() == sat:\n",
    "        m = s.model()\n",
    "        sol = []\n",
    "        for i in range(9):\n",
    "            sol.append([])\n",
    "            for j in range(9):\n",
    "                for k in range(9):\n",
    "                    if m.evaluate(sudoku[i][j][k]):\n",
    "                        sol[i].append(k+1)\n",
    "        return sol\n",
    "    else:\n",
    "        print(\"Failed to solve\")\n"
   ]
  },
  {
   "cell_type": "code",
   "execution_count": 66,
   "id": "7f3892f2",
   "metadata": {},
   "outputs": [
    {
     "name": "stdout",
     "output_type": "stream",
     "text": [
      "<class 'tuple'>\n",
      "0\n",
      "v_0_5_5\n"
     ]
    },
    {
     "data": {
      "text/plain": [
       "[[3, 8, 7, 4, 5, 6, 2, 1, 9],\n",
       " [1, 5, 9, 2, 3, 7, 4, 6, 8],\n",
       " [2, 6, 4, 1, 9, 8, 5, 3, 7],\n",
       " [7, 4, 5, 6, 1, 2, 8, 9, 3],\n",
       " [8, 1, 3, 5, 4, 9, 6, 7, 2],\n",
       " [9, 2, 6, 8, 7, 3, 1, 5, 4],\n",
       " [4, 7, 1, 3, 2, 5, 9, 8, 6],\n",
       " [6, 3, 2, 9, 8, 1, 7, 4, 5],\n",
       " [5, 9, 8, 7, 6, 4, 3, 2, 1]]"
      ]
     },
     "execution_count": 66,
     "metadata": {},
     "output_type": "execute_result"
    }
   ],
   "source": [
    "sudoku_sat(instance=instance4)"
   ]
  },
  {
   "cell_type": "code",
   "execution_count": 61,
   "id": "42ba914c",
   "metadata": {
    "pycharm": {
     "name": "#%%\n"
    }
   },
   "outputs": [
    {
     "data": {
      "image/png": "[encoded data removed]",
      "text/plain": [
       "<Figure size 400x400 with 1 Axes>"
      ]
     },
     "metadata": {},
     "output_type": "display_data"
    }
   ],
   "source": [
    "# Select the instance you want to solve\n",
    "instance = instance4\n",
    "display_sudoku(instance)"
   ]
  },
  {
   "cell_type": "code",
   "execution_count": 67,
   "id": "6d7082ce",
   "metadata": {
    "pycharm": {
     "name": "#%%\n"
    }
   },
   "outputs": [
    {
     "name": "stdout",
     "output_type": "stream",
     "text": [
      "<class 'tuple'>\n",
      "0\n",
      "v_0_5_5\n"
     ]
    },
    {
     "data": {
      "image/png": "[encoded data removed]",
      "text/plain": [
       "<Figure size 400x400 with 1 Axes>"
      ]
     },
     "metadata": {},
     "output_type": "display_data"
    },
    {
     "name": "stdout",
     "output_type": "stream",
     "text": [
      "CPU times: total: 1.58 s\n",
      "Wall time: 1.59 s\n"
     ]
    }
   ],
   "source": [
    "%%time\n",
    "display_sudoku(sudoku_sat(instance))"
   ]
  },
  {
   "cell_type": "markdown",
   "id": "f0f3cc1f",
   "metadata": {},
   "source": [
    "## Nurse scheduling problem"
   ]
  },
  {
   "cell_type": "markdown",
   "id": "8cae047c",
   "metadata": {},
   "source": [
    "In the next example, called [nurse scheduling problem](https://en.wikipedia.org/wiki/Nurse_scheduling_problem), a hospital supervisor needs to create a schedule for $n$ nurses over a fixed day period, subject to the following conditions:\n",
    "\n",
    "- Each day is divided into three 8-hour shifts.\n",
    "- Every day, each shift is assigned to a single nurse, and no nurse works more than one shift.\n",
    "- Each nurse is assigned to a minimum amount of shifts during the given days period.\n"
   ]
  },
  {
   "cell_type": "code",
   "execution_count": 3,
   "id": "268ff20e",
   "metadata": {},
   "outputs": [],
   "source": [
    "instance1 = {\n",
    "    \"num_nurses\" : 4,\n",
    "    \"num_shifts\" : 3,\n",
    "    \"num_days\" : 3\n",
    "}\n",
    "\n",
    "instance2 = {\n",
    "    \"num_nurses\" : 4,\n",
    "    \"num_shifts\" : 3,\n",
    "    \"num_days\" : 4\n",
    "}"
   ]
  },
  {
   "cell_type": "markdown",
   "id": "f03dee6d",
   "metadata": {},
   "source": [
    "### Advanced useful contraints"
   ]
  },
  {
   "cell_type": "code",
   "execution_count": 5,
   "id": "f08178b7",
   "metadata": {},
   "outputs": [],
   "source": [
    "def at_least_k_np(bool_vars, k):\n",
    "    return at_most_k_np([Not(var) for var in bool_vars], len(bool_vars)-k) # l'inverso e il complemento\n",
    "\n",
    "def at_most_k_np(bool_vars, k):\n",
    "    return And([Or([Not(x) for x in X]) for X in combinations(bool_vars, k + 1)])\n",
    "    # nel senso che non esiste nessuna combinazione di k+1 variabili booleane che sia vera\n",
    "    # per avere l'Or falso basta che ce ne sia almeno una sempre quindi falsa, in modo tale che le combinazioni quindi siano al massimo k \n",
    "\n",
    "def exactly_k_np(bool_vars, k):\n",
    "    return And(at_most_k_np(bool_vars, k), at_least_k_np(bool_vars, k))"
   ]
  },
  {
   "cell_type": "markdown",
   "id": "d6314be1",
   "metadata": {},
   "source": [
    "## Try it yourself!\n",
    "\n",
    "Try to model the variables and constraints to solve the nurse scheduling problem, starting from the examples listed above. \n",
    "\n",
    "If possible, shifts should be distributed evenly and fairly, so that each nurse works the minimum amount of them. If this is not possible, because the total number of shifts is not divisible by the number of nurses, some nurses will be assigned one more shift, without crossing the maximum number of shifts which can be worked by each nurse"
   ]
  },
  {
   "cell_type": "code",
   "execution_count": 9,
   "id": "832e85c5",
   "metadata": {},
   "outputs": [],
   "source": [
    "def nurse_scheduling_sat(num_nurses, num_shifts, num_days, timeout = None):\n",
    "\n",
    "    # Create all the variables, shifts[i, j, k] is True if shift k is assigned to nurse i on day j.\n",
    "    shifts = [[[Bool(f's_{i}_{j}_{k}') for k in range(num_shifts)] for j in range(num_days)] for i in range(num_nurses)]\n",
    "    \n",
    "    s = Solver()\n",
    "\n",
    "    # This gives the solver a maximum time to find a solution, if it is exceeded the solver will report that it didn't find a solution\n",
    "    # with the set method we can set other parameters about the solver we can costumize\n",
    "    # in the exam we will have a time within the solver has to find a solution\n",
    "    if timeout:\n",
    "        s.set('timout', timeout)\n",
    "    \n",
    "    # In each shift can work just one nurse\n",
    "    for j in range(num_days):\n",
    "        for k in range(num_shifts):\n",
    "            s.add(exactly_one([shifts[i][j][k] for i in range(num_nurses)]))\n",
    "    \n",
    "    # Each nurse can work just one shift per day \n",
    "    for i in range(num_nurses):\n",
    "        for j in range(num_days):\n",
    "            s.add(at_most_one(shifts[i][j]))\n",
    "    \n",
    "    \n",
    "    # Fair assignment of shifts, dobbiamo trovare un modo per dire -> ok l'assegnazione delle ore per tutte le infermiere è giusta\n",
    "    # Fair assignment of shifts\n",
    "    min_n_shifts_per_nurse = (num_days * num_shifts) // num_nurses\n",
    "    if (num_days * num_shifts) % num_nurses == 0:\n",
    "        max_n_shifts_per_nurse = min_n_shifts_per_nurse\n",
    "    else:\n",
    "        max_n_shifts_per_nurse = min_n_shifts_per_nurse + 1\n",
    "\n",
    "\n",
    "    for i in range(num_nurses):\n",
    "        shifts_worked = []\n",
    "        for j in range(num_days):\n",
    "            for k in range(num_shifts):\n",
    "                shifts_worked.append(shifts[i][j][k])\n",
    "        s.add(at_least_k_np(shifts_worked, min_n_shifts_per_nurse))\n",
    "        s.add(at_most_k_np(shifts_worked, max_n_shifts_per_nurse))\n",
    "    \n",
    "\n",
    "    if s.check() == sat:\n",
    "        m = s.model()\n",
    "        return [(i, j, k) for i in range(num_nurses) for j in range(num_days) for k in range(num_shifts) if m.evaluate(shifts[i][j][k])]\n",
    "    else:\n",
    "        print(\"unsat\")\n",
    "\n"
   ]
  },
  {
   "cell_type": "code",
   "execution_count": 41,
   "id": "029ca3d8",
   "metadata": {},
   "outputs": [
    {
     "name": "stdout",
     "output_type": "stream",
     "text": [
      "4\n",
      "5\n"
     ]
    }
   ],
   "source": [
    "print(math.floor(9/2))\n",
    "print(math.ceil(9/2))"
   ]
  },
  {
   "cell_type": "code",
   "execution_count": 7,
   "id": "9389f891",
   "metadata": {},
   "outputs": [],
   "source": [
    "instance = instance1"
   ]
  },
  {
   "cell_type": "code",
   "execution_count": 10,
   "id": "3617ac60",
   "metadata": {},
   "outputs": [
    {
     "data": {
      "text/plain": [
       "[(0, 0, 0),\n",
       " (0, 1, 2),\n",
       " (0, 2, 2),\n",
       " (1, 1, 1),\n",
       " (1, 2, 1),\n",
       " (2, 0, 2),\n",
       " (2, 2, 0),\n",
       " (3, 0, 1),\n",
       " (3, 1, 0)]"
      ]
     },
     "execution_count": 10,
     "metadata": {},
     "output_type": "execute_result"
    }
   ],
   "source": [
    "nurse_scheduling_sat(instance[\"num_nurses\"], instance[\"num_shifts\"], instance[\"num_days\"])"
   ]
  },
  {
   "cell_type": "code",
   "execution_count": 11,
   "id": "e024d283",
   "metadata": {},
   "outputs": [
    {
     "name": "stdout",
     "output_type": "stream",
     "text": [
      "Day 0\n",
      "  Nurse 0 works shift 0\n",
      "  Nurse 1 does not work\n",
      "  Nurse 2 works shift 2\n",
      "  Nurse 3 works shift 1\n",
      "Day 1\n",
      "  Nurse 0 works shift 2\n",
      "  Nurse 1 works shift 1\n",
      "  Nurse 2 does not work\n",
      "  Nurse 3 works shift 0\n",
      "Day 2\n",
      "  Nurse 0 works shift 2\n",
      "  Nurse 1 works shift 1\n",
      "  Nurse 2 works shift 0\n",
      "  Nurse 3 does not work\n",
      "CPU times: total: 266 ms\n",
      "Wall time: 250 ms\n"
     ]
    }
   ],
   "source": [
    "%%time\n",
    "display_nurses_shifts(nurse_scheduling_sat(instance[\"num_nurses\"], instance[\"num_shifts\"], instance[\"num_days\"]), instance[\"num_nurses\"], instance[\"num_shifts\"], instance[\"num_days\"])"
   ]
  },
  {
   "cell_type": "code",
   "execution_count": 12,
   "id": "34cd8381",
   "metadata": {},
   "outputs": [],
   "source": [
    "instance = instance2"
   ]
  },
  {
   "cell_type": "code",
   "execution_count": 13,
   "id": "cf585eb8",
   "metadata": {},
   "outputs": [
    {
     "name": "stdout",
     "output_type": "stream",
     "text": [
      "Day 0\n",
      "  Nurse 0 works shift 1\n",
      "  Nurse 1 does not work\n",
      "  Nurse 2 works shift 0\n",
      "  Nurse 3 works shift 2\n",
      "Day 1\n",
      "  Nurse 0 does not work\n",
      "  Nurse 1 works shift 1\n",
      "  Nurse 2 works shift 0\n",
      "  Nurse 3 works shift 2\n",
      "Day 2\n",
      "  Nurse 0 works shift 2\n",
      "  Nurse 1 works shift 1\n",
      "  Nurse 2 does not work\n",
      "  Nurse 3 works shift 0\n",
      "Day 3\n",
      "  Nurse 0 works shift 2\n",
      "  Nurse 1 works shift 1\n",
      "  Nurse 2 works shift 0\n",
      "  Nurse 3 does not work\n",
      "CPU times: total: 688 ms\n",
      "Wall time: 691 ms\n"
     ]
    }
   ],
   "source": [
    "%%time\n",
    "display_nurses_shifts(nurse_scheduling_sat(instance[\"num_nurses\"], instance[\"num_shifts\"], instance[\"num_days\"]), instance[\"num_nurses\"], instance[\"num_shifts\"], instance[\"num_days\"])"
   ]
  }
 ],
 "metadata": {
  "kernelspec": {
   "display_name": "Python 3",
   "language": "python",
   "name": "python3"
  },
  "language_info": {
   "codemirror_mode": {
    "name": "ipython",
    "version": 3
   },
   "file_extension": ".py",
   "mimetype": "text/x-python",
   "name": "python",
   "nbconvert_exporter": "python",
   "pygments_lexer": "ipython3",
   "version": "3.11.2"
  },
  "vscode": {
   "interpreter": {
    "hash": "5238573367df39f7286bb46f9ff5f08f63a01a80960060ce41e3c79b190280fa"
   }
  }
 },
 "nbformat": 4,
 "nbformat_minor": 5
}
