{
 "cells": [
  {
   "cell_type": "code",
   "execution_count": 1,
   "id": "fuzzy-intersection",
   "metadata": {
    "pycharm": {
     "name": "#%%\n"
    }
   },
   "outputs": [],
   "source": [
    "from z3 import *\n",
    "from utils import *\n",
    "from math import ceil\n",
    "import numpy as np"
   ]
  },
  {
   "cell_type": "markdown",
   "id": "efe40ec7",
   "metadata": {},
   "source": [
    "### Instances"
   ]
  },
  {
   "cell_type": "code",
   "execution_count": 2,
   "id": "0b179d8b",
   "metadata": {},
   "outputs": [],
   "source": [
    "import os\n",
    "\n",
    "def read_dat_file(file_path):\n",
    "    with open(file_path, 'r') as file:\n",
    "        lines = file.readlines()\n",
    "    \n",
    "    # Read m and n\n",
    "    m = int(lines[0].strip())\n",
    "    n = int(lines[1].strip())\n",
    "    \n",
    "    # Read l vector\n",
    "    l = list(map(int, lines[2].strip().split()))\n",
    "    \n",
    "    # Read s vector\n",
    "    s = list(map(int, lines[3].strip().split()))\n",
    "    \n",
    "    # Read D matrix\n",
    "    D = []\n",
    "    for line in lines[4:]:\n",
    "        D.append(list(map(int, line.strip().split())))\n",
    "    \n",
    "    return {\n",
    "        'm': m,\n",
    "        'n': n,\n",
    "        'l': l,\n",
    "        's': s,\n",
    "        'D': D\n",
    "    }\n",
    "\n",
    "def read_all_dat_files(directory):\n",
    "    instances = []\n",
    "    for filename in os.listdir(directory):\n",
    "        if filename.endswith('.dat'):\n",
    "            file_path = os.path.join(directory, filename)\n",
    "            instance = read_dat_file(file_path)\n",
    "            instances.append(instance)\n",
    "    return instances\n",
    "\n",
    "# Directory containing .dat files\n",
    "directory = 'instances'\n",
    "\n",
    "# Read all .dat files and populate instances\n",
    "instances = read_all_dat_files(directory)"
   ]
  },
  {
   "cell_type": "code",
   "execution_count": 3,
   "id": "98580c61",
   "metadata": {},
   "outputs": [
    {
     "name": "stdout",
     "output_type": "stream",
     "text": [
      "339\n"
     ]
    }
   ],
   "source": [
    "for i in instances:\n",
    "    max_element = [max(max(row) for row in i['D'])]\n",
    "\n",
    "max_d = max(max_element)\n",
    "print(max_d)"
   ]
  },
  {
   "cell_type": "markdown",
   "id": "aa41cb44",
   "metadata": {},
   "source": [
    "# MCP"
   ]
  },
  {
   "cell_type": "markdown",
   "id": "95591f88",
   "metadata": {},
   "source": [
    "## Metodo 1"
   ]
  },
  {
   "cell_type": "code",
   "execution_count": 69,
   "id": "dd7de381",
   "metadata": {},
   "outputs": [],
   "source": [
    "from z3 import *\n",
    "\n",
    "def MCP_a(instance, timeout=5000):\n",
    "    m = instance['m']\n",
    "    n = instance['n']\n",
    "    l = instance['l']\n",
    "    s = instance['s']\n",
    "    D = instance['D']  # Distance matrix\n",
    "\n",
    "    # Variables\n",
    "    x = [[Bool(f'x_{i+1}_{j+1}') for j in range(n)] for i in range(m)]  # Adjust item names to start from 1\n",
    "    y = [Int(f'y_{i+1}') for i in range(m)]  # Total size of items assigned to courier i\n",
    "\n",
    "    # Initialize solver\n",
    "    solver = Solver()\n",
    "\n",
    "    # Constraint 1: Each item must be assigned to exactly one courier\n",
    "    for j in range(n):\n",
    "        item_assigned = [x[i][j] for i in range(m)]\n",
    "        solver.add(exactly_one_np(item_assigned, f\"item_{j+1}\"))  # Adjust item names to start from 1\n",
    "\n",
    "    # Constraint 2: The total size of items assigned to any courier must not exceed its load capacity\n",
    "    for i in range(m):\n",
    "        courier_assigned_size = 0\n",
    "        for j in range(n):\n",
    "            courier_assigned_size += If(x[i][j], s[j], 0)\n",
    "        solver.add(y[i] == courier_assigned_size)\n",
    "        solver.add(y[i] <= l[i])\n",
    "\n",
    "    # Constraint 3: Each courier must pick at least one item\n",
    "    for i in range(m):\n",
    "        at_least_one_item = Or([x[i][j] for j in range(n)])\n",
    "        solver.add(at_least_one_item)\n",
    "\n",
    "    # Constraint 4: Each courier's path must start and end at the depot (location n+1)\n",
    "    for i in range(m):\n",
    "        path_starts_at_depot = Or([And(x[i][j], j == n) for j in range(n)])\n",
    "        path_ends_at_depot = Or([And(x[i][j], j == n) for j in range(n)])\n",
    "        solver.add(path_starts_at_depot)\n",
    "        solver.add(path_ends_at_depot)\n",
    "\n",
    "    # Define the maximum distance variable\n",
    "    max_distance = Int('max_distance')\n",
    "\n",
    "    # Distance constraints adjusted for depot start and end\n",
    "    for i in range(m):\n",
    "        courier_distance_expr = 0\n",
    "        for j in range(n):\n",
    "            courier_distance_expr += D[j][j+1] * If(x[i][j], 1, 0)  # Distance from j to j+1 for items assigned to courier i\n",
    "        solver.add(max_distance >= courier_distance_expr)\n",
    "\n",
    "    # Calculate upper_bound without using built-in sum\n",
    "    upper_bound = 0\n",
    "    for capacity in l:\n",
    "        upper_bound += capacity\n",
    "\n",
    "    # Binary search for minimizing max_distance\n",
    "    lower_bound = 0\n",
    "\n",
    "    while lower_bound < upper_bound:\n",
    "        mid = (lower_bound + upper_bound) // 2\n",
    "        solver.push()\n",
    "        solver.add(max_distance <= mid)\n",
    "        if solver.check() == sat:\n",
    "            upper_bound = mid\n",
    "        else:\n",
    "            lower_bound = mid + 1\n",
    "        solver.pop()\n",
    "\n",
    "    # At the end, lower_bound will contain the minimum max_distance\n",
    "    min_max_distance = lower_bound\n",
    "\n",
    "    # Add the final constraint to get the actual model\n",
    "    solver.add(max_distance == min_max_distance)\n",
    "\n",
    "    # Check for satisfiability\n",
    "    if solver.check() == sat:\n",
    "        model = solver.model()\n",
    "        print(\"Solution found:\")\n",
    "        for i in range(m):\n",
    "            assigned_items = [j+1 for j in range(n) if is_true(model[x[i][j]])]  # Adjust item names to start from 1\n",
    "            print(f\"Courier {i+1} assigned items: {assigned_items}\")  # Adjust courier names to start from 1\n",
    "        print(f\"Minimum maximum distance: {model[max_distance]}\")\n",
    "    else:\n",
    "        print(\"No solution found\")"
   ]
  },
  {
   "cell_type": "markdown",
   "id": "ceba714e",
   "metadata": {},
   "source": [
    "## Metodo 2"
   ]
  },
  {
   "cell_type": "code",
   "execution_count": 68,
   "id": "95cfb855",
   "metadata": {},
   "outputs": [],
   "source": [
    "def MCP(instance, timeout = 5000):\n",
    "\n",
    "    m = instance['m']\n",
    "    n = instance['n']\n",
    "    l = instance['l']\n",
    "    s = instance['s']\n",
    "    D = instance['D']\n",
    "\n",
    "    # c courier è andato da j a k\n",
    "    # i righe oggetto\n",
    "    # j colonne oggetto\n",
    "    path = [[[Bool(f\"p_{c}_{i}_{j}\") for j in range(n+1)] for i in range(n+1)] for c in range(m)]\n",
    "\n",
    "    # considerando\n",
    "    upperbound = ceil(n/m)*max_d\n",
    "\n",
    "    def solve_with_max_distance(upperbound, m, n, l, s, D, path):\n",
    "        solver = Solver()\n",
    "        solver.set(timeout=timeout) # priority='pareto\n",
    "\n",
    "        # tutti partono da n+1 e finiscono a n+1\n",
    "        for c in range(m):\n",
    "            solver.add(exactly_one_seq([path[c][n+1][j] for j in range(n+1)]))\n",
    "            solver.add(exactly_one_seq([path[c][i][n+1] for i in range(n+1)]))\n",
    "        \n",
    "        # ogni items viene preso da massimo un courier  \n",
    "        for i in range(n+1):\n",
    "            for j in range(n+1):\n",
    "                solver.add(at_most_one_seq([path[c][i][j] for c in range(m)]))\n",
    "        \n",
    "        # catena di couriers\n",
    "        for c in range(m):\n",
    "            for i in range(n+1):\n",
    "                for j in range(n+1):\n",
    "                    solver.add(Implies(path[c][i][j], exactly_one_seq([path[c][j][k] for k in range(n+1)])))\n",
    "\n",
    "        for c in range(m):\n",
    "            for j in range(n+1): \n",
    "                solver.add(at_most_one_seq([path[c][i][j] for i in range(n+1)]))\n",
    "    \n",
    "        for c in range(m):\n",
    "            for i in range(n+1): \n",
    "                solver.add(at_most_one_seq([path[c][i][j] for j in range(n+1)]))\n",
    "\n",
    "        # Maximum load constraint \n",
    "        for c in range(m):\n",
    "            weigth_set = []\n",
    "            for i in range(n):\n",
    "                for k in range(n+1):\n",
    "                    weigth_set.extend([path[c][i][j]] * s[i])\n",
    "            solver.add(at_most_k_seq(weigth_set, l[c]))\n",
    "\n",
    "        # Aggiungere i constraint impliciti------------------------\n",
    "    \n",
    "        # Distance constraint ############################################à\n",
    "        distances = [[] for _ in range(m)] \n",
    "        for c in range(m): \n",
    "            for i in range(n+1): \n",
    "                for j in range(n+1):\n",
    "                    Implies(path[c][i][j],distances[c].extend([path[c][i][j]] * D[i]))\n",
    "        \n",
    "        lengths = [len(array) for array in distances]\n",
    "        max_length = max(lengths)\n",
    "        solver.add(max_length <= upperbound)\n",
    "\n",
    "        if s.check() == sat:\n",
    "            m = solver.model()\n",
    "            return (True, [(c, i, j) for i in range(m) for i in range(n+1) for j in range(n) if m.evaluate(path[i][j][k])])\n",
    "        else:\n",
    "            return False, []\n",
    "\n",
    "    #########################################################################à\n",
    "    lowerbound = n\n",
    "    best_solution = None\n",
    "    while lowerbound < upperbound:\n",
    "\n",
    "        is_sat, solution = solve_with_max_distance(upperbound, m, n, l, s, D, path)\n",
    "        if is_sat:\n",
    "            print(f\"Found solution with max distance {upperbound}: {solution}\")\n",
    "            best_solution = solution\n",
    "            upperbound = upperbound - 1\n",
    "        else:\n",
    "            print(f\"No solution found with max distance {upperbound}\")\n",
    "            upperbound = upperbound - 1\n",
    "    return best_solution"
   ]
  },
  {
   "cell_type": "markdown",
   "id": "013e2752",
   "metadata": {},
   "source": [
    "## Testing"
   ]
  },
  {
   "cell_type": "code",
   "execution_count": 72,
   "id": "cc932115",
   "metadata": {},
   "outputs": [
    {
     "name": "stdout",
     "output_type": "stream",
     "text": [
      "6 9\n",
      "No solution found\n"
     ]
    }
   ],
   "source": [
    "NUM_INST = 2\n",
    "instance = instances[NUM_INST-1]\n",
    "print(instance[\"m\"], instance[\"n\"])\n",
    "MCP_a(instance)"
   ]
  }
 ],
 "metadata": {
  "kernelspec": {
   "display_name": "Python 3",
   "language": "python",
   "name": "python3"
  },
  "language_info": {
   "codemirror_mode": {
    "name": "ipython",
    "version": 3
   },
   "file_extension": ".py",
   "mimetype": "text/x-python",
   "name": "python",
   "nbconvert_exporter": "python",
   "pygments_lexer": "ipython3",
   "version": "3.10.9"
  },
  "vscode": {
   "interpreter": {
    "hash": "5238573367df39f7286bb46f9ff5f08f63a01a80960060ce41e3c79b190280fa"
   }
  }
 },
 "nbformat": 4,
 "nbformat_minor": 5
}
