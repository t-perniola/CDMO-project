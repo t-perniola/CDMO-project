{
 "cells": [
  {
   "cell_type": "code",
   "execution_count": 434,
   "metadata": {},
   "outputs": [],
   "source": [
    "import gurobipy as gp\n",
    "from gurobipy import GRB\n",
    "import numpy as np\n",
    "import pandas as pd\n",
    "from datetime import datetime\n",
    "from math import floor\n",
    "import json"
   ]
  },
  {
   "cell_type": "code",
   "execution_count": 435,
   "metadata": {},
   "outputs": [],
   "source": [
    "starting_time = datetime.now()\n",
    "time_limit = 5*60"
   ]
  },
  {
   "cell_type": "markdown",
   "metadata": {},
   "source": [
    "Read data"
   ]
  },
  {
   "cell_type": "code",
   "execution_count": 436,
   "metadata": {},
   "outputs": [
    {
     "data": {
      "text/plain": [
       "\"\\nfile_path = 'inst08.dzn'  # Path to your .dzn file\\nparsed_data = parse_dzn(file_path)\\nprint(parsed_data)\\n\""
      ]
     },
     "execution_count": 436,
     "metadata": {},
     "output_type": "execute_result"
    }
   ],
   "source": [
    "import re\n",
    "\n",
    "def parse_dzn(file_path):\n",
    "    data = {}\n",
    "    with open(file_path, 'r') as file:\n",
    "        content = file.read()\n",
    "        \n",
    "        # Find all key-value pairs\n",
    "        key_value_pairs = re.findall(r'(\\w+)\\s*=\\s*(.*?);', content, re.DOTALL)\n",
    "        \n",
    "        for key, value in key_value_pairs:\n",
    "            # Remove any extra whitespace and newlines\n",
    "            value = value.strip().replace('\\n', '')\n",
    "\n",
    "            #Parse matrix\n",
    "            if key == 'D':\n",
    "                rows = value.split('|')\n",
    "                D = []\n",
    "                for i in range(1,len(rows)-1):\n",
    "                    D.append([int(v.strip()) for v in rows[i][1:-1].split(',')])\n",
    "                value = D\n",
    "            # Parse arrays\n",
    "            elif value.startswith('[') and value.endswith(']'):\n",
    "                value = value[1:-1].split(',')\n",
    "                value = [int(v.strip()) for v in value]\n",
    "            else:\n",
    "                value = int(value)\n",
    "                \n",
    "            data[key] = value\n",
    "    return data\n",
    "\n",
    "# Usage\n",
    "'''\n",
    "file_path = 'inst08.dzn'  # Path to your .dzn file\n",
    "parsed_data = parse_dzn(file_path)\n",
    "print(parsed_data)\n",
    "'''"
   ]
  },
  {
   "cell_type": "code",
   "execution_count": 437,
   "metadata": {},
   "outputs": [],
   "source": [
    "def read_dat_file(file_path):\n",
    "    with open(file_path, 'r') as file:\n",
    "        lines = file.readlines()\n",
    "    \n",
    "    # Read m and n\n",
    "    m = int(lines[0].strip())\n",
    "    n = int(lines[1].strip())\n",
    "    \n",
    "    # Read l vector\n",
    "    l = list(map(int, lines[2].strip().split()))\n",
    "    \n",
    "    # Read s vector\n",
    "    s = list(map(int, lines[3].strip().split()))\n",
    "    \n",
    "    # Read D matrix\n",
    "    D = []\n",
    "    for line in lines[4:]:\n",
    "        D.append(list(map(int, line.strip().split())))\n",
    "    \n",
    "    return {\n",
    "        'm': m,\n",
    "        'n': n,\n",
    "        'l': l,\n",
    "        's': s,\n",
    "        'D': D\n",
    "    }"
   ]
  },
  {
   "cell_type": "markdown",
   "metadata": {},
   "source": [
    "Create the model"
   ]
  },
  {
   "cell_type": "code",
   "execution_count": 438,
   "metadata": {},
   "outputs": [],
   "source": [
    "model = gp.Model()"
   ]
  },
  {
   "cell_type": "markdown",
   "metadata": {},
   "source": [
    "Parse the instance"
   ]
  },
  {
   "cell_type": "code",
   "execution_count": 439,
   "metadata": {},
   "outputs": [],
   "source": [
    "innum = input('Type instance number:\\n>')\n",
    "file_path = str(f'inst{innum}.dat')\n",
    "parsed_data = read_dat_file('Instances/'+file_path)\n",
    "\n",
    "m = parsed_data['m']\n",
    "n = parsed_data['n']\n",
    "s = parsed_data['s']\n",
    "l = sorted(parsed_data['l'], reverse=True)\n",
    "D = parsed_data['D']\n",
    "\n",
    "maxD = np.max(D)\n",
    "minD = np.min(D)\n",
    "heuristic_number_of_nodes_per_courier = n//m +3"
   ]
  },
  {
   "cell_type": "code",
   "execution_count": 440,
   "metadata": {},
   "outputs": [],
   "source": [
    "#s = sorted(s,reverse=True)"
   ]
  },
  {
   "cell_type": "markdown",
   "metadata": {},
   "source": [
    "Define the variables"
   ]
  },
  {
   "cell_type": "code",
   "execution_count": 441,
   "metadata": {},
   "outputs": [],
   "source": [
    "max_total_dist = model.addVar(vtype=gp.GRB.INTEGER, name='MaxTotalDist')\n",
    "\n",
    "cumulative_dist = model.addVars(m, n+1, vtype=gp.GRB.INTEGER, name='CumulativeDist')\n",
    "cumulative_load = model.addVars(m, n, lb=0, ub=n*max(s), vtype=gp.GRB.INTEGER, name='CumulativeLoad')\n",
    "\n",
    "load = model.addVars(m, lb=0, vtype=gp.GRB.INTEGER, name='Load')\n",
    "dist = model.addVars(m, lb=0, vtype=gp.GRB.INTEGER, name='Dist')\n",
    "\n",
    "paths = model.addVars(m, n+1, n+1, vtype=gp.GRB.BINARY, name='Paths')\n",
    "\n",
    "u = model.addVars(m, n, vtype=gp.GRB.INTEGER, name='u')"
   ]
  },
  {
   "cell_type": "code",
   "execution_count": 442,
   "metadata": {},
   "outputs": [
    {
     "name": "stdout",
     "output_type": "stream",
     "text": [
      "Set parameter LazyConstraints to value 1\n"
     ]
    }
   ],
   "source": [
    "#Objective Function Boundaries\n",
    "initial_upper_bound = heuristic_number_of_nodes_per_courier * maxD\n",
    "initial_lower_bound = heuristic_number_of_nodes_per_courier * minD\n",
    "\n",
    "model.addConstr( max_total_dist <= initial_upper_bound)\n",
    "model.addConstr( max_total_dist >= initial_lower_bound)\n",
    "\n",
    "#Callback function for dynamic boundaries\n",
    "def update_upper_bound(model, where):\n",
    "    if where == GRB.Callback.MIPSOL:\n",
    "        # Get the current value of the objective function\n",
    "        current_obj_val = model.cbGet(GRB.Callback.MIPSOL_OBJ)\n",
    "        \n",
    "        # Replace the upper bound with the new objective value\n",
    "        model.cbLazy(max_total_dist <= current_obj_val)\n",
    "\n",
    "model.Params.lazyConstraints = 1"
   ]
  },
  {
   "cell_type": "markdown",
   "metadata": {},
   "source": [
    "Define Objective function"
   ]
  },
  {
   "cell_type": "code",
   "execution_count": 443,
   "metadata": {},
   "outputs": [],
   "source": [
    "model.setObjective(max_total_dist, gp.GRB.MINIMIZE)"
   ]
  },
  {
   "cell_type": "markdown",
   "metadata": {},
   "source": [
    "Define Constraints"
   ]
  },
  {
   "cell_type": "code",
   "execution_count": 444,
   "metadata": {},
   "outputs": [
    {
     "data": {
      "text/plain": [
       "{0: <gurobi.Constr *Awaiting Model Update*>,\n",
       " 1: <gurobi.Constr *Awaiting Model Update*>,\n",
       " 2: <gurobi.Constr *Awaiting Model Update*>}"
      ]
     },
     "execution_count": 444,
     "metadata": {},
     "output_type": "execute_result"
    }
   ],
   "source": [
    "#Maximum total distance is equal to the maximum total distance computed in the final depot \"slot\" for each courier\n",
    "#model.addConstrs( gp.quicksum(cumulative_dist[c,j] for j in range(n+1)) <= max_total_dist for c in range(m))\n",
    "model.addConstrs( dist[c] <= max_total_dist for c in range(m))"
   ]
  },
  {
   "cell_type": "code",
   "execution_count": 445,
   "metadata": {},
   "outputs": [],
   "source": [
    "#Every node must be visited exactly once (except for the depot n+1)\n",
    "for dest in range(n):\n",
    "    model.addConstr(gp.quicksum(paths[c,source,dest] for c in range(m) for source in range(n+1)) <= 1)\n",
    "    model.addConstr(gp.quicksum(paths[c,source,dest] for c in range(m) for source in range(n+1)) >= 1)\n",
    "    #model.addConstr(gp.quicksum(paths[c,source,dest] for c in range(m) for source in range(n+1)) == 1)"
   ]
  },
  {
   "cell_type": "code",
   "execution_count": 446,
   "metadata": {},
   "outputs": [],
   "source": [
    "for c in range(m):\n",
    "    #Every courier must visit the depot as last node\n",
    "    model.addConstr(gp.quicksum(paths[c,source,n] for source in range(n)) == 1)\n",
    "\n",
    "    #Cumulative distance update\n",
    "    model.addConstr(dist[c] >= (gp.quicksum(D[source][dest]*paths[c,source,dest] for source in range(n+1) for dest in range(n+1)) ))\n",
    "\n",
    "    #Cumulative load update\n",
    "    model.addConstr(load[c] >= (gp.quicksum(s[dest]*paths[c,source,dest] for dest in range(n) for source in range(n+1))) ) #npe\n",
    "\n",
    "    #Each courier must start from depot\n",
    "    #model.addConstr(gp.quicksum(paths[c,n,dest] for dest in range(n)) == 1)\n",
    "    model.addConstr(gp.quicksum(paths[c,n,dest] for dest in range(n)) >= 1)\n",
    "    model.addConstr(gp.quicksum(paths[c,n,dest] for dest in range(n)) <= 1)\n",
    "\n",
    "    for source in range(n+1):\n",
    "        #Couriers cannot stay still\n",
    "        model.addConstr(paths[c,source,source] <= 0.5) #npe\n",
    "\n",
    "        for dest in range(n+1):\n",
    "            #Cumulative distance update\n",
    "            #model.addConstr((paths[c,source,dest] == 1) >> (cumulative_dist[c,dest] == D[source][dest])) #npe\n",
    "            #model.addConstr((cumulative_dist[c,dest] == D[source][dest]*paths[c,source,dest])) #npe\n",
    "\n",
    "            #Path contiguity\n",
    "            model.addConstr(gp.quicksum(paths[c,source,j] for j in range(n+1)) == (gp.quicksum(paths[c,j,source] for j in range(n+1))))\n",
    "\n",
    "            #model.addConstr((paths[c,source,dest] == 1) >> (gp.quicksum(paths[c,j,source] for j in range(n+1)) >= 1))\n",
    "            #model.addConstr((paths[c,source,dest] == 1) >> (gp.quicksum(paths[c,dest,j] for j in range(n+1)) >= 1))\n",
    "\n",
    "            #Load update\n",
    "            #if dest < n:\n",
    "                #model.addConstr((paths[c,source,dest] == 1) >> (cumulative_load[c,dest] == s[dest])) #npe\n",
    "\n",
    "        #Just in order to speed up the search    \n",
    "        model.addConstr(gp.quicksum(paths[c,source,j] for j in range(n+1)) <= 1)\n",
    "        model.addConstr(gp.quicksum(paths[c,j,source] for j in range(n+1)) <= 1)"
   ]
  },
  {
   "cell_type": "code",
   "execution_count": 447,
   "metadata": {},
   "outputs": [],
   "source": [
    "#Loop Avoidance 3\n",
    "for c in range(m):  # for each courier\n",
    "    for source in range(n):\n",
    "        for dest in range(n):\n",
    "            if source != dest:\n",
    "                model.addConstr(u[c, source] - u[c, dest] + n * paths[c, source, dest] <= n - 1)"
   ]
  },
  {
   "cell_type": "code",
   "execution_count": 448,
   "metadata": {},
   "outputs": [
    {
     "data": {
      "text/plain": [
       "'\\nfor c1 in range(m):\\n    for c2 in range(c1+1,m):\\n        model.addConstr(dist[c1]-dist[c2] <= 2*maxD )\\n\\nfor c in range(m-1):\\n    model.addConstr(dist[c] >= dist[c+1])\\n'"
      ]
     },
     "execution_count": 448,
     "metadata": {},
     "output_type": "execute_result"
    }
   ],
   "source": [
    "#Symmetry breaking constraints\n",
    "for c in range(m-1):\n",
    "    model.addConstr( gp.quicksum(paths[c,source,dest] for source in range(n) for dest in range(n)) >= \\\n",
    "                     gp.quicksum(paths[c+1,source,dest] for source in range(n) for dest in range(n)) )\n",
    "\n",
    "'''\n",
    "for c1 in range(m):\n",
    "    for c2 in range(c1+1,m):\n",
    "        model.addConstr(dist[c1]-dist[c2] <= 2*maxD )\n",
    "\n",
    "for c in range(m-1):\n",
    "    model.addConstr(dist[c] >= dist[c+1])\n",
    "'''"
   ]
  },
  {
   "cell_type": "code",
   "execution_count": 449,
   "metadata": {},
   "outputs": [],
   "source": [
    "#Maximum load\n",
    "for c in range(m):\n",
    "    #model.addConstr(gp.quicksum(cumulative_load[c,j] for j in range(n)) <= l[c])\n",
    "    model.addConstr(load[c] <= l[c])"
   ]
  },
  {
   "cell_type": "code",
   "execution_count": 450,
   "metadata": {},
   "outputs": [
    {
     "name": "stdout",
     "output_type": "stream",
     "text": [
      "Set parameter TimeLimit to value 293\n"
     ]
    }
   ],
   "source": [
    "preprocessing_time = datetime.now() - starting_time\n",
    "safe_bound = 5\n",
    "model.setParam('TimeLimit', time_limit - preprocessing_time.seconds - safe_bound)"
   ]
  },
  {
   "cell_type": "code",
   "execution_count": 451,
   "metadata": {},
   "outputs": [
    {
     "name": "stdout",
     "output_type": "stream",
     "text": [
      "Gurobi Optimizer version 11.0.2 build v11.0.2rc0 (mac64[arm] - Darwin 23.4.0 23E224)\n",
      "\n",
      "CPU model: Apple M1\n",
      "Thread count: 8 physical cores, 8 logical processors, using up to 8 threads\n",
      "\n",
      "Optimize a model with 13949 rows, 7345 columns and 719496 nonzeros\n",
      "Model fingerprint: 0xa0471c2b\n",
      "Variable types: 0 continuous, 7345 integer (6912 binary)\n",
      "Coefficient statistics:\n",
      "  Matrix range     [1e+00, 2e+02]\n",
      "  Objective range  [1e+00, 1e+00]\n",
      "  Bounds range     [1e+00, 1e+03]\n",
      "  RHS range        [5e-01, 4e+03]\n",
      "Presolve removed 7117 rows and 144 columns\n",
      "Presolve time: 0.12s\n",
      "Presolved: 6832 rows, 7201 columns, 68177 nonzeros\n",
      "Variable types: 0 continuous, 7201 integer (6768 binary)\n",
      "\n",
      "Root relaxation: objective 3.020000e+02, 2084 iterations, 0.07 seconds (0.14 work units)\n",
      "\n",
      "    Nodes    |    Current Node    |     Objective Bounds      |     Work\n",
      " Expl Unexpl |  Obj  Depth IntInf | Incumbent    BestBd   Gap | It/Node Time\n",
      "\n",
      "     0     0  302.00000    0   90          -  302.00000      -     -    0s\n",
      "     0     0  306.34435    0  192          -  306.34435      -     -    0s\n",
      "     0     0  325.16667    0  169          -  325.16667      -     -    0s\n",
      "     0     0  325.16667    0  171          -  325.16667      -     -    0s\n",
      "     0     0  346.00693    0  227          -  346.00693      -     -    0s\n",
      "     0     0  346.09405    0  237          -  346.09405      -     -    0s\n",
      "     0     0  346.09405    0  226          -  346.09405      -     -    0s\n",
      "     0     0  346.35306    0  203          -  346.35306      -     -    0s\n",
      "     0     0  346.59601    0  213          -  346.59601      -     -    0s\n",
      "     0     0  346.59601    0  231          -  346.59601      -     -    0s\n",
      "     0     0  346.75088    0  245          -  346.75088      -     -    1s\n",
      "     0     0  346.75088    0  188          -  346.75088      -     -    1s\n",
      "     0     0  347.00000    0  159          -  347.00000      -     -    1s\n",
      "     0     2  347.00000    0  157          -  347.00000      -     -    1s\n",
      "   378   314  352.07963   46  158          -  347.00000      -   130    5s\n",
      "  1848  1581  388.00000  185  110          -  347.00000      -   101   10s\n",
      "  3550  2885  462.00000  123  159          -  347.00000      -  91.6   15s\n",
      "  3562  2893  359.00000   53  153          -  348.00000      -  91.3   20s\n",
      "  3569  2898  356.09437   32  260          -  349.00000      -  91.1   25s\n",
      "  3577  2903  498.00000  153  212          -  349.00000      -  90.9   30s\n",
      "  3594  2914  602.00000  532  168          -  353.00000      -  90.5   35s\n",
      "  3608  2925  515.00000  251  136          -  353.00000      -   113   40s\n",
      "  3617  2931  382.00000   94  195          -  353.00000      -   113   45s\n",
      "  3627  2941  353.00000   26  148          -  353.00000      -   126   50s\n",
      "  3734  3017  353.92743   35  176          -  353.00000      -   130   55s\n",
      "H 3826  2901                    4392.0000000  353.00000  92.0%   133   58s\n",
      "H 3835  2760                    1442.0000000  353.00000  75.5%   134   61s\n",
      "H 3839  2625                    1302.0000000  353.00000  72.9%   134   61s\n",
      "H 3840  2499                     972.0000000  353.00000  63.7%   134   61s\n",
      "H 3875  2387                     924.0000000  353.00000  61.8%   136   65s\n",
      "H 3921  2280                     852.0000000  353.00000  58.6%   139   67s\n",
      "H 3925  2171                     826.0000000  353.00000  57.3%   139   67s\n",
      "  4014  2191  358.00000   56   86  826.00000  353.00000  57.3%   143   70s\n",
      "  4376  2260  383.51824   83  131  826.00000  353.00000  57.3%   149   75s\n",
      "H 4507  2161                     802.0000000  353.00000  56.0%   151   76s\n",
      "H 4745  2084                     776.0000000  353.00000  54.5%   151   79s\n",
      "H 4762  1986                     684.0000000  353.00000  48.4%   151   79s\n",
      "  4765  2031  438.31293  113  105  684.00000  353.00000  48.4%   151   80s\n",
      "* 5095  1956             223     672.0000000  353.00000  47.5%   149   81s\n",
      "H 5342  1952                     670.0000000  353.00000  47.3%   149   84s\n",
      "H 5349  1869                     652.0000000  353.00000  45.9%   149   84s\n",
      "H 5399  1769                     580.0000000  353.00000  39.1%   148   84s\n",
      "  5431  1813  421.04624  174   75  580.00000  353.00000  39.1%   148   85s\n",
      "H 5901  1745                     560.0000000  353.00000  37.0%   149   88s\n",
      "H 5980  1656                     552.0000000  353.00000  36.1%   149   90s\n",
      "  6721  1826  423.00000  115  151  552.00000  353.00000  36.1%   148   95s\n",
      "  6875  1846  427.46579  131  125  552.00000  353.00000  36.1%   147  103s\n",
      "  6962  1874  428.00000  141  129  552.00000  353.00000  36.1%   147  106s\n",
      "H 7220  1860                     551.0000000  353.00000  35.9%   147  107s\n",
      "H 7233  1959                     550.0000000  353.00000  35.8%   147  109s\n",
      "H 7375  1954                     546.0000000  353.00000  35.3%   146  109s\n",
      "  7451  2130  449.00000  233   80  546.00000  353.00000  35.3%   146  110s\n",
      "H 7596  2114                     538.0000000  353.00000  34.4%   146  110s\n",
      "  7923  2468  461.00000  271   90  538.00000  353.00000  34.4%   144  115s\n",
      "H 8658  2632                     537.0000000  353.00000  34.3%   141  119s\n",
      "  8695  2796  382.00000   38  175  537.00000  353.00000  34.3%   141  120s\n",
      "H 8972  2915                     536.0000000  353.00000  34.1%   142  122s\n",
      "H 9038  2880                     526.0000000  353.00000  32.9%   141  122s\n",
      "  9486  3110  390.00000   67  154  526.00000  353.00000  32.9%   142  126s\n",
      "H 9546  3086                     520.0000000  353.00000  32.1%   142  126s\n",
      "  9992  3448  399.00000   94  138  520.00000  353.00000  32.1%   143  130s\n",
      "H10251  3702                     508.0000000  353.00000  30.5%   142  132s\n",
      " 10792  3803  355.00000   34  215  508.00000  353.00000  30.5%   140  136s\n",
      " 11366  4223  356.00000   46  207  508.00000  353.00000  30.5%   141  140s\n",
      "H11719  4240                     504.0000000  353.00000  30.0%   142  143s\n",
      "H11779  4143                     494.0000000  353.00000  28.5%   142  143s\n",
      " 11798  4403  414.00000   67   92  494.00000  353.00000  28.5%   142  145s\n",
      "H12293  4416                     490.0000000  353.00000  28.0%   142  148s\n",
      "H12323  4306                     482.0000000  353.00000  26.8%   142  148s\n",
      " 12423  4630  355.00000   50  196  482.00000  353.00000  26.8%   142  150s\n",
      " 13137  4973  359.00000   95  178  482.00000  353.00000  26.8%   142  157s\n",
      " 13390  5294  361.41327  112  175  482.00000  353.00000  26.8%   142  160s\n",
      " 14048  5582  366.00000  185  134  482.00000  353.00000  26.8%   142  167s\n",
      " 14520  5962  388.00000  240  107  482.00000  353.00000  26.8%   143  171s\n",
      " 15214  6227  447.00000  339   81  482.00000  353.00000  26.8%   143  176s\n",
      " 15637  6698  360.00000   57  153  482.00000  353.00000  26.8%   142  183s\n",
      " 16333  7091  413.16312  153  116  482.00000  353.31722  26.7%   143  187s\n",
      " 17042  7395  359.00000   57  203  482.00000  354.00000  26.6%   143  193s\n",
      " 17623  7726  366.79705   95   99  482.00000  354.00000  26.6%   144  200s\n",
      " 18384  8020  422.36170  159   90  482.00000  354.00000  26.6%   145  206s\n",
      " 19025  8535  358.00000   61  236  482.00000  354.00000  26.6%   147  212s\n",
      " 19880  8730  435.00000  152  115  482.00000  354.00000  26.6%   147  220s\n",
      " 20206  9261  398.00000   85  167  482.00000  354.00000  26.6%   148  226s\n",
      "H20587  9176                     478.0000000  354.00000  25.9%   149  226s\n",
      "H20694  8735                     464.0000000  354.00000  23.7%   149  226s\n",
      " 21015  9049  427.00000   82  151  464.00000  354.00000  23.7%   149  233s\n",
      " 21537  9538  362.00000   72  202  464.00000  354.00000  23.7%   149  243s\n",
      " 22201 10472  388.00000  171  147  464.00000  354.00000  23.7%   150  250s\n",
      " 23476 10986  406.00000   91  153  464.00000  354.00000  23.7%   148  258s\n",
      " 24346 11578  395.62468  107  149  464.00000  354.00000  23.7%   149  266s\n",
      "H24422 11128                     454.0000000  354.00000  22.0%   149  266s\n",
      " 25278 11469 infeasible   61       454.00000  354.00000  22.0%   150  274s\n",
      " 25967 12022  354.00000   45  249  454.00000  354.00000  22.0%   151  281s\n",
      " 26934 12418  377.00000  147  153  454.00000  354.00000  22.0%   152  291s\n",
      "\n",
      "Cutting planes:\n",
      "  Learned: 19\n",
      "  Gomory: 63\n",
      "  Cover: 8\n",
      "  Implied bound: 231\n",
      "  Clique: 22\n",
      "  MIR: 52\n",
      "  Mixing: 5\n",
      "  StrongCG: 2\n",
      "  Flow cover: 531\n",
      "  Inf proof: 7\n",
      "  Zero half: 154\n",
      "  RLT: 172\n",
      "  Lazy constraints: 27\n",
      "\n",
      "Explored 27636 nodes (4243740 simplex iterations) in 293.04 seconds (570.87 work units)\n",
      "Thread count was 8 (of 8 available processors)\n",
      "\n",
      "Solution count 10: 454 464 478 ... 526\n",
      "\n",
      "Time limit reached\n",
      "Best objective 4.540000000000e+02, best bound 3.540000000000e+02, gap 22.0264%\n",
      "\n",
      "User-callback calls 119963, time in user-callback 0.50 sec\n"
     ]
    }
   ],
   "source": [
    "model.optimize(update_upper_bound)"
   ]
  },
  {
   "cell_type": "code",
   "execution_count": 452,
   "metadata": {},
   "outputs": [
    {
     "name": "stdout",
     "output_type": "stream",
     "text": [
      "0\n",
      "   0  1  2  3  4  5  6  7  8  9   ... 38 39 40 41 42 43 44 45 46 47\n",
      "0   0  0  0  0  0  0  0  0  0  0  ...  0  0  0  0  0  0  0  0  0  0\n",
      "1   0  0  0  0  0  0  0  0  0  0  ...  0  0  0  0  0  0  0  0  0  0\n",
      "2   0  0  0  0  0  0  0  0  0  0  ...  0  0  0  0  0  0  0  0  0  0\n",
      "3   0  0  0  0  0  0  0  0  0  0  ...  0  0  0  0  0  0  0  0  0  0\n",
      "4   0  0  0  0  0  0  0  0  0  0  ...  0  0  0  0  0  0  0  0  0  0\n",
      "5   0  0  0  0  0  0  0  0  0  0  ...  0  0  0  0  0  0  0  0  0  0\n",
      "6   0  0  0  0  0  0  0  0  0  0  ...  0  0  0  0  0  0  0  0  0  0\n",
      "7   0  0  0  0  0  0  0  0  0  0  ...  0  0  0  0  0  0  0  0  0  0\n",
      "8   0  0  0  0  0  0  0  0  0  0  ...  0  0  0  0  0  0  0  0  0  0\n",
      "9   0  0  0  0  0  0  0  0  0  0  ...  0  0  0  0  0  0  0  0  0  0\n",
      "10  0  0  0  0  0  0  0  0  0  0  ...  0  0  0  0  0  0  0  0  0  0\n",
      "11  0  0  0  0  0  0  0  0  0  0  ...  0  0  0  0  0  0  0  0  0  0\n",
      "12  0  0  0  0  0  0  0  0  0  0  ...  0  0  0  0  0  0  0  0  0  0\n",
      "13  0  0  0  0  0  0  0  0  0  0  ...  0  0  0  0  0  0  0  0  0  0\n",
      "14  0  0  0  0  0  0  0  0  0  0  ...  0  0  0  0  0  0  0  0  0  0\n",
      "15  0  0  0  0  0  0  0  0  0  0  ...  0  0  0  0  0  0  0  0  0  0\n",
      "16  0  0  0  0  0  0  0  0  0  0  ...  0  1  0  0  0  0  0  0  0  0\n",
      "17  0  0  0  0  0  0  0  0  0  0  ...  0  0  0  0  0  0  0  0  0  0\n",
      "18  0  0  0  0  0  0  0  0  0  0  ...  0  0  0  0  0  0  0  0  0  0\n",
      "19  0  0  0  0  0  0  0  0  0  0  ...  0  0  0  0  0  0  0  0  0  0\n",
      "20  0  0  0  0  0  0  0  0  0  0  ...  0  0  0  0  0  0  0  0  1  0\n",
      "21  0  0  0  0  0  0  0  0  0  0  ...  0  0  0  0  0  0  0  0  0  0\n",
      "22  0  0  0  0  0  0  0  0  0  0  ...  0  0  0  0  0  0  0  0  0  0\n",
      "23  0  0  0  0  0  0  0  0  0  0  ...  0  0  0  0  1  0  0  0  0  0\n",
      "24  0  0  0  0  0  0  0  0  0  0  ...  0  0  0  0  0  0  0  0  0  0\n",
      "25  0  0  0  0  0  0  0  0  0  0  ...  0  0  0  0  0  0  0  0  0  0\n",
      "26  0  0  0  0  0  0  0  0  0  0  ...  0  0  0  0  0  0  0  0  0  0\n",
      "27  0  0  0  0  0  0  0  0  0  0  ...  0  0  0  0  0  0  0  0  0  0\n",
      "28  0  0  0  0  0  0  0  0  0  0  ...  0  0  0  0  0  0  0  0  0  0\n",
      "29  0  0  0  0  0  0  0  0  0  0  ...  0  0  0  0  0  0  0  0  0  0\n",
      "30  0  0  0  0  0  0  0  0  0  0  ...  0  0  0  0  0  0  0  0  0  0\n",
      "31  0  0  0  0  0  0  0  0  0  0  ...  0  0  0  0  0  0  0  0  0  1\n",
      "32  0  0  0  0  0  0  0  0  0  0  ...  0  0  0  0  0  0  0  0  0  0\n",
      "33  0  0  0  0  0  0  1  0  0  0  ...  0  0  0  0  0  0  0  0  0  0\n",
      "34  0  0  0  0  0  0  0  0  0  0  ...  0  0  0  0  0  0  0  0  0  0\n",
      "35  0  0  0  0  0  0  0  0  0  0  ...  0  0  0  0  0  0  0  0  0  0\n",
      "36  0  0  0  0  0  0  0  0  0  0  ...  0  0  0  0  0  0  0  0  0  0\n",
      "37  0  0  0  0  0  0  0  0  0  0  ...  0  0  0  0  0  0  0  0  0  0\n",
      "38  0  0  0  0  0  0  0  0  1  0  ...  0  0  0  0  0  0  0  0  0  0\n",
      "39  0  0  0  0  0  0  0  0  0  0  ...  0  0  0  0  0  0  0  0  0  0\n",
      "40  0  0  0  0  0  0  0  0  0  0  ...  0  0  0  0  0  0  0  0  0  0\n",
      "41  0  0  0  0  0  0  0  0  0  0  ...  0  0  0  0  0  0  0  0  0  0\n",
      "42  0  0  0  0  0  0  0  0  0  0  ...  1  0  0  0  0  0  0  0  0  0\n",
      "43  0  0  0  0  0  0  0  0  0  0  ...  0  0  0  0  0  0  0  0  0  0\n",
      "44  0  0  0  0  0  0  0  0  0  0  ...  0  0  0  0  0  0  0  0  0  0\n",
      "45  0  0  0  0  0  0  0  0  0  0  ...  0  0  0  0  0  0  0  0  0  0\n",
      "46  0  0  0  0  0  0  0  0  0  0  ...  0  0  0  0  0  0  0  0  0  0\n",
      "47  0  0  0  0  0  0  0  0  0  0  ...  0  0  0  0  0  0  0  0  0  0\n",
      "\n",
      "[48 rows x 48 columns]\n",
      "\n",
      "\n",
      "1\n",
      "   0  1  2  3  4  5  6  7  8  9   ... 38 39 40 41 42 43 44 45 46 47\n",
      "0   0  0  0  0  0  0  0  0  0  0  ...  0  0  0  0  0  0  0  0  0  0\n",
      "1   0  0  0  0  0  0  0  0  0  0  ...  0  0  0  0  0  0  0  0  0  0\n",
      "2   0  0  0  0  0  1  0  0  0  0  ...  0  0  0  0  0  0  0  0  0  0\n",
      "3   0  0  0  0  0  0  0  0  0  0  ...  0  0  0  0  0  0  0  0  0  0\n",
      "4   0  0  0  0  0  0  0  0  0  0  ...  0  0  0  0  0  0  0  0  0  0\n",
      "5   0  0  0  0  0  0  0  0  0  0  ...  0  0  0  0  0  0  1  0  0  0\n",
      "6   0  0  0  0  0  0  0  0  0  0  ...  0  0  0  0  0  0  0  0  0  0\n",
      "7   0  0  0  0  0  0  0  0  0  0  ...  0  0  0  0  0  0  0  0  0  0\n",
      "8   0  0  0  0  0  0  0  0  0  0  ...  0  0  0  0  0  0  0  0  0  0\n",
      "9   0  0  0  0  0  0  0  0  0  0  ...  0  0  0  0  0  0  0  0  0  0\n",
      "10  0  0  0  0  0  0  0  0  0  0  ...  0  0  0  1  0  0  0  0  0  0\n",
      "11  0  0  0  0  0  0  0  0  0  0  ...  0  0  0  0  0  0  0  0  0  0\n",
      "12  0  0  0  0  0  0  0  0  0  0  ...  0  0  0  0  0  0  0  0  0  0\n",
      "13  0  0  0  0  0  0  0  0  0  0  ...  0  0  0  0  0  0  0  0  0  0\n",
      "14  0  0  0  0  0  0  0  0  0  0  ...  0  0  0  0  0  0  0  0  0  0\n",
      "15  0  0  0  0  0  0  0  0  0  0  ...  0  0  0  0  0  0  0  0  0  0\n",
      "16  0  0  0  0  0  0  0  0  0  0  ...  0  0  0  0  0  0  0  0  0  0\n",
      "17  0  0  0  0  0  0  0  0  0  0  ...  0  0  0  0  0  0  0  0  0  0\n",
      "18  0  0  0  0  0  0  0  0  0  0  ...  0  0  0  0  0  0  0  0  0  0\n",
      "19  0  0  0  0  0  0  0  0  0  0  ...  0  0  0  0  0  0  0  0  0  0\n",
      "20  0  0  0  0  0  0  0  0  0  0  ...  0  0  0  0  0  0  0  0  0  0\n",
      "21  0  0  0  0  0  0  0  0  0  1  ...  0  0  0  0  0  0  0  0  0  0\n",
      "22  0  0  0  0  0  0  0  0  0  0  ...  0  0  0  0  0  0  0  0  0  0\n",
      "23  0  0  0  0  0  0  0  0  0  0  ...  0  0  0  0  0  0  0  0  0  0\n",
      "24  0  0  0  0  0  0  0  0  0  0  ...  0  0  0  0  0  0  0  0  0  0\n",
      "25  0  0  0  0  0  0  0  0  0  0  ...  0  0  0  0  0  0  0  0  0  0\n",
      "26  0  0  1  0  0  0  0  0  0  0  ...  0  0  0  0  0  0  0  0  0  0\n",
      "27  0  0  0  0  0  0  0  0  0  0  ...  0  0  0  0  0  0  0  0  0  0\n",
      "28  0  0  0  0  0  0  0  0  0  0  ...  0  0  0  0  0  0  0  0  0  0\n",
      "29  0  1  0  0  0  0  0  0  0  0  ...  0  0  0  0  0  0  0  0  0  0\n",
      "30  0  0  0  0  0  0  0  0  0  0  ...  0  0  0  0  0  0  0  0  0  0\n",
      "31  0  0  0  0  0  0  0  0  0  0  ...  0  0  0  0  0  0  0  0  0  0\n",
      "32  0  0  0  0  0  0  0  0  0  0  ...  0  0  0  0  0  0  0  0  0  0\n",
      "33  0  0  0  0  0  0  0  0  0  0  ...  0  0  0  0  0  0  0  0  0  0\n",
      "34  0  0  0  0  0  0  0  0  0  0  ...  0  0  0  0  0  1  0  0  0  0\n",
      "35  0  0  0  0  0  0  0  0  0  0  ...  0  0  0  0  0  0  0  0  0  0\n",
      "36  0  0  0  0  0  0  0  0  0  0  ...  0  0  0  0  0  0  0  0  0  0\n",
      "37  0  0  0  0  0  0  0  0  0  0  ...  0  0  0  0  0  0  0  0  0  0\n",
      "38  0  0  0  0  0  0  0  0  0  0  ...  0  0  0  0  0  0  0  0  0  0\n",
      "39  0  0  0  0  0  0  0  0  0  0  ...  0  0  0  0  0  0  0  0  0  0\n",
      "40  0  0  0  0  0  0  0  0  0  0  ...  0  0  0  0  0  0  0  0  0  0\n",
      "41  0  0  0  0  0  0  0  0  0  0  ...  0  0  0  0  0  0  0  1  0  0\n",
      "42  0  0  0  0  0  0  0  0  0  0  ...  0  0  0  0  0  0  0  0  0  0\n",
      "43  0  0  0  0  0  0  0  0  0  0  ...  0  0  0  0  0  0  0  0  0  1\n",
      "44  0  0  0  0  0  0  0  0  0  0  ...  0  0  0  0  0  0  0  0  0  0\n",
      "45  0  0  0  0  0  0  0  0  0  0  ...  0  0  0  0  0  0  0  0  0  0\n",
      "46  0  0  0  0  0  0  0  0  0  0  ...  0  0  0  0  0  0  0  0  0  0\n",
      "47  0  0  0  0  0  0  0  0  0  0  ...  0  0  0  0  0  0  0  0  0  0\n",
      "\n",
      "[48 rows x 48 columns]\n",
      "\n",
      "\n",
      "2\n",
      "   0  1  2  3  4  5  6  7  8  9   ... 38 39 40 41 42 43 44 45 46 47\n",
      "0   0  0  0  0  0  0  0  0  0  0  ...  0  0  0  0  0  0  0  0  0  0\n",
      "1   0  0  0  0  0  0  0  0  0  0  ...  0  0  0  0  0  0  0  0  0  0\n",
      "2   0  0  0  0  0  0  0  0  0  0  ...  0  0  0  0  0  0  0  0  0  0\n",
      "3   1  0  0  0  0  0  0  0  0  0  ...  0  0  0  0  0  0  0  0  0  0\n",
      "4   0  0  0  0  0  0  0  1  0  0  ...  0  0  0  0  0  0  0  0  0  0\n",
      "5   0  0  0  0  0  0  0  0  0  0  ...  0  0  0  0  0  0  0  0  0  0\n",
      "6   0  0  0  0  0  0  0  0  0  0  ...  0  0  0  0  0  0  0  0  0  0\n",
      "7   0  0  0  0  0  0  0  0  0  0  ...  0  0  0  0  0  0  0  0  0  0\n",
      "8   0  0  0  0  0  0  0  0  0  0  ...  0  0  0  0  0  0  0  0  0  0\n",
      "9   0  0  0  0  0  0  0  0  0  0  ...  0  0  0  0  0  0  0  0  0  0\n",
      "10  0  0  0  0  0  0  0  0  0  0  ...  0  0  0  0  0  0  0  0  0  0\n",
      "11  0  0  0  0  0  0  0  0  0  0  ...  0  0  0  0  0  0  0  0  0  0\n",
      "12  0  0  0  0  0  0  0  0  0  0  ...  0  0  0  0  0  0  0  0  0  0\n",
      "13  0  0  0  0  0  0  0  0  0  0  ...  0  0  0  0  0  0  0  0  0  0\n",
      "14  0  0  0  0  0  0  0  0  0  0  ...  0  0  0  0  0  0  0  0  0  0\n",
      "15  0  0  0  0  0  0  0  0  0  0  ...  0  0  0  0  0  0  0  0  0  0\n",
      "16  0  0  0  0  0  0  0  0  0  0  ...  0  0  0  0  0  0  0  0  0  0\n",
      "17  0  0  0  0  0  0  0  0  0  0  ...  0  0  0  0  0  0  0  0  0  0\n",
      "18  0  0  0  1  0  0  0  0  0  0  ...  0  0  0  0  0  0  0  0  0  0\n",
      "19  0  0  0  0  0  0  0  0  0  0  ...  0  0  0  0  0  0  0  0  0  0\n",
      "20  0  0  0  0  0  0  0  0  0  0  ...  0  0  0  0  0  0  0  0  0  0\n",
      "21  0  0  0  0  0  0  0  0  0  0  ...  0  0  0  0  0  0  0  0  0  0\n",
      "22  0  0  0  0  0  0  0  0  0  0  ...  0  0  0  0  0  0  0  0  0  0\n",
      "23  0  0  0  0  0  0  0  0  0  0  ...  0  0  0  0  0  0  0  0  0  0\n",
      "24  0  0  0  0  0  0  0  0  0  0  ...  0  0  0  0  0  0  0  0  0  0\n",
      "25  0  0  0  0  0  0  0  0  0  0  ...  0  0  0  0  0  0  0  0  0  0\n",
      "26  0  0  0  0  0  0  0  0  0  0  ...  0  0  0  0  0  0  0  0  0  0\n",
      "27  0  0  0  0  0  0  0  0  0  0  ...  0  0  1  0  0  0  0  0  0  0\n",
      "28  0  0  0  0  1  0  0  0  0  0  ...  0  0  0  0  0  0  0  0  0  0\n",
      "29  0  0  0  0  0  0  0  0  0  0  ...  0  0  0  0  0  0  0  0  0  0\n",
      "30  0  0  0  0  0  0  0  0  0  0  ...  0  0  0  0  0  0  0  0  0  0\n",
      "31  0  0  0  0  0  0  0  0  0  0  ...  0  0  0  0  0  0  0  0  0  0\n",
      "32  0  0  0  0  0  0  0  0  0  0  ...  0  0  0  0  0  0  0  0  0  0\n",
      "33  0  0  0  0  0  0  0  0  0  0  ...  0  0  0  0  0  0  0  0  0  0\n",
      "34  0  0  0  0  0  0  0  0  0  0  ...  0  0  0  0  0  0  0  0  0  0\n",
      "35  0  0  0  0  0  0  0  0  0  0  ...  0  0  0  0  0  0  0  0  0  0\n",
      "36  0  0  0  0  0  0  0  0  0  0  ...  0  0  0  0  0  0  0  0  0  0\n",
      "37  0  0  0  0  0  0  0  0  0  0  ...  0  0  0  0  0  0  0  0  0  0\n",
      "38  0  0  0  0  0  0  0  0  0  0  ...  0  0  0  0  0  0  0  0  0  0\n",
      "39  0  0  0  0  0  0  0  0  0  0  ...  0  0  0  0  0  0  0  0  0  0\n",
      "40  0  0  0  0  0  0  0  0  0  0  ...  0  0  0  0  0  0  0  0  0  1\n",
      "41  0  0  0  0  0  0  0  0  0  0  ...  0  0  0  0  0  0  0  0  0  0\n",
      "42  0  0  0  0  0  0  0  0  0  0  ...  0  0  0  0  0  0  0  0  0  0\n",
      "43  0  0  0  0  0  0  0  0  0  0  ...  0  0  0  0  0  0  0  0  0  0\n",
      "44  0  0  0  0  0  0  0  0  0  0  ...  0  0  0  0  0  0  0  0  0  0\n",
      "45  0  0  0  0  0  0  0  0  0  0  ...  0  0  0  0  0  0  0  0  0  0\n",
      "46  0  0  0  0  0  0  0  0  0  0  ...  0  0  0  0  0  0  0  0  0  0\n",
      "47  0  0  0  0  0  0  0  0  0  0  ...  0  0  0  0  0  0  0  0  0  0\n",
      "\n",
      "[48 rows x 48 columns]\n",
      "\n",
      "\n"
     ]
    }
   ],
   "source": [
    "for c in range(m):\n",
    "    print(c)\n",
    "    rows = [i for i in range(n+1)]\n",
    "    adj_matrix = pd.DataFrame(columns=rows, index=rows)\n",
    "    for i in rows:\n",
    "        for j in rows:\n",
    "            adj_matrix.loc[i,j] = int(paths[c,i,j].X)\n",
    "    print(adj_matrix)\n",
    "    print('\\n')"
   ]
  },
  {
   "cell_type": "code",
   "execution_count": 453,
   "metadata": {},
   "outputs": [],
   "source": [
    "def find_path(adj_matrix, courier):\n",
    "    res = []\n",
    "    source = n\n",
    "    while True:\n",
    "        for dest in range(n+1):\n",
    "            if adj_matrix[courier, source, dest].X == 1:\n",
    "                if dest == n:\n",
    "                    return res\n",
    "                res.append(dest)\n",
    "                source = dest\n",
    "                break"
   ]
  },
  {
   "cell_type": "code",
   "execution_count": 454,
   "metadata": {},
   "outputs": [],
   "source": [
    "sol = []\n",
    "if model.SolCount > 0:\n",
    "    for c in range(m):\n",
    "        sol.append(find_path(paths,c))"
   ]
  },
  {
   "cell_type": "code",
   "execution_count": 455,
   "metadata": {},
   "outputs": [],
   "source": [
    "json_dict = {}\n",
    "json_dict['MIP'] = {}\n",
    "json_dict['MIP']['time'] = int(floor(model.Runtime + preprocessing_time.seconds)) if model.SolCount > 0 else time_limit\n",
    "json_dict['MIP']['optimal'] = True if (model.Runtime + preprocessing_time.seconds + safe_bound < time_limit) else False\n",
    "json_dict['MIP']['obj'] = int(model.ObjVal) if model.SolCount > 0 else None\n",
    "json_dict['MIP']['sol'] = sol\n",
    "\n",
    "with open(f'res/MIP/{str(int(innum))}.json', 'w') as outfile:\n",
    "    json.dump(json_dict, outfile)"
   ]
  }
 ],
 "metadata": {
  "kernelspec": {
   "display_name": "base",
   "language": "python",
   "name": "python3"
  },
  "language_info": {
   "codemirror_mode": {
    "name": "ipython",
    "version": 3
   },
   "file_extension": ".py",
   "mimetype": "text/x-python",
   "name": "python",
   "nbconvert_exporter": "python",
   "pygments_lexer": "ipython3",
   "version": "3.10.9"
  }
 },
 "nbformat": 4,
 "nbformat_minor": 2
}
