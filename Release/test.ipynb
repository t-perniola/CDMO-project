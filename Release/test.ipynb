{
 "cells": [
  {
   "cell_type": "markdown",
   "metadata": {},
   "source": [
    "# SAT Formulation for Multiple Couriers Planning"
   ]
  },
  {
   "cell_type": "markdown",
   "metadata": {},
   "source": [
    "## 1. Import Required Libraries and Utilities"
   ]
  },
  {
   "cell_type": "code",
   "execution_count": 1,
   "metadata": {},
   "outputs": [],
   "source": [
    "from z3 import BoolVal, Bool, Implies, And\n",
    "import numpy as np\n",
    "from utils2 import *  \n",
    "from encodings_utils import *\n",
    "import time"
   ]
  },
  {
   "cell_type": "markdown",
   "metadata": {},
   "source": [
    "## 2. Define the SAT Model for Multiple Couriers Planning"
   ]
  },
  {
   "cell_type": "code",
   "execution_count": 2,
   "metadata": {},
   "outputs": [],
   "source": [
    "# timer\n",
    "# optimality, \n",
    "# symmetry breaking, \n",
    "# cambiare le instanze con lower and upper bouns, \n",
    "# rivedere"
   ]
  },
  {
   "cell_type": "code",
   "execution_count": 3,
   "metadata": {},
   "outputs": [],
   "source": [
    "def mcp_sat(m, n, l, s, D, search='linear', time_limit=300000, symm_constr=False): \n",
    "    \n",
    "    start_time = time.time()\n",
    "    solver = Solver()\n",
    "    solver.set(\"random_seed\", 42)\n",
    "\n",
    "    deposit = n  \n",
    "    max_load = sum(s)\n",
    "    D_max = np.max(D)\n",
    "    s_max = max(s)\n",
    "    l_max = max(l)\n",
    "\n",
    "    # Variables\n",
    "    path = [[[Bool(f'p_{courier}_{package}_{step}') for step in range(n + 2)] for package in range(n + 1)] for courier in range(m)]\n",
    "    courier_weights = [[Bool(f'w_{courier}_{package}') for package in range(n)] for courier in range(m)]\n",
    "    courier_loads = [[Bool(f'cl_{courier}_{bit}') for bit in range(num_bits(max_load))] for courier in range(m)]\n",
    "    c_dist_tot = [[Bool(f'cdt_{courier}_{bit}') for bit in range(num_bits(D_max * (n + 1)))] for courier in range(m)]\n",
    "    max_dist_b = [Bool(f'max_d_{bit}') for bit in range(num_bits(D_max * (n + 1)))]\n",
    "    c_dist_par = [[[Bool(f\"cpt_{courier}_{step}_{bit}\") for bit in range(num_bits(D_max))] for step in range(n+1)] for courier in range(m)]\n",
    "\n",
    "    s_b = [int_to_bin(s_value, num_bits(s_max)) for s_value in s]\n",
    "    l_b = [int_to_bin(l_value, num_bits(l_max)) for l_value in l]\n",
    "    D_b = [[int_to_bin(D[i][j], num_bits(D_max)) for j in range(n+1)] for i in range(n+1)]\n",
    "    \n",
    "\n",
    "\n",
    "    # Constraints\n",
    "    for courier in range(m):\n",
    "        for step in range(n + 2):\n",
    "            solver.add(exactly_one_np([path[courier][package][step] for package in range(n + 1)]))\n",
    " \n",
    "    for package in range(n):\n",
    "       solver.add(exactly_one_np([path[courier][package][step] for courier in range(m) for step in range(n + 2)]))\n",
    "    \n",
    "    \n",
    "    for courier in range(m):\n",
    "        solver.add(path[courier][deposit][0] == True)\n",
    "        solver.add(path[courier][deposit][n + 1] == True)\n",
    "        solver.add(cond_sum_bin(s_b, courier_weights[courier], courier_loads[courier],f\"courier_load_{courier}\"))\n",
    "        solver.add(geq(l_b[courier],courier_loads[courier]))\n",
    "        \n",
    "        for step in range(n + 2):\n",
    "            for package in range(n):\n",
    "                solver.add(Implies(path[courier][package][step], courier_weights[courier][package]))\n",
    "\n",
    "\n",
    "    # Distance calculations\n",
    "    for courier in range(m):\n",
    "        for step in range(n + 1):\n",
    "            for package_start in range(n + 1):\n",
    "                for package_end in range(n + 1):\n",
    "                    solver.add(Implies(And(path[courier][package_start][step], path[courier][package_end][step+1]), \n",
    "                                  eq_bin(D_b[package_start][package_end],c_dist_par[courier][step])))                \n",
    "        solver.add(cond_sum_bin(c_dist_par[courier], [BoolVal(True) for _ in range(n+1)], c_dist_tot[courier], f\"def_courier_dist_{courier}\"))\n",
    "    solver.add(max_var(c_dist_tot, max_dist_b))\n",
    "\n",
    "\n",
    "    '''\n",
    "    #Symmetric breaking constraint\n",
    "    if symm_constr == True:\n",
    "        l_sorted = [(l[i],i) for i in range(len(l))]\n",
    "        l_sorted.sort(key = lambda x: x[0], reverse= True)\n",
    "\n",
    "        for i in range(m-1):\n",
    "            if l_sorted[i][0] == l_sorted[i+1][0]:\n",
    "\n",
    "                #S1 if the load of two couriers are equal then define the lexicographical order\n",
    "                solver.add(lex_leq(courier_weights[l_sorted[i][1]], courier_weights[l_sorted[i+1][1]]))\n",
    "\n",
    "            else:\n",
    "                #S2 if the load of the first courier is greater than the load of the second courier then impose an order\n",
    "                solver.add(geq(courier_loads[l_sorted[i][1]],courier_loads[l_sorted[i+1][1]]))\n",
    "    '''\n",
    "    \n",
    "    # Linear or binary search\n",
    "    if search == 'linear':\n",
    "        satisfiable = True\n",
    "        last_model = None\n",
    "        upper_bound = D_max * n\n",
    "        while satisfiable:\n",
    "            remaining_time = max(0, int((time_limit - (time.time() - start_time)) * 1000))  \n",
    "            solver.set(\"timeout\", 0)\n",
    "            solver.push()\n",
    "            solver.add(geq(int_to_bin(upper_bound, num_bits(D_max * n)), max_dist_b))\n",
    "            if solver.check() == sat:\n",
    "                model = solver.model()\n",
    "                last_model = model\n",
    "                upper_bound = bin_to_int([model[b] for b in max_dist_b]) \n",
    "                print(f\"Found solution with upper_bound: {upper_bound}\")\n",
    "            else:\n",
    "                satisfiable = False\n",
    "            solver.pop()\n",
    "        if last_model is None:\n",
    "            return time.time() - start_time, False, None, None\n",
    "        obj_value = bin_to_int([last_model[b] for b in max_dist_b])\n",
    "        print(f\"Final objective value: {obj_value}\")\n",
    "        return time.time() - start_time, True, obj_value, last_model\n",
    "    \n",
    "    elif search == 'binary':\n",
    "        lower_bound, upper_bound = 0, D_max * n\n",
    "        last_model = None\n",
    "        while upper_bound - lower_bound > 1:\n",
    "            remaining_time = max(0, int((time_limit - (time.time() - start_time)) * 1000))  \n",
    "            solver.set(\"timeout\", remaining_time)\n",
    "            mid = (upper_bound + lower_bound) // 2\n",
    "            solver.push()\n",
    "            solver.add(geq(int_to_bin(mid, num_bits(D_max * n)), max_dist_b))\n",
    "            if solver.check() == sat:\n",
    "                model = solver.model()\n",
    "                last_model = model\n",
    "                upper_bound = bin_to_int([model[b] for b in max_dist_b])\n",
    "                print(f\"Upper_bound: {upper_bound}\")\n",
    "            else:\n",
    "                lower_bound = mid\n",
    "            solver.pop()\n",
    "        if last_model is None:\n",
    "            return time.time() - start_time, False, None, None, search\n",
    "        obj_value = bin_to_int([last_model[b] for b in max_dist_b])\n",
    "        print(f\"Final objective value: {obj_value}\")\n",
    "        return time.time() - start_time, True, obj_value, last_model, search"
   ]
  },
  {
   "cell_type": "markdown",
   "metadata": {},
   "source": [
    "## 3. Example Usage"
   ]
  },
  {
   "cell_type": "code",
   "execution_count": 7,
   "metadata": {},
   "outputs": [
    {
     "name": "stdout",
     "output_type": "stream",
     "text": [
      "Upper_bound: 16\n",
      "Upper_bound: 14\n",
      "Final objective value: 14\n",
      "Solution: {'binary': {'time': 0, 'optimal': True, 'obj': 14, 'sol': [[4, 3, 1], [2, 5, 6]]}}\n"
     ]
    }
   ],
   "source": [
    "instance_num = \"01\"\n",
    "file_path = os.path.join('Instances', f'inst{instance_num}.dat')\n",
    "instance = read_dat_file(file_path)\n",
    "m = instance[\"m\"]  \n",
    "n = instance[\"n\"]  \n",
    "l = instance[\"l\"]  \n",
    "s = instance[\"s\"]\n",
    "D = instance[\"D\"]  \n",
    "\n",
    "time_taken, opt, obj_value, solution, search = mcp_sat(m, n, l, s, D, search='binary', symm_constr=False)\n",
    "if solution:\n",
    "    depot = n\n",
    "    solution = refineSol(time_taken, opt, obj_value, solution, search, depot)\n",
    "    print('Solution:', solution)\n",
    "else:\n",
    "    print('No solution found')"
   ]
  }
 ],
 "metadata": {
  "kernelspec": {
   "display_name": "Python 3",
   "language": "python",
   "name": "python3"
  },
  "language_info": {
   "codemirror_mode": {
    "name": "ipython",
    "version": 3
   },
   "file_extension": ".py",
   "mimetype": "text/x-python",
   "name": "python",
   "nbconvert_exporter": "python",
   "pygments_lexer": "ipython3",
   "version": "3.9.6"
  }
 },
 "nbformat": 4,
 "nbformat_minor": 2
}
